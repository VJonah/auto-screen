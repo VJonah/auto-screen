{
 "cells": [
  {
   "cell_type": "markdown",
   "id": "e11b19b3-1280-423d-a96d-c397e72bebe0",
   "metadata": {},
   "source": [
    "# It's time to...T-T-T TRAIN!\n",
    "\n",
    "We've got a rudimentary pipeline we think will be relatively effective. \n",
    "\n",
    "It's time we explored some training.\n",
    "\n",
    "Before that though, let's get a benchmark of how the program/module performs untrained."
   ]
  },
  {
   "cell_type": "code",
   "execution_count": 1,
   "id": "7557393d-5275-4511-8f47-4089dc89fc0d",
   "metadata": {},
   "outputs": [
    {
     "name": "stderr",
     "output_type": "stream",
     "text": [
      "/home/j/Sync/Roam/Areas/Uni/Dissertation/auto-screen/.venv/lib/python3.10/site-packages/tqdm/auto.py:21: TqdmWarning: IProgress not found. Please update jupyter and ipywidgets. See https://ipywidgets.readthedocs.io/en/stable/user_install.html\n",
      "  from .autonotebook import tqdm as notebook_tqdm\n"
     ]
    }
   ],
   "source": [
    "# local imports\n",
    "from modules import ClassifyByInclusionExclusion\n",
    "from data import get_synergy_data, create_batched_devset, NON_BIOMED_SRs\n",
    "from metrics import batch_sr_eval, f1_evaluate, validate_all_criteria\n",
    "\n",
    "# pkg imports\n",
    "import dspy\n",
    "\n",
    "from imblearn.under_sampling import RandomUnderSampler"
   ]
  },
  {
   "cell_type": "code",
   "execution_count": 2,
   "id": "06af5880-2e5a-4bcd-afa0-1191c851da28",
   "metadata": {},
   "outputs": [
    {
     "data": {
      "text/html": [
       "<div>\n",
       "<style scoped>\n",
       "    .dataframe tbody tr th:only-of-type {\n",
       "        vertical-align: middle;\n",
       "    }\n",
       "\n",
       "    .dataframe tbody tr th {\n",
       "        vertical-align: top;\n",
       "    }\n",
       "\n",
       "    .dataframe thead th {\n",
       "        text-align: right;\n",
       "    }\n",
       "</style>\n",
       "<table border=\"1\" class=\"dataframe\">\n",
       "  <thead>\n",
       "    <tr style=\"text-align: right;\">\n",
       "      <th></th>\n",
       "      <th>doi</th>\n",
       "      <th>SR_id</th>\n",
       "      <th>SR_title</th>\n",
       "      <th>title</th>\n",
       "      <th>abstract</th>\n",
       "      <th>label_included</th>\n",
       "      <th>relevant</th>\n",
       "    </tr>\n",
       "  </thead>\n",
       "  <tbody>\n",
       "    <tr>\n",
       "      <th>0</th>\n",
       "      <td>https://doi.org/10.1109/indcon.2010.5712716</td>\n",
       "      <td>Hall_2012</td>\n",
       "      <td>A Systematic Literature Review on Fault Predic...</td>\n",
       "      <td>Computer vision based offset error computation...</td>\n",
       "      <td>The use of computer vision based approach has ...</td>\n",
       "      <td>0</td>\n",
       "      <td>False</td>\n",
       "    </tr>\n",
       "    <tr>\n",
       "      <th>1</th>\n",
       "      <td>https://doi.org/10.1109/induscon.2010.5740045</td>\n",
       "      <td>Hall_2012</td>\n",
       "      <td>A Systematic Literature Review on Fault Predic...</td>\n",
       "      <td>Design and development of a software for fault...</td>\n",
       "      <td>This paper presents an on-line fault diagnosis...</td>\n",
       "      <td>0</td>\n",
       "      <td>False</td>\n",
       "    </tr>\n",
       "    <tr>\n",
       "      <th>2</th>\n",
       "      <td>https://doi.org/10.1109/tpwrd.2005.848672</td>\n",
       "      <td>Hall_2012</td>\n",
       "      <td>A Systematic Literature Review on Fault Predic...</td>\n",
       "      <td>Analytical Approach to Internal Fault Simulati...</td>\n",
       "      <td>A new method for simulating faulted transforme...</td>\n",
       "      <td>0</td>\n",
       "      <td>False</td>\n",
       "    </tr>\n",
       "    <tr>\n",
       "      <th>3</th>\n",
       "      <td>https://doi.org/10.1109/icelmach.2008.4799852</td>\n",
       "      <td>Hall_2012</td>\n",
       "      <td>A Systematic Literature Review on Fault Predic...</td>\n",
       "      <td>Nonlinear equivalent circuit model of a tracti...</td>\n",
       "      <td>The paper presents the development of an equiv...</td>\n",
       "      <td>0</td>\n",
       "      <td>False</td>\n",
       "    </tr>\n",
       "    <tr>\n",
       "      <th>4</th>\n",
       "      <td>https://doi.org/10.1109/ipdps.2006.1639408</td>\n",
       "      <td>Hall_2012</td>\n",
       "      <td>A Systematic Literature Review on Fault Predic...</td>\n",
       "      <td>Fault tolerance with real-time Java</td>\n",
       "      <td>After having drawn up a state of the art on th...</td>\n",
       "      <td>0</td>\n",
       "      <td>False</td>\n",
       "    </tr>\n",
       "    <tr>\n",
       "      <th>...</th>\n",
       "      <td>...</td>\n",
       "      <td>...</td>\n",
       "      <td>...</td>\n",
       "      <td>...</td>\n",
       "      <td>...</td>\n",
       "      <td>...</td>\n",
       "      <td>...</td>\n",
       "    </tr>\n",
       "    <tr>\n",
       "      <th>66482</th>\n",
       "      <td>https://doi.org/10.1109/ictai.2010.27</td>\n",
       "      <td>Radjenovic_2013</td>\n",
       "      <td>Software fault prediction metrics: A systemati...</td>\n",
       "      <td>Attribute Selection and Imbalanced Data: Probl...</td>\n",
       "      <td>The data mining and machine learning community...</td>\n",
       "      <td>0</td>\n",
       "      <td>False</td>\n",
       "    </tr>\n",
       "    <tr>\n",
       "      <th>66483</th>\n",
       "      <td>https://doi.org/10.1109/acc.2001.945656</td>\n",
       "      <td>Radjenovic_2013</td>\n",
       "      <td>Software fault prediction metrics: A systemati...</td>\n",
       "      <td>Benchmarking of advanced technologies for proc...</td>\n",
       "      <td>Global competition is forcing industrial plant...</td>\n",
       "      <td>0</td>\n",
       "      <td>False</td>\n",
       "    </tr>\n",
       "    <tr>\n",
       "      <th>66484</th>\n",
       "      <td>https://doi.org/10.1109/icsess.2010.5552438</td>\n",
       "      <td>Radjenovic_2013</td>\n",
       "      <td>Software fault prediction metrics: A systemati...</td>\n",
       "      <td>Queueing models based performance evaluation a...</td>\n",
       "      <td>Since queueing is a common behavior in compute...</td>\n",
       "      <td>0</td>\n",
       "      <td>False</td>\n",
       "    </tr>\n",
       "    <tr>\n",
       "      <th>66485</th>\n",
       "      <td>https://doi.org/10.1109/wicom.2011.6040617</td>\n",
       "      <td>Radjenovic_2013</td>\n",
       "      <td>Software fault prediction metrics: A systemati...</td>\n",
       "      <td>A New Face Detection Method with GA-BP Neural ...</td>\n",
       "      <td>In this paper, the BP neural network improved ...</td>\n",
       "      <td>0</td>\n",
       "      <td>False</td>\n",
       "    </tr>\n",
       "    <tr>\n",
       "      <th>66486</th>\n",
       "      <td>https://doi.org/10.1109/cgo.2011.5764670</td>\n",
       "      <td>Radjenovic_2013</td>\n",
       "      <td>Software fault prediction metrics: A systemati...</td>\n",
       "      <td>Phase-based tuning for better utilization of p...</td>\n",
       "      <td>The latest trend towards performance asymmetry...</td>\n",
       "      <td>0</td>\n",
       "      <td>False</td>\n",
       "    </tr>\n",
       "  </tbody>\n",
       "</table>\n",
       "<p>17508 rows × 7 columns</p>\n",
       "</div>"
      ],
      "text/plain": [
       "                                                 doi            SR_id  \\\n",
       "0        https://doi.org/10.1109/indcon.2010.5712716        Hall_2012   \n",
       "1      https://doi.org/10.1109/induscon.2010.5740045        Hall_2012   \n",
       "2          https://doi.org/10.1109/tpwrd.2005.848672        Hall_2012   \n",
       "3      https://doi.org/10.1109/icelmach.2008.4799852        Hall_2012   \n",
       "4         https://doi.org/10.1109/ipdps.2006.1639408        Hall_2012   \n",
       "...                                              ...              ...   \n",
       "66482          https://doi.org/10.1109/ictai.2010.27  Radjenovic_2013   \n",
       "66483        https://doi.org/10.1109/acc.2001.945656  Radjenovic_2013   \n",
       "66484    https://doi.org/10.1109/icsess.2010.5552438  Radjenovic_2013   \n",
       "66485     https://doi.org/10.1109/wicom.2011.6040617  Radjenovic_2013   \n",
       "66486       https://doi.org/10.1109/cgo.2011.5764670  Radjenovic_2013   \n",
       "\n",
       "                                                SR_title  \\\n",
       "0      A Systematic Literature Review on Fault Predic...   \n",
       "1      A Systematic Literature Review on Fault Predic...   \n",
       "2      A Systematic Literature Review on Fault Predic...   \n",
       "3      A Systematic Literature Review on Fault Predic...   \n",
       "4      A Systematic Literature Review on Fault Predic...   \n",
       "...                                                  ...   \n",
       "66482  Software fault prediction metrics: A systemati...   \n",
       "66483  Software fault prediction metrics: A systemati...   \n",
       "66484  Software fault prediction metrics: A systemati...   \n",
       "66485  Software fault prediction metrics: A systemati...   \n",
       "66486  Software fault prediction metrics: A systemati...   \n",
       "\n",
       "                                                   title  \\\n",
       "0      Computer vision based offset error computation...   \n",
       "1      Design and development of a software for fault...   \n",
       "2      Analytical Approach to Internal Fault Simulati...   \n",
       "3      Nonlinear equivalent circuit model of a tracti...   \n",
       "4                    Fault tolerance with real-time Java   \n",
       "...                                                  ...   \n",
       "66482  Attribute Selection and Imbalanced Data: Probl...   \n",
       "66483  Benchmarking of advanced technologies for proc...   \n",
       "66484  Queueing models based performance evaluation a...   \n",
       "66485  A New Face Detection Method with GA-BP Neural ...   \n",
       "66486  Phase-based tuning for better utilization of p...   \n",
       "\n",
       "                                                abstract  label_included  \\\n",
       "0      The use of computer vision based approach has ...               0   \n",
       "1      This paper presents an on-line fault diagnosis...               0   \n",
       "2      A new method for simulating faulted transforme...               0   \n",
       "3      The paper presents the development of an equiv...               0   \n",
       "4      After having drawn up a state of the art on th...               0   \n",
       "...                                                  ...             ...   \n",
       "66482  The data mining and machine learning community...               0   \n",
       "66483  Global competition is forcing industrial plant...               0   \n",
       "66484  Since queueing is a common behavior in compute...               0   \n",
       "66485  In this paper, the BP neural network improved ...               0   \n",
       "66486  The latest trend towards performance asymmetry...               0   \n",
       "\n",
       "       relevant  \n",
       "0         False  \n",
       "1         False  \n",
       "2         False  \n",
       "3         False  \n",
       "4         False  \n",
       "...         ...  \n",
       "66482     False  \n",
       "66483     False  \n",
       "66484     False  \n",
       "66485     False  \n",
       "66486     False  \n",
       "\n",
       "[17508 rows x 7 columns]"
      ]
     },
     "execution_count": 2,
     "metadata": {},
     "output_type": "execute_result"
    }
   ],
   "source": [
    "# we just need our development set to make sure things are working\n",
    "non_biomeds_df = get_synergy_data(NON_BIOMED_SRs)\n",
    "non_biomeds_df"
   ]
  },
  {
   "cell_type": "code",
   "execution_count": 3,
   "id": "2c857f11-78f6-4670-b34a-bfbe340d1b4a",
   "metadata": {},
   "outputs": [],
   "source": [
    "devset = create_batched_devset(non_biomeds_df, size=75) "
   ]
  },
  {
   "cell_type": "code",
   "execution_count": 4,
   "id": "f2a1d57e-becf-4c63-88b0-b0d0ddf4fef8",
   "metadata": {},
   "outputs": [
    {
     "data": {
      "text/plain": [
       "['Hello world!\\n']"
      ]
     },
     "execution_count": 4,
     "metadata": {},
     "output_type": "execute_result"
    }
   ],
   "source": [
    "# configuring our local gemma3 model\n",
    "lm = dspy.LM('ollama_chat/gemma3:4b-it-qat', api_base='http://localhost:11434', api_key='')\n",
    "dspy.configure(lm=lm)\n",
    "# testing out the LM\n",
    "lm(\"Say 'Hello world!'\", temperature=0.7) "
   ]
  },
  {
   "cell_type": "code",
   "execution_count": null,
   "id": "18ab6820-5f4f-4b59-a765-b21045f8e3df",
   "metadata": {},
   "outputs": [
    {
     "name": "stdout",
     "output_type": "stream",
     "text": [
      "Batch: Hall_2012\n"
     ]
    },
    {
     "name": "stderr",
     "output_type": "stream",
     "text": [
      "F1 Score: 0.500 100%|██████████████████████████████████████████████████████████████'| 75/75 [05:38<00:00, ' ' 4.51s/it]'\n"
     ]
    },
    {
     "name": "stdout",
     "output_type": "stream",
     "text": [
      "Confusion Matrix: Counter({'TN': 36, 'FN': 24, 'TP': 13, 'FP': 2})\n",
      "Precision: 0.867\n",
      "Recall: 0.351\n",
      "F1: 0.500\n",
      "MCC: 0.373\n",
      "Specificity: 0.973\n",
      "Batch: Smid_2020\n"
     ]
    },
    {
     "name": "stderr",
     "output_type": "stream",
     "text": [
      "F1 Score: 0.286 100%|██████████████████████████████████████████████████████████████'| 75/75 [05:08<00:00, ' ' 4.12s/it]'\n"
     ]
    },
    {
     "name": "stdout",
     "output_type": "stream",
     "text": [
      "Confusion Matrix: Counter({'TN': 69, 'FN': 3, 'FP': 2, 'TP': 1})\n",
      "Precision: 0.333\n",
      "Recall: 0.250\n",
      "F1: 0.286\n",
      "MCC: 0.254\n",
      "Specificity: 0.973\n",
      "Batch: Radjenovic_2013\n"
     ]
    },
    {
     "name": "stderr",
     "output_type": "stream",
     "text": [
      "F1 Score: 0.400 100%|██████████████████████████████████████████████████████████████'| 75/75 [03:34<00:00, ' ' 2.86s/it]'\n"
     ]
    },
    {
     "name": "stdout",
     "output_type": "stream",
     "text": [
      "Confusion Matrix: Counter({'TN': 71, 'FP': 2, 'TP': 1, 'FN': 1})\n",
      "Precision: 0.333\n",
      "Recall: 0.500\n",
      "F1: 0.400\n",
      "MCC: 0.389\n",
      "Specificity: 0.973\n",
      "Batch: Sep_2021\n"
     ]
    },
    {
     "name": "stderr",
     "output_type": "stream",
     "text": [
      "F1 Score: nan  16%|██████████▏                                                     '| 12/75 [00:46<03:34, ' ' 3.40s/it]'"
     ]
    }
   ],
   "source": [
    "# testing the old model on the devset\n",
    "# TODO we need to implement a Batch Module and a normal one for Training \n",
    "batch_sr_eval(ClassifyByInclusionExclusion(), devset)"
   ]
  },
  {
   "cell_type": "markdown",
   "id": "1846f93b-25ce-4ea2-be59-d415371a96b4",
   "metadata": {},
   "source": [
    "## Now, we train.\n",
    "\n",
    "Let's get the dataset together before looking at optimisation strategies."
   ]
  },
  {
   "cell_type": "code",
   "execution_count": 6,
   "id": "a7a6eef8-6cfd-4f7a-86f4-8bf49dc2b9e3",
   "metadata": {},
   "outputs": [],
   "source": [
    "# SR_ids of biomed systematic reviews\n",
    "biomed_srs = {\n",
    "    'Appenzeller-Herzog_2019', 'Bos_2018',\n",
    "    'Brouwer_2019', 'Chou_2003',\n",
    "    'Chou_2004', 'Donners_2021',\n",
    "    'Jeyaraman_2020', 'Leenaars_2019',\n",
    "    'Leenaars_2020', 'Meijboom_2021',\n",
    "    'Menon_2022', 'Moran_2021',\n",
    "    'Muthu_2021', 'Nelson_2002',\n",
    "    'Oud_2018', 'Walker_2018',\n",
    "    'Wassenaar_2017', 'Wolters_2018',\n",
    "    'van_Dis_2020', 'van_der_Valk_2021',\n",
    "    'van_der_Waal_2022', 'van_de_Schoot_2018',\n",
    "\n",
    "}"
   ]
  },
  {
   "cell_type": "code",
   "execution_count": 7,
   "id": "0688a70a-fbbe-4873-9c56-87002e802ff2",
   "metadata": {},
   "outputs": [],
   "source": [
    "# get the synergy biomed SRs' data\n",
    "biomeds_df = get_synergy_data(biomed_srs)"
   ]
  },
  {
   "cell_type": "code",
   "execution_count": 8,
   "id": "28c40499-6806-4097-8c4a-9bbf2151bb1a",
   "metadata": {},
   "outputs": [],
   "source": [
    "trainset = create_batched_devset(biomeds_df, size=50)"
   ]
  },
  {
   "cell_type": "markdown",
   "id": "09cb8f39-1cdd-495b-9c4b-be7bc4bcf8ed",
   "metadata": {},
   "source": [
    "### BootstrapFewShotWithRandomSearch\n",
    "\n",
    "This is where we start before moving on to MIPROVv2 and potentially finetuning."
   ]
  },
  {
   "cell_type": "code",
   "execution_count": 15,
   "id": "ad7f2b15-ec9d-4c08-be62-3f8ab05a5ff5",
   "metadata": {},
   "outputs": [],
   "source": [
    "from dspy.teleprompt import BootstrapFewShotWithRandomSearch\n",
    "from signatures import InclusionExclusionCriteria, CheckCriteria"
   ]
  },
  {
   "cell_type": "code",
   "execution_count": 22,
   "id": "118737ec-9086-4b46-a743-dcde002e3072",
   "metadata": {},
   "outputs": [],
   "source": [
    "config = dict(max_bootstrapped_demos=4, max_labeled_demos=4, num_candidate_programs=8)"
   ]
  },
  {
   "cell_type": "code",
   "execution_count": 23,
   "id": "72c132f9-54da-4c13-9998-d73a42fbe1fe",
   "metadata": {},
   "outputs": [],
   "source": [
    "def validate_all_criteria_match(example,\n",
    "                                pred,\n",
    "                                trace=None) -> bool:\n",
    "    return example.relevant == all(pred.satisfied)"
   ]
  },
  {
   "cell_type": "code",
   "execution_count": 24,
   "id": "03744f25-1012-485d-961c-847bdb6ce4d2",
   "metadata": {},
   "outputs": [],
   "source": [
    "class NeoInclusionExclusionCriteria(dspy.Signature):\n",
    "    \"\"\"\n",
    "    Output a set of inclusion/exclusion criteria for the screening of a systematic review.\n",
    "    \"\"\"\n",
    "\n",
    "    systematic_review_title: str = dspy.InputField()\n",
    "    criteria: list[str] = dspy.OutputField(desc=\"Inclusion/exclusion criteria and their descrptions.\")\n",
    "\n",
    "class NeoCheckCriteria(dspy.Signature):\n",
    "    \"\"\"Verify which criteria are satisfied by the title and abstract of a candidate citation.\"\"\"\n",
    "\n",
    "    criteria: list[str] = dspy.InputField()\n",
    "    citation_title: str = dspy.InputField()\n",
    "    citation_abstract: str = dspy.InputField()\n",
    "    satisfied: list[bool] = dspy.OutputField(desc=\"Whether each criteria is satisfied or not.\")"
   ]
  },
  {
   "cell_type": "code",
   "execution_count": 25,
   "id": "b941d77c-fef6-4baf-9a4a-f13b7cd1e9a5",
   "metadata": {},
   "outputs": [],
   "source": [
    "class NeoClassifyByInclusionExclusion(dspy.Module):\n",
    "    def __init__(self):\n",
    "        self.generate_criteria = dspy.ChainOfThought(NeoInclusionExclusionCriteria)\n",
    "        self.evaluate_criteria = dspy.ChainOfThought(NeoCheckCriteria)\n",
    "\n",
    "    def forward(self, sr_title: str, citation_title: str, citation_abstract: str):\n",
    "        criteria = self.generate_criteria(\n",
    "            systematic_review_title=sr_title\n",
    "        ).criteria\n",
    "        return self.evaluate_criteria(criteria=criteria,\n",
    "                                      citation_title=citation_title,\n",
    "                                      citation_abstract=citation_abstract)"
   ]
  },
  {
   "cell_type": "code",
   "execution_count": 26,
   "id": "d2c6537a-e981-4cfa-a255-f3089eafacda",
   "metadata": {},
   "outputs": [],
   "source": [
    "neotrainset = []\n",
    "for sr_id, data in trainset.items():\n",
    "    sr_title, data = data[0], data[1:][0]\n",
    "    neotrainset += [dspy.Example(sr_title=sr_title,  \n",
    "                                 citation_title=e.citation_title, \n",
    "                                 citation_abstract=e.citation_abstract, \n",
    "                                 relevant=e.relevant)\\\n",
    "                    .with_inputs('sr_title', 'citation_title', 'citation_abstract')\n",
    "                    for e in data]"
   ]
  },
  {
   "cell_type": "code",
   "execution_count": 27,
   "id": "c7bf0471-cade-4749-b87e-d8e09419e0cc",
   "metadata": {},
   "outputs": [
    {
     "name": "stdout",
     "output_type": "stream",
     "text": [
      "Going to sample between 1 and 4 traces per predictor.\n",
      "Will attempt to bootstrap 8 candidate sets.\n"
     ]
    }
   ],
   "source": [
    "teleprompter = BootstrapFewShotWithRandomSearch(metric=validate_all_criteria_match, **config)"
   ]
  },
  {
   "cell_type": "code",
   "execution_count": 28,
   "id": "99511634-fe3e-4c8e-9b14-80549e9c6cf0",
   "metadata": {},
   "outputs": [
    {
     "name": "stdout",
     "output_type": "stream",
     "text": [
      "Average Metric: 763.00 / 1100 (69.4%): 100%|████████████████████████████████████████| 1100/1100 [00:11<00:00, 92.51it/s]"
     ]
    },
    {
     "name": "stderr",
     "output_type": "stream",
     "text": [
      "2025/04/22 16:22:04 INFO dspy.evaluate.evaluate: Average Metric: 763 / 1100 (69.4%)\n"
     ]
    },
    {
     "name": "stdout",
     "output_type": "stream",
     "text": [
      "\n",
      "New best score: 69.36 for seed -3\n",
      "Scores so far: [np.float64(69.36)]\n",
      "Best score so far: 69.36\n",
      "Average Metric: 763.00 / 1100 (69.4%): 100%|███████████████████████████████████████| 1100/1100 [00:10<00:00, 104.84it/s]"
     ]
    },
    {
     "name": "stderr",
     "output_type": "stream",
     "text": [
      "2025/04/22 16:22:15 INFO dspy.evaluate.evaluate: Average Metric: 763 / 1100 (69.4%)\n"
     ]
    },
    {
     "name": "stdout",
     "output_type": "stream",
     "text": [
      "\n",
      "Scores so far: [np.float64(69.36), np.float64(69.36)]\n",
      "Best score so far: 69.36\n"
     ]
    },
    {
     "name": "stderr",
     "output_type": "stream",
     "text": [
      "  0%|▎                                                                                 | 4/1100 [00:03<17:28,  1.05it/s]\n"
     ]
    },
    {
     "name": "stdout",
     "output_type": "stream",
     "text": [
      "Bootstrapped 4 full traces after 4 examples for up to 1 rounds, amounting to 4 attempts.\n",
      "Average Metric: 814.00 / 1100 (74.0%): 100%|██████████████████████████████████████| 1100/1100 [1:31:31<00:00,  4.99s/it]"
     ]
    },
    {
     "name": "stderr",
     "output_type": "stream",
     "text": [
      "2025/04/22 17:53:50 INFO dspy.evaluate.evaluate: Average Metric: 814 / 1100 (74.0%)\n"
     ]
    },
    {
     "name": "stdout",
     "output_type": "stream",
     "text": [
      "\n",
      "New best score: 74.0 for seed -1\n",
      "Scores so far: [np.float64(69.36), np.float64(69.36), np.float64(74.0)]\n",
      "Best score so far: 74.0\n"
     ]
    },
    {
     "name": "stderr",
     "output_type": "stream",
     "text": [
      "  0%|▎                                                                                | 5/1100 [00:00<00:02, 393.82it/s]\n"
     ]
    },
    {
     "name": "stdout",
     "output_type": "stream",
     "text": [
      "Bootstrapped 4 full traces after 5 examples for up to 1 rounds, amounting to 5 attempts.\n",
      "Average Metric: 794.00 / 1100 (72.2%): 100%|██████████████████████████████████████| 1100/1100 [1:07:45<00:00,  3.70s/it]"
     ]
    },
    {
     "name": "stderr",
     "output_type": "stream",
     "text": [
      "2025/04/22 19:01:35 INFO dspy.evaluate.evaluate: Average Metric: 794 / 1100 (72.2%)\n"
     ]
    },
    {
     "name": "stdout",
     "output_type": "stream",
     "text": [
      "\n",
      "Scores so far: [np.float64(69.36), np.float64(69.36), np.float64(74.0), np.float64(72.18)]\n",
      "Best score so far: 74.0\n"
     ]
    },
    {
     "name": "stderr",
     "output_type": "stream",
     "text": [
      "  0%|▏                                                                                | 2/1100 [00:00<00:05, 197.02it/s]\n"
     ]
    },
    {
     "name": "stdout",
     "output_type": "stream",
     "text": [
      "Bootstrapped 2 full traces after 2 examples for up to 1 rounds, amounting to 2 attempts.\n",
      "Average Metric: 735.00 / 1100 (66.8%): 100%|████████████████████████████████████████| 1100/1100 [47:23<00:00,  2.59s/it]"
     ]
    },
    {
     "name": "stderr",
     "output_type": "stream",
     "text": [
      "2025/04/22 19:48:59 INFO dspy.evaluate.evaluate: Average Metric: 735 / 1100 (66.8%)\n"
     ]
    },
    {
     "name": "stdout",
     "output_type": "stream",
     "text": [
      "\n",
      "Scores so far: [np.float64(69.36), np.float64(69.36), np.float64(74.0), np.float64(72.18), np.float64(66.82)]\n",
      "Best score so far: 74.0\n"
     ]
    },
    {
     "name": "stderr",
     "output_type": "stream",
     "text": [
      "  0%|▏                                                                                | 2/1100 [00:00<00:03, 311.59it/s]\n"
     ]
    },
    {
     "name": "stdout",
     "output_type": "stream",
     "text": [
      "Bootstrapped 1 full traces after 2 examples for up to 1 rounds, amounting to 2 attempts.\n",
      "Average Metric: 782.00 / 1100 (71.1%): 100%|██████████████████████████████████████| 1100/1100 [1:22:08<00:00,  4.48s/it]"
     ]
    },
    {
     "name": "stderr",
     "output_type": "stream",
     "text": [
      "2025/04/22 21:11:07 INFO dspy.evaluate.evaluate: Average Metric: 782 / 1100 (71.1%)\n"
     ]
    },
    {
     "name": "stdout",
     "output_type": "stream",
     "text": [
      "\n",
      "Scores so far: [np.float64(69.36), np.float64(69.36), np.float64(74.0), np.float64(72.18), np.float64(66.82), np.float64(71.09)]\n",
      "Best score so far: 74.0\n"
     ]
    },
    {
     "name": "stderr",
     "output_type": "stream",
     "text": [
      "  0%|▏                                                                                | 2/1100 [00:00<00:04, 231.05it/s]"
     ]
    },
    {
     "name": "stdout",
     "output_type": "stream",
     "text": [
      "Bootstrapped 2 full traces after 2 examples for up to 1 rounds, amounting to 2 attempts.\n"
     ]
    },
    {
     "name": "stderr",
     "output_type": "stream",
     "text": [
      "\n"
     ]
    },
    {
     "name": "stdout",
     "output_type": "stream",
     "text": [
      "Average Metric: 822.00 / 1100 (74.7%): 100%|██████████████████████████████████████| 1100/1100 [2:18:03<00:00,  7.53s/it]"
     ]
    },
    {
     "name": "stderr",
     "output_type": "stream",
     "text": [
      "2025/04/22 23:29:11 INFO dspy.evaluate.evaluate: Average Metric: 822 / 1100 (74.7%)\n"
     ]
    },
    {
     "name": "stdout",
     "output_type": "stream",
     "text": [
      "\n",
      "New best score: 74.73 for seed 3\n",
      "Scores so far: [np.float64(69.36), np.float64(69.36), np.float64(74.0), np.float64(72.18), np.float64(66.82), np.float64(71.09), np.float64(74.73)]\n",
      "Best score so far: 74.73\n"
     ]
    },
    {
     "name": "stderr",
     "output_type": "stream",
     "text": [
      "  0%|▏                                                                                | 2/1100 [00:00<00:05, 217.01it/s]"
     ]
    },
    {
     "name": "stdout",
     "output_type": "stream",
     "text": [
      "Bootstrapped 2 full traces after 2 examples for up to 1 rounds, amounting to 2 attempts.\n"
     ]
    },
    {
     "name": "stderr",
     "output_type": "stream",
     "text": [
      "\n"
     ]
    },
    {
     "name": "stdout",
     "output_type": "stream",
     "text": [
      "Average Metric: 762.00 / 1100 (69.3%): 100%|██████████████████████████████████████| 1100/1100 [1:22:14<00:00,  4.49s/it]"
     ]
    },
    {
     "name": "stderr",
     "output_type": "stream",
     "text": [
      "2025/04/23 00:51:25 INFO dspy.evaluate.evaluate: Average Metric: 762 / 1100 (69.3%)\n"
     ]
    },
    {
     "name": "stdout",
     "output_type": "stream",
     "text": [
      "\n",
      "Scores so far: [np.float64(69.36), np.float64(69.36), np.float64(74.0), np.float64(72.18), np.float64(66.82), np.float64(71.09), np.float64(74.73), np.float64(69.27)]\n",
      "Best score so far: 74.73\n"
     ]
    },
    {
     "name": "stderr",
     "output_type": "stream",
     "text": [
      "  0%|▎                                                                                | 4/1100 [00:00<00:03, 274.67it/s]"
     ]
    },
    {
     "name": "stdout",
     "output_type": "stream",
     "text": [
      "Bootstrapped 3 full traces after 4 examples for up to 1 rounds, amounting to 4 attempts.\n"
     ]
    },
    {
     "name": "stderr",
     "output_type": "stream",
     "text": [
      "\n"
     ]
    },
    {
     "name": "stdout",
     "output_type": "stream",
     "text": [
      "Average Metric: 762.00 / 1100 (69.3%): 100%|██████████████████████████████████████| 1100/1100 [1:36:55<00:00,  5.29s/it]"
     ]
    },
    {
     "name": "stderr",
     "output_type": "stream",
     "text": [
      "2025/04/23 02:28:22 INFO dspy.evaluate.evaluate: Average Metric: 762 / 1100 (69.3%)\n"
     ]
    },
    {
     "name": "stdout",
     "output_type": "stream",
     "text": [
      "\n",
      "Scores so far: [np.float64(69.36), np.float64(69.36), np.float64(74.0), np.float64(72.18), np.float64(66.82), np.float64(71.09), np.float64(74.73), np.float64(69.27), np.float64(69.27)]\n",
      "Best score so far: 74.73\n"
     ]
    },
    {
     "name": "stderr",
     "output_type": "stream",
     "text": [
      "  0%|                                                                                 | 1/1100 [00:00<00:03, 319.40it/s]"
     ]
    },
    {
     "name": "stdout",
     "output_type": "stream",
     "text": [
      "Bootstrapped 1 full traces after 1 examples for up to 1 rounds, amounting to 1 attempts.\n"
     ]
    },
    {
     "name": "stderr",
     "output_type": "stream",
     "text": [
      "\n"
     ]
    },
    {
     "name": "stdout",
     "output_type": "stream",
     "text": [
      "Average Metric: 809.00 / 1100 (73.5%): 100%|██████████████████████████████████████| 1100/1100 [1:24:59<00:00,  4.64s/it]"
     ]
    },
    {
     "name": "stderr",
     "output_type": "stream",
     "text": [
      "2025/04/23 03:53:22 INFO dspy.evaluate.evaluate: Average Metric: 809 / 1100 (73.5%)\n"
     ]
    },
    {
     "name": "stdout",
     "output_type": "stream",
     "text": [
      "\n",
      "Scores so far: [np.float64(69.36), np.float64(69.36), np.float64(74.0), np.float64(72.18), np.float64(66.82), np.float64(71.09), np.float64(74.73), np.float64(69.27), np.float64(69.27), np.float64(73.55)]\n",
      "Best score so far: 74.73\n"
     ]
    },
    {
     "name": "stderr",
     "output_type": "stream",
     "text": [
      "  0%|▏                                                                                | 3/1100 [00:00<00:02, 365.90it/s]\n"
     ]
    },
    {
     "name": "stdout",
     "output_type": "stream",
     "text": [
      "Bootstrapped 3 full traces after 3 examples for up to 1 rounds, amounting to 3 attempts.\n",
      "Average Metric: 756.00 / 1100 (68.7%): 100%|██████████████████████████████████████| 1100/1100 [1:28:11<00:00,  4.81s/it]"
     ]
    },
    {
     "name": "stderr",
     "output_type": "stream",
     "text": [
      "2025/04/23 05:21:33 INFO dspy.evaluate.evaluate: Average Metric: 756 / 1100 (68.7%)\n"
     ]
    },
    {
     "name": "stdout",
     "output_type": "stream",
     "text": [
      "\n",
      "Scores so far: [np.float64(69.36), np.float64(69.36), np.float64(74.0), np.float64(72.18), np.float64(66.82), np.float64(71.09), np.float64(74.73), np.float64(69.27), np.float64(69.27), np.float64(73.55), np.float64(68.73)]\n",
      "Best score so far: 74.73\n",
      "11 candidate programs found.\n"
     ]
    }
   ],
   "source": [
    "optimised_program = teleprompter.compile(NeoClassifyByInclusionExclusion(), trainset=neotrainset)"
   ]
  },
  {
   "cell_type": "code",
   "execution_count": 33,
   "id": "ce2489d4-3a33-45c3-a261-f61d2c46441d",
   "metadata": {},
   "outputs": [],
   "source": [
    "optimised_program.save(\"first_classify_by_inclusion_exclusion_train\", save_program=True)"
   ]
  },
  {
   "cell_type": "code",
   "execution_count": null,
   "id": "fce26190-4789-4675-b7c4-d569563dba11",
   "metadata": {},
   "outputs": [],
   "source": []
  }
 ],
 "metadata": {
  "kernelspec": {
   "display_name": "Python 3 (ipykernel)",
   "language": "python",
   "name": "python3"
  },
  "language_info": {
   "codemirror_mode": {
    "name": "ipython",
    "version": 3
   },
   "file_extension": ".py",
   "mimetype": "text/x-python",
   "name": "python",
   "nbconvert_exporter": "python",
   "pygments_lexer": "ipython3",
   "version": "3.10.16"
  }
 },
 "nbformat": 4,
 "nbformat_minor": 5
}
