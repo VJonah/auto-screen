{
 "cells": [
  {
   "cell_type": "markdown",
   "id": "0a1d06bd-fcb5-4284-8a95-f9e5fc51a4d0",
   "metadata": {},
   "source": [
    "# Creating our first Pipeline\n",
    "\n",
    "We're going to use only the non-biomedical SRs from the SYNERGY dataset. \n",
    "\n",
    "And we'll start with gemma3 and see where it goes!"
   ]
  },
  {
   "cell_type": "markdown",
   "id": "8d313889-e3d8-4274-a9dc-c5e12cb8b2e6",
   "metadata": {},
   "source": [
    "## Dataset Preparations"
   ]
  },
  {
   "cell_type": "code",
   "execution_count": 1,
   "id": "60d54e2f-9343-4a72-ab80-d94538ab09e5",
   "metadata": {},
   "outputs": [],
   "source": [
    "# pkg imports\n",
    "import pandas as pd"
   ]
  },
  {
   "cell_type": "code",
   "execution_count": 2,
   "id": "ef4a6b07-5376-4e02-bcb8-8e60ecb4075f",
   "metadata": {},
   "outputs": [],
   "source": [
    "# our synergy datasets' paths\n",
    "synergy_dataset_path = \"./data/synergy_dataset/SYNERGY_combined_data.pkl\"\n",
    "synergy_titles_path = \"./data/synergy_dataset/SYNERGY_review_titles.csv\""
   ]
  },
  {
   "cell_type": "code",
   "execution_count": 3,
   "id": "5c822c92-f10d-4e34-b870-aaf365675895",
   "metadata": {},
   "outputs": [],
   "source": [
    "# load our datasets\n",
    "syn_df = pd.read_pickle(synergy_dataset_path)\n",
    "syn_titles_df = pd.read_csv(synergy_titles_path, delimiter='#', index_col='SR_id')\n",
    "# a dict to map a citation_id to their title\n",
    "citation2title = syn_titles_df.to_dict(orient='dict')['title']"
   ]
  },
  {
   "cell_type": "code",
   "execution_count": 4,
   "id": "d4333645-5976-434c-af37-afea5ca006ea",
   "metadata": {},
   "outputs": [],
   "source": [
    "# list of all the non-biomedical systematic reviews (SRs)\n",
    "non_biomed_SRs = {\n",
    "    \"Hall_2012\",\n",
    "    \"Radjenovic_2013\",\n",
    "    \"Sep_2021\",\n",
    "    \"Smid_2020\"\n",
    "}"
   ]
  },
  {
   "cell_type": "code",
   "execution_count": 5,
   "id": "673ce29c-ef92-4865-9358-cb4ae7cf98f6",
   "metadata": {},
   "outputs": [
    {
     "data": {
      "text/html": [
       "<div>\n",
       "<style scoped>\n",
       "    .dataframe tbody tr th:only-of-type {\n",
       "        vertical-align: middle;\n",
       "    }\n",
       "\n",
       "    .dataframe tbody tr th {\n",
       "        vertical-align: top;\n",
       "    }\n",
       "\n",
       "    .dataframe thead th {\n",
       "        text-align: right;\n",
       "    }\n",
       "</style>\n",
       "<table border=\"1\" class=\"dataframe\">\n",
       "  <thead>\n",
       "    <tr style=\"text-align: right;\">\n",
       "      <th></th>\n",
       "      <th>doi</th>\n",
       "      <th>SR_id</th>\n",
       "      <th>SR_title</th>\n",
       "      <th>title</th>\n",
       "      <th>abstract</th>\n",
       "      <th>label_included</th>\n",
       "      <th>relevant</th>\n",
       "    </tr>\n",
       "  </thead>\n",
       "  <tbody>\n",
       "    <tr>\n",
       "      <th>0</th>\n",
       "      <td>https://doi.org/10.1109/indcon.2010.5712716</td>\n",
       "      <td>Hall_2012</td>\n",
       "      <td>A Systematic Literature Review on Fault Predic...</td>\n",
       "      <td>Computer vision based offset error computation...</td>\n",
       "      <td>The use of computer vision based approach has ...</td>\n",
       "      <td>0</td>\n",
       "      <td>False</td>\n",
       "    </tr>\n",
       "    <tr>\n",
       "      <th>1</th>\n",
       "      <td>https://doi.org/10.1109/induscon.2010.5740045</td>\n",
       "      <td>Hall_2012</td>\n",
       "      <td>A Systematic Literature Review on Fault Predic...</td>\n",
       "      <td>Design and development of a software for fault...</td>\n",
       "      <td>This paper presents an on-line fault diagnosis...</td>\n",
       "      <td>0</td>\n",
       "      <td>False</td>\n",
       "    </tr>\n",
       "    <tr>\n",
       "      <th>2</th>\n",
       "      <td>https://doi.org/10.1109/tpwrd.2005.848672</td>\n",
       "      <td>Hall_2012</td>\n",
       "      <td>A Systematic Literature Review on Fault Predic...</td>\n",
       "      <td>Analytical Approach to Internal Fault Simulati...</td>\n",
       "      <td>A new method for simulating faulted transforme...</td>\n",
       "      <td>0</td>\n",
       "      <td>False</td>\n",
       "    </tr>\n",
       "    <tr>\n",
       "      <th>3</th>\n",
       "      <td>https://doi.org/10.1109/icelmach.2008.4799852</td>\n",
       "      <td>Hall_2012</td>\n",
       "      <td>A Systematic Literature Review on Fault Predic...</td>\n",
       "      <td>Nonlinear equivalent circuit model of a tracti...</td>\n",
       "      <td>The paper presents the development of an equiv...</td>\n",
       "      <td>0</td>\n",
       "      <td>False</td>\n",
       "    </tr>\n",
       "    <tr>\n",
       "      <th>4</th>\n",
       "      <td>https://doi.org/10.1109/ipdps.2006.1639408</td>\n",
       "      <td>Hall_2012</td>\n",
       "      <td>A Systematic Literature Review on Fault Predic...</td>\n",
       "      <td>Fault tolerance with real-time Java</td>\n",
       "      <td>After having drawn up a state of the art on th...</td>\n",
       "      <td>0</td>\n",
       "      <td>False</td>\n",
       "    </tr>\n",
       "    <tr>\n",
       "      <th>...</th>\n",
       "      <td>...</td>\n",
       "      <td>...</td>\n",
       "      <td>...</td>\n",
       "      <td>...</td>\n",
       "      <td>...</td>\n",
       "      <td>...</td>\n",
       "      <td>...</td>\n",
       "    </tr>\n",
       "    <tr>\n",
       "      <th>66482</th>\n",
       "      <td>https://doi.org/10.1109/ictai.2010.27</td>\n",
       "      <td>Radjenovic_2013</td>\n",
       "      <td>Software fault prediction metrics: A systemati...</td>\n",
       "      <td>Attribute Selection and Imbalanced Data: Probl...</td>\n",
       "      <td>The data mining and machine learning community...</td>\n",
       "      <td>0</td>\n",
       "      <td>False</td>\n",
       "    </tr>\n",
       "    <tr>\n",
       "      <th>66483</th>\n",
       "      <td>https://doi.org/10.1109/acc.2001.945656</td>\n",
       "      <td>Radjenovic_2013</td>\n",
       "      <td>Software fault prediction metrics: A systemati...</td>\n",
       "      <td>Benchmarking of advanced technologies for proc...</td>\n",
       "      <td>Global competition is forcing industrial plant...</td>\n",
       "      <td>0</td>\n",
       "      <td>False</td>\n",
       "    </tr>\n",
       "    <tr>\n",
       "      <th>66484</th>\n",
       "      <td>https://doi.org/10.1109/icsess.2010.5552438</td>\n",
       "      <td>Radjenovic_2013</td>\n",
       "      <td>Software fault prediction metrics: A systemati...</td>\n",
       "      <td>Queueing models based performance evaluation a...</td>\n",
       "      <td>Since queueing is a common behavior in compute...</td>\n",
       "      <td>0</td>\n",
       "      <td>False</td>\n",
       "    </tr>\n",
       "    <tr>\n",
       "      <th>66485</th>\n",
       "      <td>https://doi.org/10.1109/wicom.2011.6040617</td>\n",
       "      <td>Radjenovic_2013</td>\n",
       "      <td>Software fault prediction metrics: A systemati...</td>\n",
       "      <td>A New Face Detection Method with GA-BP Neural ...</td>\n",
       "      <td>In this paper, the BP neural network improved ...</td>\n",
       "      <td>0</td>\n",
       "      <td>False</td>\n",
       "    </tr>\n",
       "    <tr>\n",
       "      <th>66486</th>\n",
       "      <td>https://doi.org/10.1109/cgo.2011.5764670</td>\n",
       "      <td>Radjenovic_2013</td>\n",
       "      <td>Software fault prediction metrics: A systemati...</td>\n",
       "      <td>Phase-based tuning for better utilization of p...</td>\n",
       "      <td>The latest trend towards performance asymmetry...</td>\n",
       "      <td>0</td>\n",
       "      <td>False</td>\n",
       "    </tr>\n",
       "  </tbody>\n",
       "</table>\n",
       "<p>17508 rows × 7 columns</p>\n",
       "</div>"
      ],
      "text/plain": [
       "                                                 doi            SR_id  \\\n",
       "0        https://doi.org/10.1109/indcon.2010.5712716        Hall_2012   \n",
       "1      https://doi.org/10.1109/induscon.2010.5740045        Hall_2012   \n",
       "2          https://doi.org/10.1109/tpwrd.2005.848672        Hall_2012   \n",
       "3      https://doi.org/10.1109/icelmach.2008.4799852        Hall_2012   \n",
       "4         https://doi.org/10.1109/ipdps.2006.1639408        Hall_2012   \n",
       "...                                              ...              ...   \n",
       "66482          https://doi.org/10.1109/ictai.2010.27  Radjenovic_2013   \n",
       "66483        https://doi.org/10.1109/acc.2001.945656  Radjenovic_2013   \n",
       "66484    https://doi.org/10.1109/icsess.2010.5552438  Radjenovic_2013   \n",
       "66485     https://doi.org/10.1109/wicom.2011.6040617  Radjenovic_2013   \n",
       "66486       https://doi.org/10.1109/cgo.2011.5764670  Radjenovic_2013   \n",
       "\n",
       "                                                SR_title  \\\n",
       "0      A Systematic Literature Review on Fault Predic...   \n",
       "1      A Systematic Literature Review on Fault Predic...   \n",
       "2      A Systematic Literature Review on Fault Predic...   \n",
       "3      A Systematic Literature Review on Fault Predic...   \n",
       "4      A Systematic Literature Review on Fault Predic...   \n",
       "...                                                  ...   \n",
       "66482  Software fault prediction metrics: A systemati...   \n",
       "66483  Software fault prediction metrics: A systemati...   \n",
       "66484  Software fault prediction metrics: A systemati...   \n",
       "66485  Software fault prediction metrics: A systemati...   \n",
       "66486  Software fault prediction metrics: A systemati...   \n",
       "\n",
       "                                                   title  \\\n",
       "0      Computer vision based offset error computation...   \n",
       "1      Design and development of a software for fault...   \n",
       "2      Analytical Approach to Internal Fault Simulati...   \n",
       "3      Nonlinear equivalent circuit model of a tracti...   \n",
       "4                    Fault tolerance with real-time Java   \n",
       "...                                                  ...   \n",
       "66482  Attribute Selection and Imbalanced Data: Probl...   \n",
       "66483  Benchmarking of advanced technologies for proc...   \n",
       "66484  Queueing models based performance evaluation a...   \n",
       "66485  A New Face Detection Method with GA-BP Neural ...   \n",
       "66486  Phase-based tuning for better utilization of p...   \n",
       "\n",
       "                                                abstract  label_included  \\\n",
       "0      The use of computer vision based approach has ...               0   \n",
       "1      This paper presents an on-line fault diagnosis...               0   \n",
       "2      A new method for simulating faulted transforme...               0   \n",
       "3      The paper presents the development of an equiv...               0   \n",
       "4      After having drawn up a state of the art on th...               0   \n",
       "...                                                  ...             ...   \n",
       "66482  The data mining and machine learning community...               0   \n",
       "66483  Global competition is forcing industrial plant...               0   \n",
       "66484  Since queueing is a common behavior in compute...               0   \n",
       "66485  In this paper, the BP neural network improved ...               0   \n",
       "66486  The latest trend towards performance asymmetry...               0   \n",
       "\n",
       "       relevant  \n",
       "0         False  \n",
       "1         False  \n",
       "2         False  \n",
       "3         False  \n",
       "4         False  \n",
       "...         ...  \n",
       "66482     False  \n",
       "66483     False  \n",
       "66484     False  \n",
       "66485     False  \n",
       "66486     False  \n",
       "\n",
       "[17508 rows x 7 columns]"
      ]
     },
     "execution_count": 5,
     "metadata": {},
     "output_type": "execute_result"
    }
   ],
   "source": [
    "non_biomeds_df = syn_df[syn_df['SR_id'].isin(non_biomed_SRs)]\n",
    "# insert the ttitle of the systematic review in the DataFrame\n",
    "non_biomeds_df.insert(2, 'SR_title', syn_df['SR_id'].apply(lambda id: citation2title[id]))\n",
    "# get indexes of rows with an empty title or abstract\n",
    "na_idxs = non_biomeds_df[non_biomeds_df[['title','abstract']].isna().any(axis=1)].index\n",
    "# remove the rows with empty titles or abstracts\n",
    "non_biomeds_df = non_biomeds_df.drop(na_idxs, axis='index')\n",
    "# create a column that maps 'label_included' to a boolean 'relevant' column\n",
    "non_biomeds_df['relevant'] = non_biomeds_df['label_included'].apply(bool) \n",
    "non_biomeds_df"
   ]
  },
  {
   "cell_type": "markdown",
   "id": "1c35d528-8a4a-4a23-a90d-60fe6ec8a1fd",
   "metadata": {},
   "source": [
    "## Getting DSPY going\n",
    "We have our data, let's test it with DSPy!"
   ]
  },
  {
   "cell_type": "code",
   "execution_count": 6,
   "id": "36553d2d-8041-47f1-8087-94ef4eec75a0",
   "metadata": {},
   "outputs": [
    {
     "name": "stderr",
     "output_type": "stream",
     "text": [
      "/home/j/Sync/Roam/Areas/Uni/Dissertation/auto-screen/.venv/lib/python3.10/site-packages/tqdm/auto.py:21: TqdmWarning: IProgress not found. Please update jupyter and ipywidgets. See https://ipywidgets.readthedocs.io/en/stable/user_install.html\n",
      "  from .autonotebook import tqdm as notebook_tqdm\n"
     ]
    }
   ],
   "source": [
    "# pkg imports\n",
    "import dspy"
   ]
  },
  {
   "cell_type": "code",
   "execution_count": 7,
   "id": "0e306a8d-683a-426d-8cb6-a7beee4dd918",
   "metadata": {},
   "outputs": [],
   "source": [
    "# configuring our local gemma3 model\n",
    "lm = dspy.LM('ollama_chat/gemma3', api_base='http://localhost:11434', api_key='')\n",
    "dspy.configure(lm=lm)"
   ]
  },
  {
   "cell_type": "code",
   "execution_count": 8,
   "id": "cc08bb2b-d38b-4991-b082-3bb443c491eb",
   "metadata": {},
   "outputs": [
    {
     "data": {
      "text/plain": [
       "['Hello world!\\n']"
      ]
     },
     "execution_count": 8,
     "metadata": {},
     "output_type": "execute_result"
    }
   ],
   "source": [
    "# testing out the LM\n",
    "lm(\"Say 'Hello world!'\", temperature=0.7) "
   ]
  },
  {
   "cell_type": "markdown",
   "id": "4a1435ad-b8de-4aaa-a799-4419627aa94b",
   "metadata": {},
   "source": [
    "## It works: basic pipeline time!\n",
    "Let's create the most basic pipeline.\n",
    "\n",
    "It just takes in the SRs titlea and a candidate citation's title and abstract.\n",
    "\n",
    "I think this starts with a basic signature class."
   ]
  },
  {
   "cell_type": "code",
   "execution_count": 9,
   "id": "32026610-a81d-4b4c-bc6a-5f1a10c68128",
   "metadata": {},
   "outputs": [],
   "source": [
    "class Relevance(dspy.Signature):\n",
    "    \"\"\"Classify a citation's relevance to a systematic review.\"\"\"\n",
    "\n",
    "    sr_title: str = dspy.InputField()\n",
    "    citation_title: str = dspy.InputField()\n",
    "    citation_abstract: str = dspy.InputField()\n",
    "    relevant: bool = dspy.OutputField()\n",
    "    confidence: float = dspy.OutputField()"
   ]
  },
  {
   "cell_type": "code",
   "execution_count": 10,
   "id": "6261a903-77af-43f0-8644-52487c5e6d35",
   "metadata": {},
   "outputs": [
    {
     "data": {
      "text/plain": [
       "Prediction(\n",
       "    reasoning='The systematic review focuses on fault prediction performance in software engineering. The citation discusses an FPGA-based computer vision system for offset error computation in *web printing machines*. While both relate to error detection and control, the citation is specifically about hardware-based image processing for a mechanical manufacturing process (printing), not software fault prediction. Therefore, the connection is weak.',\n",
       "    relevant=False,\n",
       "    confidence=0.3\n",
       ")"
      ]
     },
     "execution_count": 10,
     "metadata": {},
     "output_type": "execute_result"
    }
   ],
   "source": [
    "first_row = non_biomeds_df.iloc[0,:]\n",
    "classify = dspy.ChainOfThought(Relevance)\n",
    "classify(\n",
    "    sr_title=first_row['SR_title'],\n",
    "    citation_title=first_row['title'],\n",
    "    citation_abstract=first_row['abstract']\n",
    ")"
   ]
  },
  {
   "cell_type": "markdown",
   "id": "4cb8df87-8ef5-4524-b21b-39bd132090df",
   "metadata": {},
   "source": [
    "## Building out the Development Set\n",
    "17000 citations is still too many to run evaluations in decent time.\n",
    "So, let's aim for a max of 300, that's 75 from each SR. "
   ]
  },
  {
   "cell_type": "code",
   "execution_count": 11,
   "id": "fd256a15-7ebf-4c21-b505-beb235b5c44e",
   "metadata": {},
   "outputs": [],
   "source": [
    "# pkg improts\n",
    "import numpy as np\n",
    "from imblearn.under_sampling import RandomUnderSampler\n",
    "from dspy.evaluate import Evaluate, metrics"
   ]
  },
  {
   "cell_type": "code",
   "execution_count": 12,
   "id": "737ec218-94c7-4575-a089-239858ba5d0c",
   "metadata": {},
   "outputs": [],
   "source": [
    "# initialise our random under sampler\n",
    "rus = RandomUnderSampler(random_state=42, sampling_strategy={0: 67, 1: 8})"
   ]
  },
  {
   "cell_type": "code",
   "execution_count": null,
   "id": "9868d1f0-3186-4895-9d64-dbd9de1615ff",
   "metadata": {},
   "outputs": [],
   "source": []
  },
  {
   "cell_type": "code",
   "execution_count": 13,
   "id": "d6d4c237-76f7-40e2-bf61-787ae823038c",
   "metadata": {},
   "outputs": [],
   "source": [
    "def create_rus_dataset(df: pd.DataFrame, rus: RandomUnderSampler = rus) -> tuple[np.array, np.array]:\n",
    "    \"\"\"\n",
    "    Given a group/DataFrame of a particular sytematic review.\n",
    "    Returns a randomly undersampled dataset of inputs and labels.\n",
    "    \"\"\"\n",
    "    Xs = np.array(group[['SR_title','title','abstract']])\n",
    "    Ys = np.array(group['relevant'])\n",
    "    X_resampled, Y_resampled = rus.fit_resample(Xs, Ys)\n",
    "    return  X_resampled, Y_resampled"
   ]
  },
  {
   "cell_type": "code",
   "execution_count": 14,
   "id": "33ced688-f137-4b91-afa1-2e3feb8c8826",
   "metadata": {},
   "outputs": [],
   "source": [
    "# create a development set of inputs and labels by randomly undersampling\n",
    "# each systematic review so that it contains 8 positive labels and 67 negative\n",
    "# ones\n",
    "Xs, Ys = [], [] \n",
    "for _, group in non_biomeds_df.groupby(by='SR_id'):\n",
    "    grp_Xs, grp_Ys = create_rus_dataset(group)\n",
    "    Xs.append(grp_Xs)\n",
    "    Ys.append(grp_Ys)\n",
    "Xs = np.concatenate(Xs)\n",
    "Ys = np.concatenate(Ys)"
   ]
  },
  {
   "cell_type": "code",
   "execution_count": 15,
   "id": "4a8e3df0-8e20-4a29-8ea2-889bcea72e6c",
   "metadata": {},
   "outputs": [],
   "source": [
    "# create our development set of DSPy Example objects\n",
    "devset = [dspy.Example(sr_title=x[0], citation_title=x[1], citation_abstract=x[2], relevant=y)\\\n",
    "          .with_inputs('sr_title', 'citation_title', 'citation_abstract')\n",
    "          for x,y in zip(Xs, Ys)]"
   ]
  },
  {
   "cell_type": "code",
   "execution_count": 16,
   "id": "35d96157-c188-4d56-9aae-27f976f9edbc",
   "metadata": {},
   "outputs": [],
   "source": [
    "# evaluate setup\n",
    "evaluator = Evaluate(devset=devset, num_threads=1, display_progress=True, display_table=5)"
   ]
  },
  {
   "cell_type": "code",
   "execution_count": 17,
   "id": "9ff4d24c-cb8e-47ea-97a5-3378b8d5dd71",
   "metadata": {},
   "outputs": [],
   "source": [
    "# basic exact metric for our Relevance signature\n",
    "def validate_answer(example, pred, trace=None):\n",
    "    return example.relevant == pred.relevant"
   ]
  },
  {
   "cell_type": "code",
   "execution_count": 18,
   "id": "af268b38-249e-4bf7-b76a-544ed744da7e",
   "metadata": {},
   "outputs": [
    {
     "name": "stdout",
     "output_type": "stream",
     "text": [
      "Average Metric: 93.00 / 300 (31.0%): 100%|████████████████████████████████████████████| 300/300 [00:06<00:00, 46.06it/s]"
     ]
    },
    {
     "name": "stderr",
     "output_type": "stream",
     "text": [
      "2025/04/18 23:52:40 INFO dspy.evaluate.evaluate: Average Metric: 93 / 300 (31.0%)\n"
     ]
    },
    {
     "name": "stdout",
     "output_type": "stream",
     "text": [
      "\n"
     ]
    },
    {
     "data": {
      "text/html": [
       "<div>\n",
       "<style scoped>\n",
       "    .dataframe tbody tr th:only-of-type {\n",
       "        vertical-align: middle;\n",
       "    }\n",
       "\n",
       "    .dataframe tbody tr th {\n",
       "        vertical-align: top;\n",
       "    }\n",
       "\n",
       "    .dataframe thead th {\n",
       "        text-align: right;\n",
       "    }\n",
       "</style>\n",
       "<table border=\"1\" class=\"dataframe\">\n",
       "  <thead>\n",
       "    <tr style=\"text-align: right;\">\n",
       "      <th></th>\n",
       "      <th>sr_title</th>\n",
       "      <th>citation_title</th>\n",
       "      <th>citation_abstract</th>\n",
       "      <th>example_relevant</th>\n",
       "      <th>reasoning</th>\n",
       "      <th>pred_relevant</th>\n",
       "      <th>confidence</th>\n",
       "      <th>validate_answer</th>\n",
       "    </tr>\n",
       "  </thead>\n",
       "  <tbody>\n",
       "    <tr>\n",
       "      <th>0</th>\n",
       "      <td>A Systematic Literature Review on Fault Prediction Performance in ...</td>\n",
       "      <td>Towards a Bayesian Approach in Modeling the Disclosure of Unique S...</td>\n",
       "      <td>Software security has both an objective and a subjective component...</td>\n",
       "      <td>False</td>\n",
       "      <td>The systematic review focuses on fault prediction performance in s...</td>\n",
       "      <td>True</td>\n",
       "      <td>0.95</td>\n",
       "      <td></td>\n",
       "    </tr>\n",
       "    <tr>\n",
       "      <th>1</th>\n",
       "      <td>A Systematic Literature Review on Fault Prediction Performance in ...</td>\n",
       "      <td>Networked vehicles for automated fault detection</td>\n",
       "      <td>Creating fault detection software for complex mechatronic systems ...</td>\n",
       "      <td>False</td>\n",
       "      <td>The systematic review focuses on fault prediction performance in s...</td>\n",
       "      <td>True</td>\n",
       "      <td>0.95</td>\n",
       "      <td></td>\n",
       "    </tr>\n",
       "    <tr>\n",
       "      <th>2</th>\n",
       "      <td>A Systematic Literature Review on Fault Prediction Performance in ...</td>\n",
       "      <td>Advanced Fault-Tolerant Control of Induction-Motor Drives for EV/H...</td>\n",
       "      <td>This paper describes active fault-tolerant control systems for a h...</td>\n",
       "      <td>False</td>\n",
       "      <td>The systematic review focuses on fault prediction performance in s...</td>\n",
       "      <td>False</td>\n",
       "      <td>0.60</td>\n",
       "      <td>✔️ [True]</td>\n",
       "    </tr>\n",
       "    <tr>\n",
       "      <th>3</th>\n",
       "      <td>A Systematic Literature Review on Fault Prediction Performance in ...</td>\n",
       "      <td>Fault ride through of DFIG wind turbines during symmetrical voltag...</td>\n",
       "      <td>Low Voltage Ride Through is an important feature for wind turbine ...</td>\n",
       "      <td>False</td>\n",
       "      <td>The systematic review focuses on fault prediction performance in s...</td>\n",
       "      <td>False</td>\n",
       "      <td>0.85</td>\n",
       "      <td>✔️ [True]</td>\n",
       "    </tr>\n",
       "    <tr>\n",
       "      <th>4</th>\n",
       "      <td>A Systematic Literature Review on Fault Prediction Performance in ...</td>\n",
       "      <td>Integration of Multivariate Control Charts and Neural Networks to ...</td>\n",
       "      <td>Because of advanced technology, there are many aspects of quality ...</td>\n",
       "      <td>False</td>\n",
       "      <td>The systematic review focuses on fault prediction performance in s...</td>\n",
       "      <td>True</td>\n",
       "      <td>0.95</td>\n",
       "      <td></td>\n",
       "    </tr>\n",
       "  </tbody>\n",
       "</table>\n",
       "</div>"
      ],
      "text/plain": [
       "                                                                sr_title  \\\n",
       "0  A Systematic Literature Review on Fault Prediction Performance in ...   \n",
       "1  A Systematic Literature Review on Fault Prediction Performance in ...   \n",
       "2  A Systematic Literature Review on Fault Prediction Performance in ...   \n",
       "3  A Systematic Literature Review on Fault Prediction Performance in ...   \n",
       "4  A Systematic Literature Review on Fault Prediction Performance in ...   \n",
       "\n",
       "                                                          citation_title  \\\n",
       "0  Towards a Bayesian Approach in Modeling the Disclosure of Unique S...   \n",
       "1                       Networked vehicles for automated fault detection   \n",
       "2  Advanced Fault-Tolerant Control of Induction-Motor Drives for EV/H...   \n",
       "3  Fault ride through of DFIG wind turbines during symmetrical voltag...   \n",
       "4  Integration of Multivariate Control Charts and Neural Networks to ...   \n",
       "\n",
       "                                                       citation_abstract  \\\n",
       "0  Software security has both an objective and a subjective component...   \n",
       "1  Creating fault detection software for complex mechatronic systems ...   \n",
       "2  This paper describes active fault-tolerant control systems for a h...   \n",
       "3  Low Voltage Ride Through is an important feature for wind turbine ...   \n",
       "4  Because of advanced technology, there are many aspects of quality ...   \n",
       "\n",
       "   example_relevant  \\\n",
       "0             False   \n",
       "1             False   \n",
       "2             False   \n",
       "3             False   \n",
       "4             False   \n",
       "\n",
       "                                                               reasoning  \\\n",
       "0  The systematic review focuses on fault prediction performance in s...   \n",
       "1  The systematic review focuses on fault prediction performance in s...   \n",
       "2  The systematic review focuses on fault prediction performance in s...   \n",
       "3  The systematic review focuses on fault prediction performance in s...   \n",
       "4  The systematic review focuses on fault prediction performance in s...   \n",
       "\n",
       "   pred_relevant  confidence validate_answer  \n",
       "0           True        0.95                  \n",
       "1           True        0.95                  \n",
       "2          False        0.60       ✔️ [True]  \n",
       "3          False        0.85       ✔️ [True]  \n",
       "4           True        0.95                  "
      ]
     },
     "metadata": {},
     "output_type": "display_data"
    },
    {
     "data": {
      "text/html": [
       "\n",
       "            <div style='\n",
       "                text-align: center;\n",
       "                font-size: 16px;\n",
       "                font-weight: bold;\n",
       "                color: #555;\n",
       "                margin: 10px 0;'>\n",
       "                ... 295 more rows not displayed ...\n",
       "            </div>\n",
       "            "
      ],
      "text/plain": [
       "<IPython.core.display.HTML object>"
      ]
     },
     "metadata": {},
     "output_type": "display_data"
    },
    {
     "data": {
      "text/plain": [
       "np.float64(31.0)"
      ]
     },
     "execution_count": 18,
     "metadata": {},
     "output_type": "execute_result"
    }
   ],
   "source": [
    "# launch evaluation with a basic 'exact match' metric\n",
    "evaluator(classify, metric=validate_answer)"
   ]
  },
  {
   "cell_type": "code",
   "execution_count": 19,
   "id": "0892d352-e619-4b4c-8e36-6f5d72de3242",
   "metadata": {},
   "outputs": [
    {
     "name": "stdout",
     "output_type": "stream",
     "text": [
      "Average Metric: 36.00 / 300 (12.0%): 100%|████████████████████████████████████████████| 300/300 [00:08<00:00, 36.08it/s]\n"
     ]
    },
    {
     "name": "stderr",
     "output_type": "stream",
     "text": [
      "2025/04/18 23:52:48 INFO dspy.evaluate.evaluate: Average Metric: 36 / 300 (12.0%)\n"
     ]
    },
    {
     "data": {
      "text/html": [
       "<div>\n",
       "<style scoped>\n",
       "    .dataframe tbody tr th:only-of-type {\n",
       "        vertical-align: middle;\n",
       "    }\n",
       "\n",
       "    .dataframe tbody tr th {\n",
       "        vertical-align: top;\n",
       "    }\n",
       "\n",
       "    .dataframe thead th {\n",
       "        text-align: right;\n",
       "    }\n",
       "</style>\n",
       "<table border=\"1\" class=\"dataframe\">\n",
       "  <thead>\n",
       "    <tr style=\"text-align: right;\">\n",
       "      <th></th>\n",
       "      <th>sr_title</th>\n",
       "      <th>citation_title</th>\n",
       "      <th>citation_abstract</th>\n",
       "      <th>example_relevant</th>\n",
       "      <th>pred_relevant</th>\n",
       "      <th>confidence</th>\n",
       "      <th>validate_answer</th>\n",
       "    </tr>\n",
       "  </thead>\n",
       "  <tbody>\n",
       "    <tr>\n",
       "      <th>0</th>\n",
       "      <td>A Systematic Literature Review on Fault Prediction Performance in ...</td>\n",
       "      <td>Towards a Bayesian Approach in Modeling the Disclosure of Unique S...</td>\n",
       "      <td>Software security has both an objective and a subjective component...</td>\n",
       "      <td>False</td>\n",
       "      <td>True</td>\n",
       "      <td>0.95</td>\n",
       "      <td></td>\n",
       "    </tr>\n",
       "    <tr>\n",
       "      <th>1</th>\n",
       "      <td>A Systematic Literature Review on Fault Prediction Performance in ...</td>\n",
       "      <td>Networked vehicles for automated fault detection</td>\n",
       "      <td>Creating fault detection software for complex mechatronic systems ...</td>\n",
       "      <td>False</td>\n",
       "      <td>True</td>\n",
       "      <td>0.95</td>\n",
       "      <td></td>\n",
       "    </tr>\n",
       "    <tr>\n",
       "      <th>2</th>\n",
       "      <td>A Systematic Literature Review on Fault Prediction Performance in ...</td>\n",
       "      <td>Advanced Fault-Tolerant Control of Induction-Motor Drives for EV/H...</td>\n",
       "      <td>This paper describes active fault-tolerant control systems for a h...</td>\n",
       "      <td>False</td>\n",
       "      <td>True</td>\n",
       "      <td>0.95</td>\n",
       "      <td></td>\n",
       "    </tr>\n",
       "    <tr>\n",
       "      <th>3</th>\n",
       "      <td>A Systematic Literature Review on Fault Prediction Performance in ...</td>\n",
       "      <td>Fault ride through of DFIG wind turbines during symmetrical voltag...</td>\n",
       "      <td>Low Voltage Ride Through is an important feature for wind turbine ...</td>\n",
       "      <td>False</td>\n",
       "      <td>True</td>\n",
       "      <td>0.95</td>\n",
       "      <td></td>\n",
       "    </tr>\n",
       "    <tr>\n",
       "      <th>4</th>\n",
       "      <td>A Systematic Literature Review on Fault Prediction Performance in ...</td>\n",
       "      <td>Integration of Multivariate Control Charts and Neural Networks to ...</td>\n",
       "      <td>Because of advanced technology, there are many aspects of quality ...</td>\n",
       "      <td>False</td>\n",
       "      <td>True</td>\n",
       "      <td>0.95</td>\n",
       "      <td></td>\n",
       "    </tr>\n",
       "  </tbody>\n",
       "</table>\n",
       "</div>"
      ],
      "text/plain": [
       "                                                                sr_title  \\\n",
       "0  A Systematic Literature Review on Fault Prediction Performance in ...   \n",
       "1  A Systematic Literature Review on Fault Prediction Performance in ...   \n",
       "2  A Systematic Literature Review on Fault Prediction Performance in ...   \n",
       "3  A Systematic Literature Review on Fault Prediction Performance in ...   \n",
       "4  A Systematic Literature Review on Fault Prediction Performance in ...   \n",
       "\n",
       "                                                          citation_title  \\\n",
       "0  Towards a Bayesian Approach in Modeling the Disclosure of Unique S...   \n",
       "1                       Networked vehicles for automated fault detection   \n",
       "2  Advanced Fault-Tolerant Control of Induction-Motor Drives for EV/H...   \n",
       "3  Fault ride through of DFIG wind turbines during symmetrical voltag...   \n",
       "4  Integration of Multivariate Control Charts and Neural Networks to ...   \n",
       "\n",
       "                                                       citation_abstract  \\\n",
       "0  Software security has both an objective and a subjective component...   \n",
       "1  Creating fault detection software for complex mechatronic systems ...   \n",
       "2  This paper describes active fault-tolerant control systems for a h...   \n",
       "3  Low Voltage Ride Through is an important feature for wind turbine ...   \n",
       "4  Because of advanced technology, there are many aspects of quality ...   \n",
       "\n",
       "   example_relevant  pred_relevant  confidence validate_answer  \n",
       "0             False           True        0.95                  \n",
       "1             False           True        0.95                  \n",
       "2             False           True        0.95                  \n",
       "3             False           True        0.95                  \n",
       "4             False           True        0.95                  "
      ]
     },
     "metadata": {},
     "output_type": "display_data"
    },
    {
     "data": {
      "text/html": [
       "\n",
       "            <div style='\n",
       "                text-align: center;\n",
       "                font-size: 16px;\n",
       "                font-weight: bold;\n",
       "                color: #555;\n",
       "                margin: 10px 0;'>\n",
       "                ... 295 more rows not displayed ...\n",
       "            </div>\n",
       "            "
      ],
      "text/plain": [
       "<IPython.core.display.HTML object>"
      ]
     },
     "metadata": {},
     "output_type": "display_data"
    }
   ],
   "source": [
    "# see how well basic Prediction does compared to ChainOfThought\n",
    "simple_predict = dspy.Predict(Relevance)\n",
    "result = evaluator(simple_predict, metric=validate_answer)"
   ]
  },
  {
   "cell_type": "markdown",
   "id": "df749282-77da-4f08-86f7-b8b37877e676",
   "metadata": {},
   "source": [
    "## New metrics\n",
    "We've got a basic pipeline and evaluator going.\n",
    "\n",
    "It's time to create the metrics we actually want to use.\n",
    "\n",
    "We can then iterate on development and construct more sophisticated pipelines."
   ]
  },
  {
   "cell_type": "markdown",
   "id": "e731b474-3a37-45c8-81ba-3c9134c45f2b",
   "metadata": {},
   "source": [
    "### F1 Score\n",
    "Let's implmenet an F1 score metric."
   ]
  },
  {
   "cell_type": "code",
   "execution_count": 20,
   "id": "59ffa59c-1ed1-4ee3-9fa7-c5764925b0f3",
   "metadata": {},
   "outputs": [],
   "source": [
    "# std lib imports\n",
    "from collections import Counter\n",
    "from typing import Callable\n",
    "from math import sqrt\n",
    "\n",
    "# pkg imports\n",
    "from tqdm import tqdm"
   ]
  },
  {
   "cell_type": "code",
   "execution_count": 21,
   "id": "75442e23-33ea-4139-80b9-2184d8288943",
   "metadata": {},
   "outputs": [],
   "source": [
    "def precision(c: Counter) -> float:\n",
    "    pos_total = c['TP'] + c['FP']\n",
    "    if pos_total:\n",
    "        return c['TP']/pos_total\n",
    "    return float('nan')\n",
    "def recall(c: Counter) -> float:\n",
    "    divisor = c['TP'] + c['FN']\n",
    "    if divisor:\n",
    "        return c['TP']/divisor\n",
    "    return float('nan')\n",
    "def f1score(c: Counter) -> float:\n",
    "    prec, rec = precision(c), recall(c)\n",
    "    if prec and rec:\n",
    "        return 2*(prec*rec)/(prec+rec)\n",
    "    return float('nan')\n",
    "def specificity(c: Counter) -> float:\n",
    "    n = sum(c.values())\n",
    "    if n:\n",
    "        return 1-(c['FP']/n)\n",
    "    return float('nan')"
   ]
  },
  {
   "cell_type": "code",
   "execution_count": 22,
   "id": "264122bc-72ec-4a5b-b053-680a8531488f",
   "metadata": {},
   "outputs": [],
   "source": [
    "def validate_f1answer(example, pred, trace=None):\n",
    "    if trace is None:\n",
    "        if example.relevant and pred.relevant:\n",
    "            return \"TP\" # return True Positive\n",
    "        elif not example.relevant and not pred.relevant:\n",
    "            return \"TN\" # return True Negative\n",
    "        elif not example.relevant and pred.relevant:\n",
    "            return \"FP\" # return False Positive\n",
    "        else:\n",
    "            return \"FN\" # return False Negative\n",
    "    else:\n",
    "        return example.relevant == pred.relevant"
   ]
  },
  {
   "cell_type": "code",
   "execution_count": 23,
   "id": "5b61f23c-1b74-499c-9df2-a7b9e165cbf0",
   "metadata": {},
   "outputs": [],
   "source": [
    "def f1evaluate(program: dspy.Program,\n",
    "               devset: list[dspy.Example],\n",
    "               metric: Callable = validate_f1answer) -> None:\n",
    "    c = Counter()\n",
    "    with tqdm(total=len(devset),\n",
    "              bar_format=\"{postfix[0]} {postfix[1][value]:.3f} {l_bar}{bar}'| {n_fmt}/{total_fmt} [{elapsed}<{remaining}, ' '{rate_fmt}]'\",\n",
    "              postfix=[\"F1 Score:\", {'value': float('nan')}]) as t:\n",
    "        for x in devset:\n",
    "            pred = program(**x.inputs())\n",
    "            score = metric(x, pred)\n",
    "            c[score] += 1\n",
    "        \n",
    "            # scores\n",
    "            prec = precision(c)\n",
    "            rec = recall(c)\n",
    "            f1 = f1score(c)\n",
    "            \n",
    "            # update progress bar\n",
    "            t.postfix[1]['value'] = f1\n",
    "            t.update()\n",
    "\n",
    "    print(c)\n",
    "    mcc = mccscore(c)\n",
    "    print(f\"Precision: {prec:.3f}\")\n",
    "    print(f\"Recall: {rec:.3f}\")\n",
    "    print(f\"F1: {f1:.3f}\")\n",
    "    print(f\"MCC: {mcc:.3f}\")\n",
    "    print(f\"Specificity: {specificity(c):.3f}\")"
   ]
  },
  {
   "cell_type": "code",
   "execution_count": 26,
   "id": "a63ed86b-47c9-41f3-b76a-5dc6a516b9ac",
   "metadata": {},
   "outputs": [
    {
     "name": "stderr",
     "output_type": "stream",
     "text": [
      "F1 Score: 0.195 100%|██████████████████████████████████████████████████████████'| 300/300 [00:00<00:00, ' '1696.08it/s]'"
     ]
    },
    {
     "name": "stdout",
     "output_type": "stream",
     "text": [
      "Counter({'FP': 264, 'TP': 32, 'TN': 4})\n",
      "Precision: 0.108\n",
      "Recall: 1.000\n",
      "F1: 0.195\n",
      "MCC: 0.040\n",
      "Specificity: 0.120\n"
     ]
    },
    {
     "name": "stderr",
     "output_type": "stream",
     "text": [
      "\n"
     ]
    }
   ],
   "source": [
    "f1evaluate(simple_predict, devset)"
   ]
  },
  {
   "cell_type": "code",
   "execution_count": 27,
   "id": "6a140792-45e8-4709-8fd0-99cef5d3d121",
   "metadata": {},
   "outputs": [
    {
     "name": "stderr",
     "output_type": "stream",
     "text": [
      "F1 Score: 0.230 100%|██████████████████████████████████████████████████████████'| 300/300 [00:00<00:00, ' '1599.33it/s]'"
     ]
    },
    {
     "name": "stdout",
     "output_type": "stream",
     "text": [
      "Counter({'FP': 206, 'TN': 62, 'TP': 31, 'FN': 1})\n",
      "Precision: 0.131\n",
      "Recall: 0.969\n",
      "F1: 0.230\n",
      "MCC: 0.152\n",
      "Specificity: 0.313\n"
     ]
    },
    {
     "name": "stderr",
     "output_type": "stream",
     "text": [
      "\n"
     ]
    }
   ],
   "source": [
    "f1evaluate(classify, devset)"
   ]
  },
  {
   "cell_type": "markdown",
   "id": "0c09449f-aec1-4982-ad86-ba3d9f8924ec",
   "metadata": {},
   "source": [
    "### MCC\n",
    "[Pretty easy to implement](https://en.wikipedia.org/wiki/Phi_coefficient)"
   ]
  },
  {
   "cell_type": "code",
   "execution_count": 25,
   "id": "8a0a97b6-2322-48be-ad86-426aa33759da",
   "metadata": {},
   "outputs": [],
   "source": [
    "def mccscore(c: Counter) -> float:\n",
    "    tp, tn, fp, fn = c['TP'], c['TN'], c['FP'], c['FN']\n",
    "    dividend = tp*tn - fp*fn\n",
    "    divisor = sqrt((tp+fp)*(tp+fn)*(tn+fp)*(tn+fn))\n",
    "    if divisor:\n",
    "        return dividend/divisor\n",
    "    return float('nan')"
   ]
  },
  {
   "cell_type": "markdown",
   "id": "b1a8a37c-cfc9-4086-b5fc-c959cef8ddd9",
   "metadata": {},
   "source": [
    "## Other Pipelines\n",
    "Let's try something a bit different before optimising. \n",
    "\n",
    "Let's see what the other built-in modules have to offer, like Refine and BestOf.\n",
    "\n",
    "Starting with the latter, we can use the confidence parameter and see what happens."
   ]
  },
  {
   "cell_type": "code",
   "execution_count": 234,
   "id": "b1bb8254-98d0-4eba-b5d7-80ee5ccccd53",
   "metadata": {},
   "outputs": [],
   "source": [
    "def high_confidence(args, pred):\n",
    "    return pred.confidence"
   ]
  },
  {
   "cell_type": "code",
   "execution_count": 241,
   "id": "136968a7-7683-452b-b02d-ba9e1cdd7b0d",
   "metadata": {},
   "outputs": [],
   "source": [
    "best_of_3 = dspy.BestOfN(module=classify, N=3, reward_fn=high_confidence, threshold=.5)\n",
    "best_of_5 = dspy.BestOfN(module=classify, N=5, reward_fn=high_confidence, threshold=.7)"
   ]
  },
  {
   "cell_type": "code",
   "execution_count": 239,
   "id": "6e365649-21bb-4055-8f6f-f0528a2a9580",
   "metadata": {},
   "outputs": [
    {
     "name": "stderr",
     "output_type": "stream",
     "text": [
      "F1 Score: nan   1%|▍                                                               '| 2/300 [00:00<01:17, ' ' 3.87it/s]'"
     ]
    },
    {
     "name": "stdout",
     "output_type": "stream",
     "text": [
      "nan\n",
      "nan\n"
     ]
    },
    {
     "name": "stderr",
     "output_type": "stream",
     "text": [
      "F1 Score: nan   1%|▊                                                               '| 4/300 [00:00<01:03, ' ' 4.64it/s]'"
     ]
    },
    {
     "name": "stdout",
     "output_type": "stream",
     "text": [
      "nan\n",
      "nan\n"
     ]
    },
    {
     "name": "stderr",
     "output_type": "stream",
     "text": [
      "F1 Score: nan   2%|█▎                                                              '| 6/300 [00:01<00:59, ' ' 4.92it/s]'"
     ]
    },
    {
     "name": "stdout",
     "output_type": "stream",
     "text": [
      "nan\n",
      "nan\n"
     ]
    },
    {
     "name": "stderr",
     "output_type": "stream",
     "text": [
      "F1 Score: nan   3%|█▋                                                              '| 8/300 [00:01<01:08, ' ' 4.27it/s]'"
     ]
    },
    {
     "name": "stdout",
     "output_type": "stream",
     "text": [
      "nan\n",
      "nan\n"
     ]
    },
    {
     "name": "stderr",
     "output_type": "stream",
     "text": [
      "F1 Score: nan   3%|██                                                             '| 10/300 [00:02<01:02, ' ' 4.64it/s]'"
     ]
    },
    {
     "name": "stdout",
     "output_type": "stream",
     "text": [
      "nan\n",
      "nan\n"
     ]
    },
    {
     "name": "stderr",
     "output_type": "stream",
     "text": [
      "F1 Score: nan   4%|██▌                                                            '| 12/300 [00:02<00:59, ' ' 4.83it/s]'"
     ]
    },
    {
     "name": "stdout",
     "output_type": "stream",
     "text": [
      "nan\n",
      "nan\n"
     ]
    },
    {
     "name": "stderr",
     "output_type": "stream",
     "text": [
      "F1 Score: nan   5%|██▉                                                            '| 14/300 [00:03<01:30, ' ' 3.17it/s]'"
     ]
    },
    {
     "name": "stdout",
     "output_type": "stream",
     "text": [
      "nan\n",
      "nan\n"
     ]
    },
    {
     "name": "stderr",
     "output_type": "stream",
     "text": [
      "F1 Score: nan   5%|███▎                                                           '| 16/300 [00:04<01:23, ' ' 3.38it/s]'"
     ]
    },
    {
     "name": "stdout",
     "output_type": "stream",
     "text": [
      "nan\n",
      "nan\n"
     ]
    },
    {
     "name": "stderr",
     "output_type": "stream",
     "text": [
      "F1 Score: nan   6%|███▊                                                           '| 18/300 [00:04<01:18, ' ' 3.59it/s]'"
     ]
    },
    {
     "name": "stdout",
     "output_type": "stream",
     "text": [
      "nan\n",
      "nan\n"
     ]
    },
    {
     "name": "stderr",
     "output_type": "stream",
     "text": [
      "F1 Score: nan   7%|████▏                                                          '| 20/300 [00:05<01:06, ' ' 4.22it/s]'"
     ]
    },
    {
     "name": "stdout",
     "output_type": "stream",
     "text": [
      "nan\n",
      "nan\n"
     ]
    },
    {
     "name": "stderr",
     "output_type": "stream",
     "text": [
      "F1 Score: nan   7%|████▌                                                          '| 22/300 [00:05<01:00, ' ' 4.62it/s]'"
     ]
    },
    {
     "name": "stdout",
     "output_type": "stream",
     "text": [
      "nan\n",
      "nan\n"
     ]
    },
    {
     "name": "stderr",
     "output_type": "stream",
     "text": [
      "F1 Score: nan   8%|█████                                                          '| 24/300 [00:06<01:04, ' ' 4.25it/s]'"
     ]
    },
    {
     "name": "stdout",
     "output_type": "stream",
     "text": [
      "nan\n",
      "nan\n"
     ]
    },
    {
     "name": "stderr",
     "output_type": "stream",
     "text": [
      "F1 Score: nan   9%|█████▍                                                         '| 26/300 [00:06<00:58, ' ' 4.65it/s]'"
     ]
    },
    {
     "name": "stdout",
     "output_type": "stream",
     "text": [
      "nan\n",
      "nan\n"
     ]
    },
    {
     "name": "stderr",
     "output_type": "stream",
     "text": [
      "F1 Score: nan   9%|█████▉                                                         '| 28/300 [00:06<00:56, ' ' 4.85it/s]'"
     ]
    },
    {
     "name": "stdout",
     "output_type": "stream",
     "text": [
      "nan\n",
      "nan\n"
     ]
    },
    {
     "name": "stderr",
     "output_type": "stream",
     "text": [
      "F1 Score: nan  10%|██████▎                                                        '| 30/300 [00:07<01:01, ' ' 4.36it/s]'"
     ]
    },
    {
     "name": "stdout",
     "output_type": "stream",
     "text": [
      "nan\n",
      "nan\n"
     ]
    },
    {
     "name": "stderr",
     "output_type": "stream",
     "text": [
      "F1 Score: nan  11%|██████▋                                                        '| 32/300 [00:07<00:57, ' ' 4.68it/s]'"
     ]
    },
    {
     "name": "stdout",
     "output_type": "stream",
     "text": [
      "nan\n",
      "nan\n"
     ]
    },
    {
     "name": "stderr",
     "output_type": "stream",
     "text": [
      "F1 Score: nan  11%|███████▏                                                       '| 34/300 [00:08<00:54, ' ' 4.84it/s]'"
     ]
    },
    {
     "name": "stdout",
     "output_type": "stream",
     "text": [
      "nan\n",
      "nan\n"
     ]
    },
    {
     "name": "stderr",
     "output_type": "stream",
     "text": [
      "F1 Score: nan  12%|███████▎                                                       '| 35/300 [00:08<01:04, ' ' 4.10it/s]'"
     ]
    },
    {
     "name": "stdout",
     "output_type": "stream",
     "text": [
      "nan\n",
      "nan\n"
     ]
    },
    {
     "name": "stderr",
     "output_type": "stream",
     "text": [
      "F1 Score: nan  13%|███████▉                                                       '| 38/300 [00:09<01:08, ' ' 3.84it/s]'"
     ]
    },
    {
     "name": "stdout",
     "output_type": "stream",
     "text": [
      "nan\n",
      "nan\n"
     ]
    },
    {
     "name": "stderr",
     "output_type": "stream",
     "text": [
      "F1 Score: nan  13%|████████▏                                                      '| 39/300 [00:09<01:03, ' ' 4.13it/s]'"
     ]
    },
    {
     "name": "stdout",
     "output_type": "stream",
     "text": [
      "nan\n"
     ]
    },
    {
     "name": "stderr",
     "output_type": "stream",
     "text": [
      "F1 Score: nan  13%|████████▍                                                      '| 40/300 [00:09<01:09, ' ' 3.72it/s]'"
     ]
    },
    {
     "name": "stdout",
     "output_type": "stream",
     "text": [
      "nan\n"
     ]
    },
    {
     "name": "stderr",
     "output_type": "stream",
     "text": [
      "F1 Score: nan  14%|████████▊                                                      '| 42/300 [00:10<01:10, ' ' 3.65it/s]'"
     ]
    },
    {
     "name": "stdout",
     "output_type": "stream",
     "text": [
      "nan\n",
      "nan\n"
     ]
    },
    {
     "name": "stderr",
     "output_type": "stream",
     "text": [
      "F1 Score: nan  14%|█████████                                                      '| 43/300 [00:11<01:34, ' ' 2.72it/s]'"
     ]
    },
    {
     "name": "stdout",
     "output_type": "stream",
     "text": [
      "nan\n"
     ]
    },
    {
     "name": "stderr",
     "output_type": "stream",
     "text": [
      "F1 Score: nan  15%|█████████▍                                                     '| 45/300 [00:11<01:18, ' ' 3.23it/s]'"
     ]
    },
    {
     "name": "stdout",
     "output_type": "stream",
     "text": [
      "nan\n",
      "nan\n"
     ]
    },
    {
     "name": "stderr",
     "output_type": "stream",
     "text": [
      "F1 Score: nan  16%|█████████▊                                                     '| 47/300 [00:11<01:04, ' ' 3.95it/s]'"
     ]
    },
    {
     "name": "stdout",
     "output_type": "stream",
     "text": [
      "nan\n",
      "nan\n"
     ]
    },
    {
     "name": "stderr",
     "output_type": "stream",
     "text": [
      "F1 Score: nan  16%|██████████▎                                                    '| 49/300 [00:12<00:56, ' ' 4.43it/s]'"
     ]
    },
    {
     "name": "stdout",
     "output_type": "stream",
     "text": [
      "nan\n",
      "nan\n"
     ]
    },
    {
     "name": "stderr",
     "output_type": "stream",
     "text": [
      "F1 Score: nan  17%|██████████▋                                                    '| 51/300 [00:12<00:59, ' ' 4.22it/s]'"
     ]
    },
    {
     "name": "stdout",
     "output_type": "stream",
     "text": [
      "nan\n",
      "nan\n"
     ]
    },
    {
     "name": "stderr",
     "output_type": "stream",
     "text": [
      "F1 Score: nan  18%|███████████▏                                                   '| 53/300 [00:13<00:53, ' ' 4.62it/s]'"
     ]
    },
    {
     "name": "stdout",
     "output_type": "stream",
     "text": [
      "nan\n",
      "nan\n"
     ]
    },
    {
     "name": "stderr",
     "output_type": "stream",
     "text": [
      "F1 Score: nan  18%|███████████▌                                                   '| 55/300 [00:13<00:50, ' ' 4.82it/s]'"
     ]
    },
    {
     "name": "stdout",
     "output_type": "stream",
     "text": [
      "nan\n",
      "nan\n"
     ]
    },
    {
     "name": "stderr",
     "output_type": "stream",
     "text": [
      "F1 Score: nan  19%|███████████▊                                                   '| 56/300 [00:13<00:59, ' ' 4.10it/s]'"
     ]
    },
    {
     "name": "stdout",
     "output_type": "stream",
     "text": [
      "nan\n"
     ]
    },
    {
     "name": "stderr",
     "output_type": "stream",
     "text": [
      "F1 Score: nan  19%|███████████▉                                                   '| 57/300 [00:14<01:24, ' ' 2.87it/s]'"
     ]
    },
    {
     "name": "stdout",
     "output_type": "stream",
     "text": [
      "nan\n",
      "nan\n"
     ]
    },
    {
     "name": "stderr",
     "output_type": "stream",
     "text": [
      "F1 Score: nan  20%|████████████▍                                                  '| 59/300 [00:14<01:05, ' ' 3.66it/s]'"
     ]
    },
    {
     "name": "stdout",
     "output_type": "stream",
     "text": [
      "nan\n"
     ]
    },
    {
     "name": "stderr",
     "output_type": "stream",
     "text": [
      "F1 Score: nan  20%|████████████▌                                                  '| 60/300 [00:15<01:09, ' ' 3.46it/s]'"
     ]
    },
    {
     "name": "stdout",
     "output_type": "stream",
     "text": [
      "nan\n",
      "nan\n"
     ]
    },
    {
     "name": "stderr",
     "output_type": "stream",
     "text": [
      "F1 Score: nan  21%|█████████████▏                                                 '| 63/300 [00:15<00:54, ' ' 4.32it/s]'"
     ]
    },
    {
     "name": "stdout",
     "output_type": "stream",
     "text": [
      "nan\n",
      "nan\n"
     ]
    },
    {
     "name": "stderr",
     "output_type": "stream",
     "text": [
      "F1 Score: nan  21%|█████████████▍                                                 '| 64/300 [00:16<00:52, ' ' 4.48it/s]'"
     ]
    },
    {
     "name": "stdout",
     "output_type": "stream",
     "text": [
      "nan\n"
     ]
    },
    {
     "name": "stderr",
     "output_type": "stream",
     "text": [
      "F1 Score: nan  22%|█████████████▋                                                 '| 65/300 [00:16<00:51, ' ' 4.54it/s]'"
     ]
    },
    {
     "name": "stdout",
     "output_type": "stream",
     "text": [
      "nan\n"
     ]
    },
    {
     "name": "stderr",
     "output_type": "stream",
     "text": [
      "F1 Score: nan  22%|█████████████▊                                                 '| 66/300 [00:16<01:00, ' ' 3.89it/s]'"
     ]
    },
    {
     "name": "stdout",
     "output_type": "stream",
     "text": [
      "nan\n",
      "nan\n"
     ]
    },
    {
     "name": "stderr",
     "output_type": "stream",
     "text": [
      "F1 Score: 0.118  23%|██████████████                                               '| 69/300 [00:17<00:51, ' ' 4.48it/s]'"
     ]
    },
    {
     "name": "stdout",
     "output_type": "stream",
     "text": [
      "0.0625\n",
      "0.11764705882352941\n"
     ]
    },
    {
     "name": "stderr",
     "output_type": "stream",
     "text": [
      "F1 Score: 0.162  24%|██████████████▍                                              '| 71/300 [00:17<00:48, ' ' 4.69it/s]'"
     ]
    },
    {
     "name": "stdout",
     "output_type": "stream",
     "text": [
      "0.11428571428571428\n",
      "0.16216216216216214\n"
     ]
    },
    {
     "name": "stderr",
     "output_type": "stream",
     "text": [
      "F1 Score: 0.205  24%|██████████████▋                                              '| 72/300 [00:17<00:47, ' ' 4.79it/s]'"
     ]
    },
    {
     "name": "stdout",
     "output_type": "stream",
     "text": [
      "0.20512820512820512\n"
     ]
    },
    {
     "name": "stderr",
     "output_type": "stream",
     "text": [
      "F1 Score: 0.279  25%|███████████████                                              '| 74/300 [00:18<00:51, ' ' 4.38it/s]'"
     ]
    },
    {
     "name": "stdout",
     "output_type": "stream",
     "text": [
      "0.2439024390243902\n",
      "0.27906976744186046\n"
     ]
    },
    {
     "name": "stderr",
     "output_type": "stream",
     "text": [
      "F1 Score: 0.304  25%|███████████████▍                                             '| 76/300 [00:18<00:47, ' ' 4.69it/s]'"
     ]
    },
    {
     "name": "stdout",
     "output_type": "stream",
     "text": [
      "0.3111111111111111\n",
      "0.30434782608695654\n"
     ]
    },
    {
     "name": "stderr",
     "output_type": "stream",
     "text": [
      "F1 Score: 0.298  26%|███████████████▋                                             '| 77/300 [00:19<00:46, ' ' 4.78it/s]'"
     ]
    },
    {
     "name": "stdout",
     "output_type": "stream",
     "text": [
      "0.2978723404255319\n"
     ]
    },
    {
     "name": "stderr",
     "output_type": "stream",
     "text": [
      "F1 Score: 0.292  26%|████████████████                                             '| 79/300 [00:19<00:51, ' ' 4.29it/s]'"
     ]
    },
    {
     "name": "stdout",
     "output_type": "stream",
     "text": [
      "0.29166666666666663\n",
      "0.29166666666666663\n"
     ]
    },
    {
     "name": "stderr",
     "output_type": "stream",
     "text": [
      "F1 Score: 0.280  27%|████████████████▍                                            '| 81/300 [00:19<00:47, ' ' 4.63it/s]'"
     ]
    },
    {
     "name": "stdout",
     "output_type": "stream",
     "text": [
      "0.28571428571428575\n",
      "0.27999999999999997\n"
     ]
    },
    {
     "name": "stderr",
     "output_type": "stream",
     "text": [
      "F1 Score: 0.275  27%|████████████████▋                                            '| 82/300 [00:20<00:46, ' ' 4.74it/s]'"
     ]
    },
    {
     "name": "stdout",
     "output_type": "stream",
     "text": [
      "0.2745098039215686\n",
      "0.26923076923076916\n"
     ]
    },
    {
     "name": "stderr",
     "output_type": "stream",
     "text": [
      "F1 Score: 0.264  28%|█████████████████                                            '| 84/300 [00:20<00:44, ' ' 4.85it/s]'"
     ]
    },
    {
     "name": "stdout",
     "output_type": "stream",
     "text": [
      "0.26415094339622647\n"
     ]
    },
    {
     "name": "stderr",
     "output_type": "stream",
     "text": [
      "F1 Score: 0.255  29%|█████████████████▍                                           '| 86/300 [00:21<00:49, ' ' 4.30it/s]'"
     ]
    },
    {
     "name": "stdout",
     "output_type": "stream",
     "text": [
      "0.2592592592592593\n",
      "0.25454545454545446\n"
     ]
    },
    {
     "name": "stderr",
     "output_type": "stream",
     "text": [
      "F1 Score: 0.250  29%|█████████████████▉                                           '| 88/300 [00:21<00:46, ' ' 4.61it/s]'"
     ]
    },
    {
     "name": "stdout",
     "output_type": "stream",
     "text": [
      "0.25454545454545446\n",
      "0.25000000000000006\n"
     ]
    },
    {
     "name": "stderr",
     "output_type": "stream",
     "text": [
      "F1 Score: 0.246  30%|██████████████████▎                                          '| 90/300 [00:21<00:43, ' ' 4.84it/s]'"
     ]
    },
    {
     "name": "stdout",
     "output_type": "stream",
     "text": [
      "0.25000000000000006\n",
      "0.2456140350877193\n"
     ]
    },
    {
     "name": "stderr",
     "output_type": "stream",
     "text": [
      "F1 Score: 0.241  31%|██████████████████▋                                          '| 92/300 [00:22<00:48, ' ' 4.31it/s]'"
     ]
    },
    {
     "name": "stdout",
     "output_type": "stream",
     "text": [
      "0.2456140350877193\n",
      "0.24137931034482757\n"
     ]
    },
    {
     "name": "stderr",
     "output_type": "stream",
     "text": [
      "F1 Score: 0.237  31%|███████████████████                                          '| 94/300 [00:22<00:44, ' ' 4.65it/s]'"
     ]
    },
    {
     "name": "stdout",
     "output_type": "stream",
     "text": [
      "0.23728813559322037\n",
      "0.23728813559322037\n"
     ]
    },
    {
     "name": "stderr",
     "output_type": "stream",
     "text": [
      "F1 Score: 0.237  32%|███████████████████▎                                         '| 95/300 [00:23<00:42, ' ' 4.78it/s]'"
     ]
    },
    {
     "name": "stdout",
     "output_type": "stream",
     "text": [
      "0.23728813559322037\n"
     ]
    },
    {
     "name": "stderr",
     "output_type": "stream",
     "text": [
      "F1 Score: 0.233  32%|███████████████████▌                                         '| 96/300 [00:23<00:42, ' ' 4.81it/s]'"
     ]
    },
    {
     "name": "stdout",
     "output_type": "stream",
     "text": [
      "0.23333333333333334\n"
     ]
    },
    {
     "name": "stderr",
     "output_type": "stream",
     "text": [
      "F1 Score: 0.226  33%|███████████████████▉                                         '| 98/300 [00:23<00:47, ' ' 4.30it/s]'"
     ]
    },
    {
     "name": "stdout",
     "output_type": "stream",
     "text": [
      "0.22950819672131148\n",
      "0.22580645161290322\n"
     ]
    },
    {
     "name": "stderr",
     "output_type": "stream",
     "text": [
      "F1 Score: 0.219  33%|████████████████████                                        '| 100/300 [00:24<00:42, ' ' 4.68it/s]'"
     ]
    },
    {
     "name": "stdout",
     "output_type": "stream",
     "text": [
      "0.22222222222222224\n",
      "0.21875\n"
     ]
    },
    {
     "name": "stderr",
     "output_type": "stream",
     "text": [
      "F1 Score: 0.215  34%|████████████████████▍                                       '| 102/300 [00:24<00:40, ' ' 4.90it/s]'"
     ]
    },
    {
     "name": "stdout",
     "output_type": "stream",
     "text": [
      "0.2153846153846154\n",
      "0.2153846153846154\n"
     ]
    },
    {
     "name": "stderr",
     "output_type": "stream",
     "text": [
      "F1 Score: 0.212  34%|████████████████████▌                                       '| 103/300 [00:24<00:47, ' ' 4.14it/s]'"
     ]
    },
    {
     "name": "stdout",
     "output_type": "stream",
     "text": [
      "0.21212121212121213\n",
      "0.21212121212121213\n"
     ]
    },
    {
     "name": "stderr",
     "output_type": "stream",
     "text": [
      "F1 Score: 0.209  35%|█████████████████████                                       '| 105/300 [00:25<00:43, ' ' 4.48it/s]'"
     ]
    },
    {
     "name": "stdout",
     "output_type": "stream",
     "text": [
      "0.208955223880597\n"
     ]
    },
    {
     "name": "stderr",
     "output_type": "stream",
     "text": [
      "F1 Score: 0.209  36%|█████████████████████▍                                      '| 107/300 [00:26<00:56, ' ' 3.43it/s]'"
     ]
    },
    {
     "name": "stdout",
     "output_type": "stream",
     "text": [
      "0.208955223880597\n",
      "0.208955223880597\n"
     ]
    },
    {
     "name": "stderr",
     "output_type": "stream",
     "text": [
      "F1 Score: 0.206  36%|█████████████████████▊                                      '| 109/300 [00:26<00:51, ' ' 3.69it/s]'"
     ]
    },
    {
     "name": "stdout",
     "output_type": "stream",
     "text": [
      "0.208955223880597\n",
      "0.20588235294117646\n"
     ]
    },
    {
     "name": "stderr",
     "output_type": "stream",
     "text": [
      "F1 Score: 0.200  37%|██████████████████████▏                                     '| 111/300 [00:27<00:44, ' ' 4.29it/s]'"
     ]
    },
    {
     "name": "stdout",
     "output_type": "stream",
     "text": [
      "0.20289855072463767\n",
      "0.19999999999999998\n"
     ]
    },
    {
     "name": "stderr",
     "output_type": "stream",
     "text": [
      "F1 Score: 0.194  38%|██████████████████████▌                                     '| 113/300 [00:27<00:40, ' ' 4.67it/s]'"
     ]
    },
    {
     "name": "stdout",
     "output_type": "stream",
     "text": [
      "0.19718309859154926\n",
      "0.19444444444444445\n"
     ]
    },
    {
     "name": "stderr",
     "output_type": "stream",
     "text": [
      "F1 Score: 0.189  38%|███████████████████████                                     '| 115/300 [00:27<00:43, ' ' 4.26it/s]'"
     ]
    },
    {
     "name": "stdout",
     "output_type": "stream",
     "text": [
      "0.1917808219178082\n",
      "0.1891891891891892\n"
     ]
    },
    {
     "name": "stderr",
     "output_type": "stream",
     "text": [
      "F1 Score: 0.187  39%|███████████████████████▍                                    '| 117/300 [00:28<00:39, ' ' 4.65it/s]'"
     ]
    },
    {
     "name": "stdout",
     "output_type": "stream",
     "text": [
      "0.18666666666666668\n",
      "0.18666666666666668\n"
     ]
    },
    {
     "name": "stderr",
     "output_type": "stream",
     "text": [
      "F1 Score: 0.184  39%|███████████████████████▌                                    '| 118/300 [00:28<00:38, ' ' 4.77it/s]'"
     ]
    },
    {
     "name": "stdout",
     "output_type": "stream",
     "text": [
      "0.1842105263157895\n"
     ]
    },
    {
     "name": "stderr",
     "output_type": "stream",
     "text": [
      "F1 Score: 0.182  40%|████████████████████████                                    '| 120/300 [00:29<00:49, ' ' 3.66it/s]'"
     ]
    },
    {
     "name": "stdout",
     "output_type": "stream",
     "text": [
      "0.1842105263157895\n",
      "0.18181818181818182\n"
     ]
    },
    {
     "name": "stderr",
     "output_type": "stream",
     "text": [
      "F1 Score: 0.177  41%|████████████████████████▍                                   '| 122/300 [00:29<00:41, ' ' 4.29it/s]'"
     ]
    },
    {
     "name": "stdout",
     "output_type": "stream",
     "text": [
      "0.17948717948717952\n",
      "0.17721518987341772\n"
     ]
    },
    {
     "name": "stderr",
     "output_type": "stream",
     "text": [
      "F1 Score: 0.175  41%|████████████████████████▊                                   '| 124/300 [00:30<00:37, ' ' 4.70it/s]'"
     ]
    },
    {
     "name": "stdout",
     "output_type": "stream",
     "text": [
      "0.17500000000000002\n",
      "0.17500000000000002\n"
     ]
    },
    {
     "name": "stderr",
     "output_type": "stream",
     "text": [
      "F1 Score: 0.171  42%|█████████████████████████▏                                  '| 126/300 [00:30<00:40, ' ' 4.25it/s]'"
     ]
    },
    {
     "name": "stdout",
     "output_type": "stream",
     "text": [
      "0.17283950617283952\n",
      "0.17073170731707316\n"
     ]
    },
    {
     "name": "stderr",
     "output_type": "stream",
     "text": [
      "F1 Score: 0.169  43%|█████████████████████████▌                                  '| 128/300 [00:30<00:36, ' ' 4.66it/s]'"
     ]
    },
    {
     "name": "stdout",
     "output_type": "stream",
     "text": [
      "0.1686746987951807\n",
      "0.1686746987951807\n"
     ]
    },
    {
     "name": "stderr",
     "output_type": "stream",
     "text": [
      "F1 Score: 0.165  43%|██████████████████████████                                  '| 130/300 [00:31<00:34, ' ' 4.91it/s]'"
     ]
    },
    {
     "name": "stdout",
     "output_type": "stream",
     "text": [
      "0.16666666666666669\n",
      "0.16470588235294117\n"
     ]
    },
    {
     "name": "stderr",
     "output_type": "stream",
     "text": [
      "F1 Score: 0.163  44%|██████████████████████████▏                                 '| 131/300 [00:31<00:33, ' ' 4.97it/s]'"
     ]
    },
    {
     "name": "stdout",
     "output_type": "stream",
     "text": [
      "0.1627906976744186\n"
     ]
    },
    {
     "name": "stderr",
     "output_type": "stream",
     "text": [
      "F1 Score: 0.159  44%|██████████████████████████▌                                 '| 133/300 [00:32<00:38, ' ' 4.38it/s]'"
     ]
    },
    {
     "name": "stdout",
     "output_type": "stream",
     "text": [
      "0.16091954022988506\n",
      "0.15909090909090906\n"
     ]
    },
    {
     "name": "stderr",
     "output_type": "stream",
     "text": [
      "F1 Score: 0.159  45%|██████████████████████████▊                                 '| 134/300 [00:32<00:36, ' ' 4.56it/s]'"
     ]
    },
    {
     "name": "stdout",
     "output_type": "stream",
     "text": [
      "0.15909090909090906\n",
      "0.15730337078651688\n"
     ]
    },
    {
     "name": "stderr",
     "output_type": "stream",
     "text": [
      "F1 Score: 0.154  46%|███████████████████████████▍                                '| 137/300 [00:32<00:33, ' ' 4.90it/s]'"
     ]
    },
    {
     "name": "stdout",
     "output_type": "stream",
     "text": [
      "0.15555555555555559\n",
      "0.15384615384615385\n"
     ]
    },
    {
     "name": "stderr",
     "output_type": "stream",
     "text": [
      "F1 Score: 0.151  46%|███████████████████████████▊                                '| 139/300 [00:33<00:36, ' ' 4.36it/s]'"
     ]
    },
    {
     "name": "stdout",
     "output_type": "stream",
     "text": [
      "0.15217391304347824\n",
      "0.15053763440860213\n"
     ]
    },
    {
     "name": "stderr",
     "output_type": "stream",
     "text": [
      "F1 Score: 0.149  47%|████████████████████████████▏                               '| 141/300 [00:33<00:33, ' ' 4.69it/s]'"
     ]
    },
    {
     "name": "stdout",
     "output_type": "stream",
     "text": [
      "0.14893617021276595\n",
      "0.14893617021276595\n"
     ]
    },
    {
     "name": "stderr",
     "output_type": "stream",
     "text": [
      "F1 Score: 0.147  47%|████████████████████████████▍                               '| 142/300 [00:33<00:32, ' ' 4.80it/s]'"
     ]
    },
    {
     "name": "stdout",
     "output_type": "stream",
     "text": [
      "0.14736842105263157\n",
      "0.16494845360824742\n"
     ]
    },
    {
     "name": "stderr",
     "output_type": "stream",
     "text": [
      "F1 Score: 0.198  48%|█████████████████████████████                               '| 145/300 [00:34<00:35, ' ' 4.34it/s]'"
     ]
    },
    {
     "name": "stdout",
     "output_type": "stream",
     "text": [
      "0.18181818181818182\n",
      "0.198019801980198\n"
     ]
    },
    {
     "name": "stderr",
     "output_type": "stream",
     "text": [
      "F1 Score: 0.229  49%|█████████████████████████████▍                              '| 147/300 [00:35<00:32, ' ' 4.73it/s]'"
     ]
    },
    {
     "name": "stdout",
     "output_type": "stream",
     "text": [
      "0.21359223300970875\n",
      "0.2285714285714286\n"
     ]
    },
    {
     "name": "stderr",
     "output_type": "stream",
     "text": [
      "F1 Score: 0.257  50%|█████████████████████████████▊                              '| 149/300 [00:35<00:31, ' ' 4.87it/s]'"
     ]
    },
    {
     "name": "stdout",
     "output_type": "stream",
     "text": [
      "0.24299065420560742\n",
      "0.25688073394495414\n"
     ]
    },
    {
     "name": "stderr",
     "output_type": "stream",
     "text": [
      "F1 Score: 0.270  50%|██████████████████████████████                              '| 150/300 [00:35<00:30, ' ' 4.92it/s]'"
     ]
    },
    {
     "name": "stdout",
     "output_type": "stream",
     "text": [
      "0.27027027027027023\n"
     ]
    },
    {
     "name": "stderr",
     "output_type": "stream",
     "text": [
      "F1 Score: 0.265  51%|██████████████████████████████▍                             '| 152/300 [00:36<00:33, ' ' 4.44it/s]'"
     ]
    },
    {
     "name": "stdout",
     "output_type": "stream",
     "text": [
      "0.26785714285714285\n",
      "0.26548672566371684\n"
     ]
    },
    {
     "name": "stderr",
     "output_type": "stream",
     "text": [
      "F1 Score: 0.263  51%|██████████████████████████████▊                             '| 154/300 [00:36<00:30, ' ' 4.75it/s]'"
     ]
    },
    {
     "name": "stdout",
     "output_type": "stream",
     "text": [
      "0.2631578947368421\n",
      "0.2631578947368421\n"
     ]
    },
    {
     "name": "stderr",
     "output_type": "stream",
     "text": [
      "F1 Score: 0.259  52%|███████████████████████████████▏                            '| 156/300 [00:36<00:29, ' ' 4.91it/s]'"
     ]
    },
    {
     "name": "stdout",
     "output_type": "stream",
     "text": [
      "0.2608695652173913\n",
      "0.25862068965517243\n"
     ]
    },
    {
     "name": "stderr",
     "output_type": "stream",
     "text": [
      "F1 Score: 0.254  53%|███████████████████████████████▌                            '| 158/300 [00:37<00:32, ' ' 4.35it/s]'"
     ]
    },
    {
     "name": "stdout",
     "output_type": "stream",
     "text": [
      "0.2564102564102564\n",
      "0.25423728813559326\n"
     ]
    },
    {
     "name": "stderr",
     "output_type": "stream",
     "text": [
      "F1 Score: 0.250  53%|████████████████████████████████                            '| 160/300 [00:37<00:29, ' ' 4.70it/s]'"
     ]
    },
    {
     "name": "stdout",
     "output_type": "stream",
     "text": [
      "0.25210084033613445\n",
      "0.25\n"
     ]
    },
    {
     "name": "stderr",
     "output_type": "stream",
     "text": [
      "F1 Score: 0.246  54%|████████████████████████████████▍                           '| 162/300 [00:38<00:28, ' ' 4.89it/s]'"
     ]
    },
    {
     "name": "stdout",
     "output_type": "stream",
     "text": [
      "0.24793388429752067\n",
      "0.2459016393442623\n"
     ]
    },
    {
     "name": "stderr",
     "output_type": "stream",
     "text": [
      "F1 Score: 0.242  55%|████████████████████████████████▊                           '| 164/300 [00:38<00:31, ' ' 4.38it/s]'"
     ]
    },
    {
     "name": "stdout",
     "output_type": "stream",
     "text": [
      "0.24390243902439027\n",
      "0.24193548387096778\n"
     ]
    },
    {
     "name": "stderr",
     "output_type": "stream",
     "text": [
      "F1 Score: 0.238  55%|█████████████████████████████████▏                          '| 166/300 [00:39<00:28, ' ' 4.72it/s]'"
     ]
    },
    {
     "name": "stdout",
     "output_type": "stream",
     "text": [
      "0.24000000000000002\n",
      "0.2380952380952381\n"
     ]
    },
    {
     "name": "stderr",
     "output_type": "stream",
     "text": [
      "F1 Score: 0.234  56%|█████████████████████████████████▌                          '| 168/300 [00:39<00:27, ' ' 4.88it/s]'"
     ]
    },
    {
     "name": "stdout",
     "output_type": "stream",
     "text": [
      "0.2362204724409449\n",
      "0.23437499999999997\n"
     ]
    },
    {
     "name": "stderr",
     "output_type": "stream",
     "text": [
      "F1 Score: 0.231  57%|██████████████████████████████████                          '| 170/300 [00:40<00:29, ' ' 4.35it/s]'"
     ]
    },
    {
     "name": "stdout",
     "output_type": "stream",
     "text": [
      "0.23255813953488375\n",
      "0.23076923076923075\n"
     ]
    },
    {
     "name": "stderr",
     "output_type": "stream",
     "text": [
      "F1 Score: 0.227  57%|██████████████████████████████████▍                         '| 172/300 [00:40<00:27, ' ' 4.72it/s]'"
     ]
    },
    {
     "name": "stdout",
     "output_type": "stream",
     "text": [
      "0.22900763358778628\n",
      "0.22727272727272727\n"
     ]
    },
    {
     "name": "stderr",
     "output_type": "stream",
     "text": [
      "F1 Score: 0.224  58%|██████████████████████████████████▊                         '| 174/300 [00:40<00:25, ' ' 4.88it/s]'"
     ]
    },
    {
     "name": "stdout",
     "output_type": "stream",
     "text": [
      "0.22556390977443608\n",
      "0.22388059701492533\n"
     ]
    },
    {
     "name": "stderr",
     "output_type": "stream",
     "text": [
      "F1 Score: 0.221  59%|███████████████████████████████████▏                        '| 176/300 [00:41<00:28, ' ' 4.34it/s]'"
     ]
    },
    {
     "name": "stdout",
     "output_type": "stream",
     "text": [
      "0.2222222222222222\n",
      "0.22058823529411764\n"
     ]
    },
    {
     "name": "stderr",
     "output_type": "stream",
     "text": [
      "F1 Score: 0.217  59%|███████████████████████████████████▌                        '| 178/300 [00:41<00:26, ' ' 4.66it/s]'"
     ]
    },
    {
     "name": "stdout",
     "output_type": "stream",
     "text": [
      "0.21897810218978103\n",
      "0.21739130434782608\n"
     ]
    },
    {
     "name": "stderr",
     "output_type": "stream",
     "text": [
      "F1 Score: 0.214  60%|████████████████████████████████████                        '| 180/300 [00:42<00:24, ' ' 4.87it/s]'"
     ]
    },
    {
     "name": "stdout",
     "output_type": "stream",
     "text": [
      "0.21582733812949637\n",
      "0.21428571428571425\n"
     ]
    },
    {
     "name": "stderr",
     "output_type": "stream",
     "text": [
      "F1 Score: 0.211  61%|████████████████████████████████████▍                       '| 182/300 [00:42<00:27, ' ' 4.30it/s]'"
     ]
    },
    {
     "name": "stdout",
     "output_type": "stream",
     "text": [
      "0.21276595744680846\n",
      "0.21126760563380279\n"
     ]
    },
    {
     "name": "stderr",
     "output_type": "stream",
     "text": [
      "F1 Score: 0.210  61%|████████████████████████████████████▌                       '| 183/300 [00:43<00:25, ' ' 4.51it/s]'"
     ]
    },
    {
     "name": "stdout",
     "output_type": "stream",
     "text": [
      "0.2097902097902098\n"
     ]
    },
    {
     "name": "stderr",
     "output_type": "stream",
     "text": [
      "F1 Score: 0.208  61%|████████████████████████████████████▊                       '| 184/300 [00:43<00:25, ' ' 4.55it/s]'"
     ]
    },
    {
     "name": "stdout",
     "output_type": "stream",
     "text": [
      "0.20833333333333334\n"
     ]
    },
    {
     "name": "stderr",
     "output_type": "stream",
     "text": [
      "F1 Score: 0.207  62%|█████████████████████████████████████                       '| 185/300 [00:43<00:24, ' ' 4.65it/s]'"
     ]
    },
    {
     "name": "stdout",
     "output_type": "stream",
     "text": [
      "0.20689655172413793\n"
     ]
    },
    {
     "name": "stderr",
     "output_type": "stream",
     "text": [
      "F1 Score: 0.205  62%|█████████████████████████████████████▏                      '| 186/300 [00:43<00:24, ' ' 4.58it/s]'"
     ]
    },
    {
     "name": "stdout",
     "output_type": "stream",
     "text": [
      "0.2054794520547945\n"
     ]
    },
    {
     "name": "stderr",
     "output_type": "stream",
     "text": [
      "F1 Score: 0.203  63%|█████████████████████████████████████▌                      '| 188/300 [00:44<00:26, ' ' 4.25it/s]'"
     ]
    },
    {
     "name": "stdout",
     "output_type": "stream",
     "text": [
      "0.2040816326530612\n",
      "0.20270270270270271\n"
     ]
    },
    {
     "name": "stderr",
     "output_type": "stream",
     "text": [
      "F1 Score: 0.200  63%|██████████████████████████████████████                      '| 190/300 [00:44<00:23, ' ' 4.61it/s]'"
     ]
    },
    {
     "name": "stdout",
     "output_type": "stream",
     "text": [
      "0.20134228187919465\n",
      "0.2\n"
     ]
    },
    {
     "name": "stderr",
     "output_type": "stream",
     "text": [
      "F1 Score: 0.197  64%|██████████████████████████████████████▍                     '| 192/300 [00:44<00:22, ' ' 4.83it/s]'"
     ]
    },
    {
     "name": "stdout",
     "output_type": "stream",
     "text": [
      "0.19867549668874168\n",
      "0.19736842105263155\n"
     ]
    },
    {
     "name": "stderr",
     "output_type": "stream",
     "text": [
      "F1 Score: 0.196  64%|██████████████████████████████████████▌                     '| 193/300 [00:45<00:21, ' ' 4.92it/s]'"
     ]
    },
    {
     "name": "stdout",
     "output_type": "stream",
     "text": [
      "0.19607843137254904\n"
     ]
    },
    {
     "name": "stderr",
     "output_type": "stream",
     "text": [
      "F1 Score: 0.194  65%|███████████████████████████████████████                     '| 195/300 [00:45<00:23, ' ' 4.41it/s]'"
     ]
    },
    {
     "name": "stdout",
     "output_type": "stream",
     "text": [
      "0.1948051948051948\n",
      "0.1935483870967742\n"
     ]
    },
    {
     "name": "stderr",
     "output_type": "stream",
     "text": [
      "F1 Score: 0.191  66%|███████████████████████████████████████▍                    '| 197/300 [00:46<00:21, ' ' 4.73it/s]'"
     ]
    },
    {
     "name": "stdout",
     "output_type": "stream",
     "text": [
      "0.1923076923076923\n",
      "0.19108280254777069\n"
     ]
    },
    {
     "name": "stderr",
     "output_type": "stream",
     "text": [
      "F1 Score: 0.190  66%|███████████████████████████████████████▌                    '| 198/300 [00:46<00:21, ' ' 4.79it/s]'"
     ]
    },
    {
     "name": "stdout",
     "output_type": "stream",
     "text": [
      "0.18987341772151897\n"
     ]
    },
    {
     "name": "stderr",
     "output_type": "stream",
     "text": [
      "F1 Score: 0.189  66%|███████████████████████████████████████▊                    '| 199/300 [00:46<00:20, ' ' 4.84it/s]'"
     ]
    },
    {
     "name": "stdout",
     "output_type": "stream",
     "text": [
      "0.18867924528301883\n"
     ]
    },
    {
     "name": "stderr",
     "output_type": "stream",
     "text": [
      "F1 Score: 0.186  67%|████████████████████████████████████████▏                   '| 201/300 [00:47<00:22, ' ' 4.35it/s]'"
     ]
    },
    {
     "name": "stdout",
     "output_type": "stream",
     "text": [
      "0.1875\n",
      "0.18633540372670807\n"
     ]
    },
    {
     "name": "stderr",
     "output_type": "stream",
     "text": [
      "F1 Score: 0.184  68%|████████████████████████████████████████▌                   '| 203/300 [00:47<00:20, ' ' 4.72it/s]'"
     ]
    },
    {
     "name": "stdout",
     "output_type": "stream",
     "text": [
      "0.18518518518518517\n",
      "0.18404907975460127\n"
     ]
    },
    {
     "name": "stderr",
     "output_type": "stream",
     "text": [
      "F1 Score: 0.183  68%|████████████████████████████████████████▊                   '| 204/300 [00:47<00:19, ' ' 4.82it/s]'"
     ]
    },
    {
     "name": "stdout",
     "output_type": "stream",
     "text": [
      "0.1829268292682927\n"
     ]
    },
    {
     "name": "stderr",
     "output_type": "stream",
     "text": [
      "F1 Score: 0.182  68%|█████████████████████████████████████████                   '| 205/300 [00:47<00:19, ' ' 4.78it/s]'"
     ]
    },
    {
     "name": "stdout",
     "output_type": "stream",
     "text": [
      "0.18181818181818182\n"
     ]
    },
    {
     "name": "stderr",
     "output_type": "stream",
     "text": [
      "F1 Score: 0.181  69%|█████████████████████████████████████████▏                  '| 206/300 [00:48<00:20, ' ' 4.61it/s]'"
     ]
    },
    {
     "name": "stdout",
     "output_type": "stream",
     "text": [
      "0.18072289156626503\n"
     ]
    },
    {
     "name": "stderr",
     "output_type": "stream",
     "text": [
      "F1 Score: 0.179  69%|█████████████████████████████████████████▌                  '| 208/300 [00:48<00:21, ' ' 4.21it/s]'"
     ]
    },
    {
     "name": "stdout",
     "output_type": "stream",
     "text": [
      "0.17964071856287422\n",
      "0.1785714285714286\n"
     ]
    },
    {
     "name": "stderr",
     "output_type": "stream",
     "text": [
      "F1 Score: 0.176  70%|██████████████████████████████████████████                  '| 210/300 [00:49<00:19, ' ' 4.54it/s]'"
     ]
    },
    {
     "name": "stdout",
     "output_type": "stream",
     "text": [
      "0.17751479289940825\n",
      "0.17647058823529413\n"
     ]
    },
    {
     "name": "stderr",
     "output_type": "stream",
     "text": [
      "F1 Score: 0.174  71%|██████████████████████████████████████████▍                 '| 212/300 [00:49<00:18, ' ' 4.80it/s]'"
     ]
    },
    {
     "name": "stdout",
     "output_type": "stream",
     "text": [
      "0.1754385964912281\n",
      "0.17441860465116277\n"
     ]
    },
    {
     "name": "stderr",
     "output_type": "stream",
     "text": [
      "F1 Score: 0.172  71%|██████████████████████████████████████████▊                 '| 214/300 [00:49<00:19, ' ' 4.31it/s]'"
     ]
    },
    {
     "name": "stdout",
     "output_type": "stream",
     "text": [
      "0.17341040462427748\n",
      "0.17241379310344826\n"
     ]
    },
    {
     "name": "stderr",
     "output_type": "stream",
     "text": [
      "F1 Score: 0.170  72%|███████████████████████████████████████████▏                '| 216/300 [00:50<00:18, ' ' 4.63it/s]'"
     ]
    },
    {
     "name": "stdout",
     "output_type": "stream",
     "text": [
      "0.17142857142857146\n",
      "0.17045454545454544\n"
     ]
    },
    {
     "name": "stderr",
     "output_type": "stream",
     "text": [
      "F1 Score: 0.179  73%|███████████████████████████████████████████▌                '| 218/300 [00:50<00:17, ' ' 4.79it/s]'"
     ]
    },
    {
     "name": "stdout",
     "output_type": "stream",
     "text": [
      "0.16949152542372878\n",
      "0.1787709497206704\n"
     ]
    },
    {
     "name": "stderr",
     "output_type": "stream",
     "text": [
      "F1 Score: 0.197  73%|████████████████████████████████████████████                '| 220/300 [00:51<00:18, ' ' 4.31it/s]'"
     ]
    },
    {
     "name": "stdout",
     "output_type": "stream",
     "text": [
      "0.1878453038674033\n",
      "0.19672131147540986\n"
     ]
    },
    {
     "name": "stderr",
     "output_type": "stream",
     "text": [
      "F1 Score: 0.205  74%|████████████████████████████████████████████▏               '| 221/300 [00:51<00:17, ' ' 4.49it/s]'"
     ]
    },
    {
     "name": "stdout",
     "output_type": "stream",
     "text": [
      "0.2054054054054054\n",
      "0.21390374331550802\n"
     ]
    },
    {
     "name": "stderr",
     "output_type": "stream",
     "text": [
      "F1 Score: 0.230  75%|████████████████████████████████████████████▊               '| 224/300 [00:52<00:15, ' ' 4.79it/s]'"
     ]
    },
    {
     "name": "stdout",
     "output_type": "stream",
     "text": [
      "0.2222222222222222\n",
      "0.23036649214659688\n"
     ]
    },
    {
     "name": "stderr",
     "output_type": "stream",
     "text": [
      "F1 Score: 0.238  75%|█████████████████████████████████████████████               '| 225/300 [00:52<00:18, ' ' 4.01it/s]'"
     ]
    },
    {
     "name": "stdout",
     "output_type": "stream",
     "text": [
      "0.2383419689119171\n"
     ]
    },
    {
     "name": "stderr",
     "output_type": "stream",
     "text": [
      "F1 Score: 0.236  76%|█████████████████████████████████████████████▍              '| 227/300 [00:52<00:16, ' ' 4.44it/s]'"
     ]
    },
    {
     "name": "stdout",
     "output_type": "stream",
     "text": [
      "0.2371134020618556\n",
      "0.2358974358974359\n"
     ]
    },
    {
     "name": "stderr",
     "output_type": "stream",
     "text": [
      "F1 Score: 0.234  76%|█████████████████████████████████████████████▊              '| 229/300 [00:53<00:14, ' ' 4.74it/s]'"
     ]
    },
    {
     "name": "stdout",
     "output_type": "stream",
     "text": [
      "0.23469387755102042\n",
      "0.23350253807106597\n"
     ]
    },
    {
     "name": "stderr",
     "output_type": "stream",
     "text": [
      "F1 Score: 0.232  77%|██████████████████████████████████████████████              '| 230/300 [00:53<00:14, ' ' 4.84it/s]'"
     ]
    },
    {
     "name": "stdout",
     "output_type": "stream",
     "text": [
      "0.23232323232323232\n"
     ]
    },
    {
     "name": "stderr",
     "output_type": "stream",
     "text": [
      "F1 Score: 0.230  77%|██████████████████████████████████████████████▍             '| 232/300 [00:53<00:15, ' ' 4.31it/s]'"
     ]
    },
    {
     "name": "stdout",
     "output_type": "stream",
     "text": [
      "0.23115577889447236\n",
      "0.22999999999999998\n"
     ]
    },
    {
     "name": "stderr",
     "output_type": "stream",
     "text": [
      "F1 Score: 0.230  78%|██████████████████████████████████████████████▊             '| 234/300 [00:54<00:14, ' ' 4.68it/s]'"
     ]
    },
    {
     "name": "stdout",
     "output_type": "stream",
     "text": [
      "0.22999999999999998\n",
      "0.22999999999999998\n"
     ]
    },
    {
     "name": "stderr",
     "output_type": "stream",
     "text": [
      "F1 Score: 0.228  79%|███████████████████████████████████████████████▏            '| 236/300 [00:54<00:13, ' ' 4.88it/s]'"
     ]
    },
    {
     "name": "stdout",
     "output_type": "stream",
     "text": [
      "0.22885572139303484\n",
      "0.2277227722772277\n"
     ]
    },
    {
     "name": "stderr",
     "output_type": "stream",
     "text": [
      "F1 Score: 0.227  79%|███████████████████████████████████████████████▍            '| 237/300 [00:54<00:12, ' ' 4.95it/s]'"
     ]
    },
    {
     "name": "stdout",
     "output_type": "stream",
     "text": [
      "0.22660098522167488\n"
     ]
    },
    {
     "name": "stderr",
     "output_type": "stream",
     "text": [
      "F1 Score: 0.225  80%|███████████████████████████████████████████████▊            '| 239/300 [00:55<00:13, ' ' 4.36it/s]'"
     ]
    },
    {
     "name": "stdout",
     "output_type": "stream",
     "text": [
      "0.22549019607843135\n",
      "0.22549019607843135\n"
     ]
    },
    {
     "name": "stderr",
     "output_type": "stream",
     "text": [
      "F1 Score: 0.224  80%|████████████████████████████████████████████████▏           '| 241/300 [00:55<00:12, ' ' 4.70it/s]'"
     ]
    },
    {
     "name": "stdout",
     "output_type": "stream",
     "text": [
      "0.22439024390243906\n",
      "0.22439024390243906\n"
     ]
    },
    {
     "name": "stderr",
     "output_type": "stream",
     "text": [
      "F1 Score: 0.222  81%|████████████████████████████████████████████████▌           '| 243/300 [00:56<00:11, ' ' 4.93it/s]'"
     ]
    },
    {
     "name": "stdout",
     "output_type": "stream",
     "text": [
      "0.2233009708737864\n",
      "0.2222222222222222\n"
     ]
    },
    {
     "name": "stderr",
     "output_type": "stream",
     "text": [
      "F1 Score: 0.220  82%|█████████████████████████████████████████████████           '| 245/300 [00:56<00:12, ' ' 4.30it/s]'"
     ]
    },
    {
     "name": "stdout",
     "output_type": "stream",
     "text": [
      "0.22115384615384615\n",
      "0.22009569377990432\n"
     ]
    },
    {
     "name": "stderr",
     "output_type": "stream",
     "text": [
      "F1 Score: 0.218  82%|█████████████████████████████████████████████████▍          '| 247/300 [00:57<00:11, ' ' 4.68it/s]'"
     ]
    },
    {
     "name": "stdout",
     "output_type": "stream",
     "text": [
      "0.21904761904761905\n",
      "0.21800947867298578\n"
     ]
    },
    {
     "name": "stderr",
     "output_type": "stream",
     "text": [
      "F1 Score: 0.217  83%|█████████████████████████████████████████████████▌          '| 248/300 [00:57<00:10, ' ' 4.80it/s]'"
     ]
    },
    {
     "name": "stdout",
     "output_type": "stream",
     "text": [
      "0.2169811320754717\n"
     ]
    },
    {
     "name": "stderr",
     "output_type": "stream",
     "text": [
      "F1 Score: 0.216  83%|█████████████████████████████████████████████████▊          '| 249/300 [00:57<00:10, ' ' 4.84it/s]'"
     ]
    },
    {
     "name": "stdout",
     "output_type": "stream",
     "text": [
      "0.21596244131455397\n"
     ]
    },
    {
     "name": "stderr",
     "output_type": "stream",
     "text": [
      "F1 Score: 0.214  84%|██████████████████████████████████████████████████▏         '| 251/300 [00:58<00:11, ' ' 4.23it/s]'"
     ]
    },
    {
     "name": "stdout",
     "output_type": "stream",
     "text": [
      "0.21495327102803738\n",
      "0.21395348837209302\n"
     ]
    },
    {
     "name": "stderr",
     "output_type": "stream",
     "text": [
      "F1 Score: 0.213  84%|██████████████████████████████████████████████████▌         '| 253/300 [00:58<00:10, ' ' 4.59it/s]'"
     ]
    },
    {
     "name": "stdout",
     "output_type": "stream",
     "text": [
      "0.212962962962963\n",
      "0.212962962962963\n"
     ]
    },
    {
     "name": "stderr",
     "output_type": "stream",
     "text": [
      "F1 Score: 0.211  85%|███████████████████████████████████████████████████         '| 255/300 [00:58<00:09, ' ' 4.85it/s]'"
     ]
    },
    {
     "name": "stdout",
     "output_type": "stream",
     "text": [
      "0.21198156682027647\n",
      "0.21100917431192662\n"
     ]
    },
    {
     "name": "stderr",
     "output_type": "stream",
     "text": [
      "F1 Score: 0.209  86%|███████████████████████████████████████████████████▍        '| 257/300 [00:59<00:09, ' ' 4.33it/s]'"
     ]
    },
    {
     "name": "stdout",
     "output_type": "stream",
     "text": [
      "0.21004566210045664\n",
      "0.20909090909090908\n"
     ]
    },
    {
     "name": "stderr",
     "output_type": "stream",
     "text": [
      "F1 Score: 0.207  86%|███████████████████████████████████████████████████▊        '| 259/300 [00:59<00:08, ' ' 4.70it/s]'"
     ]
    },
    {
     "name": "stdout",
     "output_type": "stream",
     "text": [
      "0.20814479638009054\n",
      "0.20720720720720717\n"
     ]
    },
    {
     "name": "stderr",
     "output_type": "stream",
     "text": [
      "F1 Score: 0.205  87%|████████████████████████████████████████████████████▏       '| 261/300 [01:00<00:07, ' ' 4.91it/s]'"
     ]
    },
    {
     "name": "stdout",
     "output_type": "stream",
     "text": [
      "0.20627802690582958\n",
      "0.20535714285714285\n"
     ]
    },
    {
     "name": "stderr",
     "output_type": "stream",
     "text": [
      "F1 Score: 0.204  87%|████████████████████████████████████████████████████▍       '| 262/300 [01:00<00:07, ' ' 4.94it/s]'"
     ]
    },
    {
     "name": "stdout",
     "output_type": "stream",
     "text": [
      "0.20444444444444448\n"
     ]
    },
    {
     "name": "stderr",
     "output_type": "stream",
     "text": [
      "F1 Score: 0.203  88%|████████████████████████████████████████████████████▊       '| 264/300 [01:00<00:08, ' ' 4.40it/s]'"
     ]
    },
    {
     "name": "stdout",
     "output_type": "stream",
     "text": [
      "0.20353982300884957\n",
      "0.2026431718061674\n"
     ]
    },
    {
     "name": "stderr",
     "output_type": "stream",
     "text": [
      "F1 Score: 0.201  89%|█████████████████████████████████████████████████████▏      '| 266/300 [01:01<00:07, ' ' 4.75it/s]'"
     ]
    },
    {
     "name": "stdout",
     "output_type": "stream",
     "text": [
      "0.2017543859649123\n",
      "0.20087336244541484\n"
     ]
    },
    {
     "name": "stderr",
     "output_type": "stream",
     "text": [
      "F1 Score: 0.199  89%|█████████████████████████████████████████████████████▌      '| 268/300 [01:01<00:06, ' ' 4.92it/s]'"
     ]
    },
    {
     "name": "stdout",
     "output_type": "stream",
     "text": [
      "0.2\n",
      "0.19913419913419914\n"
     ]
    },
    {
     "name": "stderr",
     "output_type": "stream",
     "text": [
      "F1 Score: 0.197  90%|██████████████████████████████████████████████████████      '| 270/300 [01:02<00:06, ' ' 4.38it/s]'"
     ]
    },
    {
     "name": "stdout",
     "output_type": "stream",
     "text": [
      "0.19827586206896552\n",
      "0.1974248927038627\n"
     ]
    },
    {
     "name": "stderr",
     "output_type": "stream",
     "text": [
      "F1 Score: 0.196  91%|██████████████████████████████████████████████████████▍     '| 272/300 [01:02<00:05, ' ' 4.68it/s]'"
     ]
    },
    {
     "name": "stdout",
     "output_type": "stream",
     "text": [
      "0.19658119658119658\n",
      "0.19574468085106383\n"
     ]
    },
    {
     "name": "stderr",
     "output_type": "stream",
     "text": [
      "F1 Score: 0.194  91%|██████████████████████████████████████████████████████▊     '| 274/300 [01:03<00:05, ' ' 4.85it/s]'"
     ]
    },
    {
     "name": "stdout",
     "output_type": "stream",
     "text": [
      "0.19491525423728814\n",
      "0.1940928270042194\n"
     ]
    },
    {
     "name": "stderr",
     "output_type": "stream",
     "text": [
      "F1 Score: 0.192  92%|███████████████████████████████████████████████████████▏    '| 276/300 [01:03<00:05, ' ' 4.37it/s]'"
     ]
    },
    {
     "name": "stdout",
     "output_type": "stream",
     "text": [
      "0.19327731092436973\n",
      "0.19246861924686195\n"
     ]
    },
    {
     "name": "stderr",
     "output_type": "stream",
     "text": [
      "F1 Score: 0.191  93%|███████████████████████████████████████████████████████▌    '| 278/300 [01:04<00:04, ' ' 4.67it/s]'"
     ]
    },
    {
     "name": "stdout",
     "output_type": "stream",
     "text": [
      "0.19166666666666668\n",
      "0.19087136929460582\n"
     ]
    },
    {
     "name": "stderr",
     "output_type": "stream",
     "text": [
      "F1 Score: 0.189  93%|████████████████████████████████████████████████████████    '| 280/300 [01:04<00:04, ' ' 4.86it/s]'"
     ]
    },
    {
     "name": "stdout",
     "output_type": "stream",
     "text": [
      "0.19008264462809918\n",
      "0.18930041152263374\n"
     ]
    },
    {
     "name": "stderr",
     "output_type": "stream",
     "text": [
      "F1 Score: 0.188  94%|████████████████████████████████████████████████████████▍   '| 282/300 [01:04<00:04, ' ' 4.35it/s]'"
     ]
    },
    {
     "name": "stdout",
     "output_type": "stream",
     "text": [
      "0.1885245901639344\n",
      "0.18775510204081633\n"
     ]
    },
    {
     "name": "stderr",
     "output_type": "stream",
     "text": [
      "F1 Score: 0.186  95%|████████████████████████████████████████████████████████▊   '| 284/300 [01:05<00:03, ' ' 4.72it/s]'"
     ]
    },
    {
     "name": "stdout",
     "output_type": "stream",
     "text": [
      "0.1869918699186992\n",
      "0.1862348178137652\n"
     ]
    },
    {
     "name": "stderr",
     "output_type": "stream",
     "text": [
      "F1 Score: 0.185  95%|█████████████████████████████████████████████████████████▏  '| 286/300 [01:05<00:02, ' ' 4.89it/s]'"
     ]
    },
    {
     "name": "stdout",
     "output_type": "stream",
     "text": [
      "0.1854838709677419\n",
      "0.18473895582329317\n"
     ]
    },
    {
     "name": "stderr",
     "output_type": "stream",
     "text": [
      "F1 Score: 0.183  96%|█████████████████████████████████████████████████████████▌  '| 288/300 [01:06<00:02, ' ' 4.39it/s]'"
     ]
    },
    {
     "name": "stdout",
     "output_type": "stream",
     "text": [
      "0.18400000000000002\n",
      "0.18326693227091634\n"
     ]
    },
    {
     "name": "stderr",
     "output_type": "stream",
     "text": [
      "F1 Score: 0.183  97%|██████████████████████████████████████████████████████████  '| 290/300 [01:06<00:02, ' ' 4.69it/s]'"
     ]
    },
    {
     "name": "stdout",
     "output_type": "stream",
     "text": [
      "0.18253968253968253\n",
      "0.18253968253968253\n"
     ]
    },
    {
     "name": "stderr",
     "output_type": "stream",
     "text": [
      "F1 Score: 0.181  97%|██████████████████████████████████████████████████████████▍ '| 292/300 [01:07<00:01, ' ' 4.83it/s]'"
     ]
    },
    {
     "name": "stdout",
     "output_type": "stream",
     "text": [
      "0.18181818181818182\n",
      "0.18110236220472442\n"
     ]
    },
    {
     "name": "stderr",
     "output_type": "stream",
     "text": [
      "F1 Score: 0.188  98%|██████████████████████████████████████████████████████████▌ '| 293/300 [01:07<00:01, ' ' 4.10it/s]'"
     ]
    },
    {
     "name": "stdout",
     "output_type": "stream",
     "text": [
      "0.1875\n",
      "0.19379844961240308\n"
     ]
    },
    {
     "name": "stderr",
     "output_type": "stream",
     "text": [
      "F1 Score: 0.206  99%|███████████████████████████████████████████████████████████▏'| 296/300 [01:07<00:00, ' ' 4.65it/s]'"
     ]
    },
    {
     "name": "stdout",
     "output_type": "stream",
     "text": [
      "0.2\n",
      "0.20610687022900767\n"
     ]
    },
    {
     "name": "stderr",
     "output_type": "stream",
     "text": [
      "F1 Score: 0.212  99%|███████████████████████████████████████████████████████████▍'| 297/300 [01:08<00:00, ' ' 4.71it/s]'"
     ]
    },
    {
     "name": "stdout",
     "output_type": "stream",
     "text": [
      "0.21212121212121213\n"
     ]
    },
    {
     "name": "stderr",
     "output_type": "stream",
     "text": [
      "F1 Score: 0.218  99%|███████████████████████████████████████████████████████████▌'| 298/300 [01:08<00:00, ' ' 4.75it/s]'"
     ]
    },
    {
     "name": "stdout",
     "output_type": "stream",
     "text": [
      "0.2180451127819549\n"
     ]
    },
    {
     "name": "stderr",
     "output_type": "stream",
     "text": [
      "F1 Score: 0.230 100%|████████████████████████████████████████████████████████████'| 300/300 [01:08<00:00, ' ' 4.35it/s]'"
     ]
    },
    {
     "name": "stdout",
     "output_type": "stream",
     "text": [
      "0.22388059701492538\n",
      "0.22962962962962963\n",
      "Counter({'FP': 207, 'TN': 61, 'TP': 31, 'FN': 1})\n",
      "Precision: 0.130\n",
      "Recall: 0.969\n",
      "F1: 0.230\n",
      "MCC: 0.150\n"
     ]
    },
    {
     "name": "stderr",
     "output_type": "stream",
     "text": [
      "\n"
     ]
    }
   ],
   "source": [
    "f1evaluate(best_of_3, devset)"
   ]
  },
  {
   "cell_type": "code",
   "execution_count": 1,
   "id": "31f2e104-3558-448c-90fe-93f242635d13",
   "metadata": {},
   "outputs": [
    {
     "ename": "NameError",
     "evalue": "name 'f1evaluate' is not defined",
     "output_type": "error",
     "traceback": [
      "\u001b[0;31m---------------------------------------------------------------------------\u001b[0m",
      "\u001b[0;31mNameError\u001b[0m                                 Traceback (most recent call last)",
      "Cell \u001b[0;32mIn[1], line 1\u001b[0m\n\u001b[0;32m----> 1\u001b[0m \u001b[43mf1evaluate\u001b[49m(best_of_5, devset)\n",
      "\u001b[0;31mNameError\u001b[0m: name 'f1evaluate' is not defined"
     ]
    }
   ],
   "source": [
    "f1evaluate(best_of_5, devset)"
   ]
  },
  {
   "cell_type": "code",
   "execution_count": 247,
   "id": "5a369a2d-584c-495e-9fd8-ffbd15225449",
   "metadata": {},
   "outputs": [
    {
     "ename": "OSError",
     "evalue": "could not get source code",
     "output_type": "error",
     "traceback": [
      "\u001b[0;31m---------------------------------------------------------------------------\u001b[0m",
      "\u001b[0;31mOSError\u001b[0m                                   Traceback (most recent call last)",
      "Cell \u001b[0;32mIn[247], line 1\u001b[0m\n\u001b[0;32m----> 1\u001b[0m \u001b[43mdspy\u001b[49m\u001b[38;5;241;43m.\u001b[39;49m\u001b[43mRefine\u001b[49m\u001b[43m(\u001b[49m\u001b[43mmodule\u001b[49m\u001b[38;5;241;43m=\u001b[39;49m\u001b[43mclassify\u001b[49m\u001b[43m,\u001b[49m\u001b[43m \u001b[49m\u001b[43mN\u001b[49m\u001b[38;5;241;43m=\u001b[39;49m\u001b[38;5;241;43m3\u001b[39;49m\u001b[43m,\u001b[49m\u001b[43m \u001b[49m\u001b[43mreward_fn\u001b[49m\u001b[38;5;241;43m=\u001b[39;49m\u001b[43mhigh_confidence\u001b[49m\u001b[43m,\u001b[49m\u001b[43m \u001b[49m\u001b[43mthreshold\u001b[49m\u001b[38;5;241;43m=\u001b[39;49m\u001b[38;5;241;43m.5\u001b[39;49m\u001b[43m)\u001b[49m\n",
      "File \u001b[0;32m~/Sync/Roam/Areas/Uni/Dissertation/auto-screen/.venv/lib/python3.10/site-packages/dspy/predict/refine.py:91\u001b[0m, in \u001b[0;36m__init__\u001b[0;34m(self, module, N, reward_fn, threshold, fail_count)\u001b[0m\n",
      "File \u001b[0;32m~/.local/share/uv/python/cpython-3.10.16-linux-x86_64-gnu/lib/python3.10/inspect.py:1139\u001b[0m, in \u001b[0;36mgetsource\u001b[0;34m(object)\u001b[0m\n\u001b[1;32m   1133\u001b[0m \u001b[38;5;28;01mdef\u001b[39;00m\u001b[38;5;250m \u001b[39m\u001b[38;5;21mgetsource\u001b[39m(\u001b[38;5;28mobject\u001b[39m):\n\u001b[1;32m   1134\u001b[0m \u001b[38;5;250m    \u001b[39m\u001b[38;5;124;03m\"\"\"Return the text of the source code for an object.\u001b[39;00m\n\u001b[1;32m   1135\u001b[0m \n\u001b[1;32m   1136\u001b[0m \u001b[38;5;124;03m    The argument may be a module, class, method, function, traceback, frame,\u001b[39;00m\n\u001b[1;32m   1137\u001b[0m \u001b[38;5;124;03m    or code object.  The source code is returned as a single string.  An\u001b[39;00m\n\u001b[1;32m   1138\u001b[0m \u001b[38;5;124;03m    OSError is raised if the source code cannot be retrieved.\"\"\"\u001b[39;00m\n\u001b[0;32m-> 1139\u001b[0m     lines, lnum \u001b[38;5;241m=\u001b[39m \u001b[43mgetsourcelines\u001b[49m\u001b[43m(\u001b[49m\u001b[38;5;28;43mobject\u001b[39;49m\u001b[43m)\u001b[49m\n\u001b[1;32m   1140\u001b[0m     \u001b[38;5;28;01mreturn\u001b[39;00m \u001b[38;5;124m'\u001b[39m\u001b[38;5;124m'\u001b[39m\u001b[38;5;241m.\u001b[39mjoin(lines)\n",
      "File \u001b[0;32m~/.local/share/uv/python/cpython-3.10.16-linux-x86_64-gnu/lib/python3.10/inspect.py:1121\u001b[0m, in \u001b[0;36mgetsourcelines\u001b[0;34m(object)\u001b[0m\n\u001b[1;32m   1113\u001b[0m \u001b[38;5;250m\u001b[39m\u001b[38;5;124;03m\"\"\"Return a list of source lines and starting line number for an object.\u001b[39;00m\n\u001b[1;32m   1114\u001b[0m \n\u001b[1;32m   1115\u001b[0m \u001b[38;5;124;03mThe argument may be a module, class, method, function, traceback, frame,\u001b[39;00m\n\u001b[0;32m   (...)\u001b[0m\n\u001b[1;32m   1118\u001b[0m \u001b[38;5;124;03moriginal source file the first line of code was found.  An OSError is\u001b[39;00m\n\u001b[1;32m   1119\u001b[0m \u001b[38;5;124;03mraised if the source code cannot be retrieved.\"\"\"\u001b[39;00m\n\u001b[1;32m   1120\u001b[0m \u001b[38;5;28mobject\u001b[39m \u001b[38;5;241m=\u001b[39m unwrap(\u001b[38;5;28mobject\u001b[39m)\n\u001b[0;32m-> 1121\u001b[0m lines, lnum \u001b[38;5;241m=\u001b[39m \u001b[43mfindsource\u001b[49m\u001b[43m(\u001b[49m\u001b[38;5;28;43mobject\u001b[39;49m\u001b[43m)\u001b[49m\n\u001b[1;32m   1123\u001b[0m \u001b[38;5;28;01mif\u001b[39;00m istraceback(\u001b[38;5;28mobject\u001b[39m):\n\u001b[1;32m   1124\u001b[0m     \u001b[38;5;28mobject\u001b[39m \u001b[38;5;241m=\u001b[39m \u001b[38;5;28mobject\u001b[39m\u001b[38;5;241m.\u001b[39mtb_frame\n",
      "File \u001b[0;32m~/.local/share/uv/python/cpython-3.10.16-linux-x86_64-gnu/lib/python3.10/inspect.py:958\u001b[0m, in \u001b[0;36mfindsource\u001b[0;34m(object)\u001b[0m\n\u001b[1;32m    956\u001b[0m     lines \u001b[38;5;241m=\u001b[39m linecache\u001b[38;5;241m.\u001b[39mgetlines(file)\n\u001b[1;32m    957\u001b[0m \u001b[38;5;28;01mif\u001b[39;00m \u001b[38;5;129;01mnot\u001b[39;00m lines:\n\u001b[0;32m--> 958\u001b[0m     \u001b[38;5;28;01mraise\u001b[39;00m \u001b[38;5;167;01mOSError\u001b[39;00m(\u001b[38;5;124m'\u001b[39m\u001b[38;5;124mcould not get source code\u001b[39m\u001b[38;5;124m'\u001b[39m)\n\u001b[1;32m    960\u001b[0m \u001b[38;5;28;01mif\u001b[39;00m ismodule(\u001b[38;5;28mobject\u001b[39m):\n\u001b[1;32m    961\u001b[0m     \u001b[38;5;28;01mreturn\u001b[39;00m lines, \u001b[38;5;241m0\u001b[39m\n",
      "\u001b[0;31mOSError\u001b[0m: could not get source code"
     ]
    }
   ],
   "source": [
    "# TODO looking at implemmentation 'classify might have to be defined slightly differently\n",
    "dspy.Refine(module=classify, N=3, reward_fn=high_confidence, threshold=.5)"
   ]
  },
  {
   "cell_type": "code",
   "execution_count": 248,
   "id": "57e4504e-e3b1-451d-b78e-a4256c14b0d4",
   "metadata": {},
   "outputs": [
    {
     "ename": "OSError",
     "evalue": "could not get source code",
     "output_type": "error",
     "traceback": [
      "\u001b[0;31m---------------------------------------------------------------------------\u001b[0m",
      "\u001b[0;31mOSError\u001b[0m                                   Traceback (most recent call last)",
      "Cell \u001b[0;32mIn[248], line 1\u001b[0m\n\u001b[0;32m----> 1\u001b[0m best_of_3r \u001b[38;5;241m=\u001b[39m \u001b[43mdspy\u001b[49m\u001b[38;5;241;43m.\u001b[39;49m\u001b[43mRefine\u001b[49m\u001b[43m(\u001b[49m\u001b[43mmodule\u001b[49m\u001b[38;5;241;43m=\u001b[39;49m\u001b[43mdspy\u001b[49m\u001b[38;5;241;43m.\u001b[39;49m\u001b[43mChainOfThought\u001b[49m\u001b[43m(\u001b[49m\u001b[43mRelevance\u001b[49m\u001b[43m)\u001b[49m\u001b[43m,\u001b[49m\u001b[43m \u001b[49m\u001b[43mN\u001b[49m\u001b[38;5;241;43m=\u001b[39;49m\u001b[38;5;241;43m3\u001b[39;49m\u001b[43m,\u001b[49m\u001b[43m \u001b[49m\u001b[43mreward_fn\u001b[49m\u001b[38;5;241;43m=\u001b[39;49m\u001b[43mhigh_confidence\u001b[49m\u001b[43m,\u001b[49m\u001b[43m \u001b[49m\u001b[43mthreshold\u001b[49m\u001b[38;5;241;43m=\u001b[39;49m\u001b[38;5;241;43m.5\u001b[39;49m\u001b[43m)\u001b[49m\n",
      "File \u001b[0;32m~/Sync/Roam/Areas/Uni/Dissertation/auto-screen/.venv/lib/python3.10/site-packages/dspy/predict/refine.py:91\u001b[0m, in \u001b[0;36m__init__\u001b[0;34m(self, module, N, reward_fn, threshold, fail_count)\u001b[0m\n",
      "File \u001b[0;32m~/.local/share/uv/python/cpython-3.10.16-linux-x86_64-gnu/lib/python3.10/inspect.py:1139\u001b[0m, in \u001b[0;36mgetsource\u001b[0;34m(object)\u001b[0m\n\u001b[1;32m   1133\u001b[0m \u001b[38;5;28;01mdef\u001b[39;00m\u001b[38;5;250m \u001b[39m\u001b[38;5;21mgetsource\u001b[39m(\u001b[38;5;28mobject\u001b[39m):\n\u001b[1;32m   1134\u001b[0m \u001b[38;5;250m    \u001b[39m\u001b[38;5;124;03m\"\"\"Return the text of the source code for an object.\u001b[39;00m\n\u001b[1;32m   1135\u001b[0m \n\u001b[1;32m   1136\u001b[0m \u001b[38;5;124;03m    The argument may be a module, class, method, function, traceback, frame,\u001b[39;00m\n\u001b[1;32m   1137\u001b[0m \u001b[38;5;124;03m    or code object.  The source code is returned as a single string.  An\u001b[39;00m\n\u001b[1;32m   1138\u001b[0m \u001b[38;5;124;03m    OSError is raised if the source code cannot be retrieved.\"\"\"\u001b[39;00m\n\u001b[0;32m-> 1139\u001b[0m     lines, lnum \u001b[38;5;241m=\u001b[39m \u001b[43mgetsourcelines\u001b[49m\u001b[43m(\u001b[49m\u001b[38;5;28;43mobject\u001b[39;49m\u001b[43m)\u001b[49m\n\u001b[1;32m   1140\u001b[0m     \u001b[38;5;28;01mreturn\u001b[39;00m \u001b[38;5;124m'\u001b[39m\u001b[38;5;124m'\u001b[39m\u001b[38;5;241m.\u001b[39mjoin(lines)\n",
      "File \u001b[0;32m~/.local/share/uv/python/cpython-3.10.16-linux-x86_64-gnu/lib/python3.10/inspect.py:1121\u001b[0m, in \u001b[0;36mgetsourcelines\u001b[0;34m(object)\u001b[0m\n\u001b[1;32m   1113\u001b[0m \u001b[38;5;250m\u001b[39m\u001b[38;5;124;03m\"\"\"Return a list of source lines and starting line number for an object.\u001b[39;00m\n\u001b[1;32m   1114\u001b[0m \n\u001b[1;32m   1115\u001b[0m \u001b[38;5;124;03mThe argument may be a module, class, method, function, traceback, frame,\u001b[39;00m\n\u001b[0;32m   (...)\u001b[0m\n\u001b[1;32m   1118\u001b[0m \u001b[38;5;124;03moriginal source file the first line of code was found.  An OSError is\u001b[39;00m\n\u001b[1;32m   1119\u001b[0m \u001b[38;5;124;03mraised if the source code cannot be retrieved.\"\"\"\u001b[39;00m\n\u001b[1;32m   1120\u001b[0m \u001b[38;5;28mobject\u001b[39m \u001b[38;5;241m=\u001b[39m unwrap(\u001b[38;5;28mobject\u001b[39m)\n\u001b[0;32m-> 1121\u001b[0m lines, lnum \u001b[38;5;241m=\u001b[39m \u001b[43mfindsource\u001b[49m\u001b[43m(\u001b[49m\u001b[38;5;28;43mobject\u001b[39;49m\u001b[43m)\u001b[49m\n\u001b[1;32m   1123\u001b[0m \u001b[38;5;28;01mif\u001b[39;00m istraceback(\u001b[38;5;28mobject\u001b[39m):\n\u001b[1;32m   1124\u001b[0m     \u001b[38;5;28mobject\u001b[39m \u001b[38;5;241m=\u001b[39m \u001b[38;5;28mobject\u001b[39m\u001b[38;5;241m.\u001b[39mtb_frame\n",
      "File \u001b[0;32m~/.local/share/uv/python/cpython-3.10.16-linux-x86_64-gnu/lib/python3.10/inspect.py:958\u001b[0m, in \u001b[0;36mfindsource\u001b[0;34m(object)\u001b[0m\n\u001b[1;32m    956\u001b[0m     lines \u001b[38;5;241m=\u001b[39m linecache\u001b[38;5;241m.\u001b[39mgetlines(file)\n\u001b[1;32m    957\u001b[0m \u001b[38;5;28;01mif\u001b[39;00m \u001b[38;5;129;01mnot\u001b[39;00m lines:\n\u001b[0;32m--> 958\u001b[0m     \u001b[38;5;28;01mraise\u001b[39;00m \u001b[38;5;167;01mOSError\u001b[39;00m(\u001b[38;5;124m'\u001b[39m\u001b[38;5;124mcould not get source code\u001b[39m\u001b[38;5;124m'\u001b[39m)\n\u001b[1;32m    960\u001b[0m \u001b[38;5;28;01mif\u001b[39;00m ismodule(\u001b[38;5;28mobject\u001b[39m):\n\u001b[1;32m    961\u001b[0m     \u001b[38;5;28;01mreturn\u001b[39;00m lines, \u001b[38;5;241m0\u001b[39m\n",
      "\u001b[0;31mOSError\u001b[0m: could not get source code"
     ]
    }
   ],
   "source": [
    "best_of_3r = dspy.Refine(module=dspy.ChainOfThought(Relevance), N=3, reward_fn=high_confidence, threshold=.5)"
   ]
  },
  {
   "cell_type": "code",
   "execution_count": null,
   "id": "e392bc26-dc75-4c22-a7aa-99e30a024bfe",
   "metadata": {},
   "outputs": [],
   "source": [
    "f1evaluate(best_of_3r, devset)"
   ]
  },
  {
   "cell_type": "code",
   "execution_count": null,
   "id": "d647ec9c-bff0-4512-904f-9bdb7d7b5674",
   "metadata": {},
   "outputs": [],
   "source": [
    "type(f"
   ]
  }
 ],
 "metadata": {
  "kernelspec": {
   "display_name": "auto-screen",
   "language": "python",
   "name": "auto-screen"
  },
  "language_info": {
   "codemirror_mode": {
    "name": "ipython",
    "version": 3
   },
   "file_extension": ".py",
   "mimetype": "text/x-python",
   "name": "python",
   "nbconvert_exporter": "python",
   "pygments_lexer": "ipython3",
   "version": "3.10.16"
  }
 },
 "nbformat": 4,
 "nbformat_minor": 5
}
