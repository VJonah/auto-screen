{
 "cells": [
  {
   "cell_type": "markdown",
   "id": "90f387cd-f0d1-46b2-ae9b-b915c49830be",
   "metadata": {},
   "source": [
    "# Another (Stricter) Pipeline\n",
    "\n",
    "The most basic, direct prediction style pipeline was created.\n",
    "\n",
    "And while we already saw some interesting results, effectively inverting that of previous work, i.e. high recall but terrible precision. We now know what we need to do.\n",
    "\n",
    "We need to improve precision by reducing false positives (FPs) by discriminating more. \n",
    "\n",
    "To do so, we're going to create a pipeline that starts by generating its own inclusion criteria only. And we'll only validate for inclusion if all criteria are met. \n",
    "\n",
    "Let's see what happens!"
   ]
  },
  {
   "cell_type": "code",
   "execution_count": 1,
   "id": "6bf1f27b-270d-42a5-bdff-866211ae8999",
   "metadata": {},
   "outputs": [
    {
     "name": "stderr",
     "output_type": "stream",
     "text": [
      "/home/j/Sync/Roam/Areas/Uni/Dissertation/auto-screen/.venv/lib/python3.10/site-packages/tqdm/auto.py:21: TqdmWarning: IProgress not found. Please update jupyter and ipywidgets. See https://ipywidgets.readthedocs.io/en/stable/user_install.html\n",
      "  from .autonotebook import tqdm as notebook_tqdm\n"
     ]
    }
   ],
   "source": [
    "# local imports\n",
    "from datasets import *\n",
    "from signatures import Relevance\n",
    "from metrics import *"
   ]
  },
  {
   "cell_type": "code",
   "execution_count": 2,
   "id": "10c62fb5-6655-42a4-8024-218f6f8141a9",
   "metadata": {},
   "outputs": [
    {
     "data": {
      "text/plain": [
       "['Hello world!\\n']"
      ]
     },
     "execution_count": 2,
     "metadata": {},
     "output_type": "execute_result"
    }
   ],
   "source": [
    "# configuring our local gemma3 model\n",
    "lm = dspy.LM('ollama_chat/gemma3', api_base='http://localhost:11434', api_key='')\n",
    "dspy.configure(lm=lm)\n",
    "# testing out the LM\n",
    "lm(\"Say 'Hello world!'\", temperature=0.7) "
   ]
  },
  {
   "cell_type": "code",
   "execution_count": 3,
   "id": "4f87359a-da66-41bd-b099-3ba56e69552e",
   "metadata": {},
   "outputs": [],
   "source": [
    "# define a new signature for inclusion criteria generation\n",
    "class InclusionCriteria(dspy.Signature):\n",
    "    \"\"\"Output a set of inclusion criteria for the Systematic Review.\"\"\"\n",
    "\n",
    "    systematic_review_title: str = dspy.InputField()\n",
    "    inclusion_criteria: dict[str, str] = dspy.OutputField(desc=\"Inclusion criteria and their descrptions.\")"
   ]
  },
  {
   "cell_type": "code",
   "execution_count": 4,
   "id": "554e4ef9-ccd1-4659-b956-80e9aa5effcf",
   "metadata": {},
   "outputs": [],
   "source": [
    "# getting our SYNERGY data that will constitute our devset\n",
    "non_biomeds_df = get_devset()"
   ]
  },
  {
   "cell_type": "code",
   "execution_count": 5,
   "id": "e851acb2-76e2-4cb6-b99d-4fedf2348113",
   "metadata": {},
   "outputs": [],
   "source": [
    "# the simplest pipelines\n",
    "just_predict = dspy.Predict(InclusionCriteria)\n",
    "just_cof = dspy.ChainOfThought(InclusionCriteria)"
   ]
  },
  {
   "cell_type": "code",
   "execution_count": 6,
   "id": "59ee286a-7507-4f96-a5dc-644d972b3a52",
   "metadata": {},
   "outputs": [
    {
     "data": {
      "text/plain": [
       "'A Systematic Literature Review on Fault Prediction Performance in Software Engineering.'"
      ]
     },
     "execution_count": 6,
     "metadata": {},
     "output_type": "execute_result"
    }
   ],
   "source": [
    "test_title = non_biomeds_df['SR_title'][0]\n",
    "test_title"
   ]
  },
  {
   "cell_type": "code",
   "execution_count": 7,
   "id": "36b8d237-1da6-4f9d-982f-8c562a20552d",
   "metadata": {},
   "outputs": [
    {
     "data": {
      "text/plain": [
       "Prediction(\n",
       "    inclusion_criteria={'Study Design': 'The study must be a systematic review or meta-analysis.', 'Population': 'Studies must focus on software development teams or individuals involved in software fault prediction.', 'Intervention': 'The intervention is the fault prediction method or technique being evaluated.', 'Outcome': 'Studies must report on quantitative measures of fault prediction performance, such as precision, recall, F1-score, or accuracy.', 'Publication Type': 'The review must include peer-reviewed journal articles or conference proceedings.'}\n",
       ")"
      ]
     },
     "execution_count": 7,
     "metadata": {},
     "output_type": "execute_result"
    }
   ],
   "source": [
    "just_predict(systematic_review_title=test_title)"
   ]
  },
  {
   "cell_type": "code",
   "execution_count": 8,
   "id": "d809e196-a7f3-4c6b-9154-be10d880cab3",
   "metadata": {},
   "outputs": [
    {
     "data": {
      "text/plain": [
       "Prediction(\n",
       "    reasoning=\"This systematic review aims to comprehensively assess the performance of various fault prediction methods within the software engineering domain. It's crucial to evaluate the effectiveness of these methods across different programming languages, development methodologies, and datasets to provide actionable insights for practitioners and researchers. The inclusion criteria will focus on studies that provide quantifiable metrics for evaluating fault prediction performance, allowing for a robust comparison of different approaches.\",\n",
       "    inclusion_criteria={'Programming Language': 'Studies must evaluate fault prediction models applied to at least one programming language (e.g., Java, Python, C++, JavaScript).', 'Dataset Type': 'Studies must utilize a defined dataset for training and testing the fault prediction models. Datasets should be publicly available whenever possible.', 'Evaluation Metrics': 'Studies must report quantitative evaluation metrics for assessing fault prediction performance, such as precision, recall, F1-score, AUC, or accuracy.', 'Model Types': 'Studies must investigate a range of fault prediction models, including but not limited to: static analysis techniques, machine learning models (e.g., Support Vector Machines, Random Forests, Neural Networks), and rule-based systems.', 'Development Methodology': 'Studies should consider the impact of the development methodology (e.g., Agile, Waterfall) on fault prediction performance.', 'Study Design': 'The included studies must be empirical, meaning they involve experimental or observational data collection and analysis.'}\n",
       ")"
      ]
     },
     "execution_count": 8,
     "metadata": {},
     "output_type": "execute_result"
    }
   ],
   "source": [
    "just_cof(systematic_review_title=test_title)"
   ]
  },
  {
   "cell_type": "code",
   "execution_count": 45,
   "id": "a9d21ef5-6043-4d2c-80ed-b7c8f6120ec3",
   "metadata": {},
   "outputs": [],
   "source": [
    "class CheckCriteriaMatch(dspy.Signature):\n",
    "    \"\"\"Verify which criteria are satisfied by the title and abstract of a candidate citation\"\"\"\n",
    "\n",
    "    inclusion_criteria: dict[str, str] = dspy.InputField()\n",
    "    citation_title: str = dspy.InputField()\n",
    "    citation_abstract: str = dspy.InputField()\n",
    "    satisfied: dict[str, int] = dspy.OutputField(desc=\"Criteria names and whether they're satisfied.\")"
   ]
  },
  {
   "cell_type": "code",
   "execution_count": 46,
   "id": "7c3065d6-8412-4245-871b-29e4504fe0c7",
   "metadata": {},
   "outputs": [
    {
     "data": {
      "text/plain": [
       "Prediction(\n",
       "    reasoning=\"The systematic review aims to evaluate fault prediction methods across various software engineering contexts, focusing on quantifiable metrics and diverse model types. This citation investigates an FPGA-based Computer Vision System for offset error computation in web printing machines. While the abstract describes a system designed to improve printing quality by addressing registration errors, it doesn't directly align with the systematic review's criteria of evaluating fault prediction *models* across programming languages, datasets, and methodologies. The focus is on a specific application (web printing) and a particular hardware implementation (FPGA), rather than a general fault prediction study. Therefore, none of the inclusion criteria are satisfied.\",\n",
       "    satisfied={'Programming Language': 0, 'Dataset Type': 0, 'Evaluation Metrics': 0, 'Model Types': 0, 'Development Methodology': 0, 'Study Design': 0}\n",
       ")"
      ]
     },
     "execution_count": 46,
     "metadata": {},
     "output_type": "execute_result"
    }
   ],
   "source": [
    "test_ic = just_cof(systematic_review_title=test_title)\n",
    "criteria_match = dspy.ChainOfThought(CheckCriteriaMatch)\n",
    "criteria_match(inclusion_criteria=test_ic,\n",
    "               citation_title=non_biomeds_df['title'][0],\n",
    "               citation_abstract=non_biomeds_df['abstract'][0]) "
   ]
  },
  {
   "cell_type": "code",
   "execution_count": 19,
   "id": "b781b953-daa8-42da-a72b-0814aa18275d",
   "metadata": {},
   "outputs": [],
   "source": [
    "# custom module for pipeline\n",
    "class ClassifyByInclusion(dspy.Module):\n",
    "    def __init__(self):\n",
    "        self.generate_inclusion_criteria = dspy.ChainOfThought(InclusionCriteria)\n",
    "        self.evaluate_criteria = dspy.ChainOfThought(CheckCriteriaMatch)\n",
    "    def forward(self, sr_title: str,  citation_title: str, citation_abstract: str):\n",
    "        inclusion_criteria = self.generate_inclusion_criteria(\n",
    "            systematic_review_title=sr_title\n",
    "        ).inclusion_criteria\n",
    "        return self.evaluate_criteria(inclusion_criteria=inclusion_criteria,\n",
    "                                      citation_title=citation_title,\n",
    "                                      citation_abstract=citation_abstract)"
   ]
  },
  {
   "cell_type": "code",
   "execution_count": 12,
   "id": "daf477a6-460a-48d8-9b3c-f3fd3423dcfb",
   "metadata": {},
   "outputs": [],
   "source": [
    "test = ClassifyByInclusion()"
   ]
  },
  {
   "cell_type": "code",
   "execution_count": 26,
   "id": "2d25e3fe-f6b8-4c86-b381-9764f5bf82e1",
   "metadata": {},
   "outputs": [],
   "source": [
    "pred = test(test_title, non_biomeds_df['title'][0], non_biomeds_df['abstract'][0])"
   ]
  },
  {
   "cell_type": "markdown",
   "id": "27b0a405-ebb7-46c2-af90-e8c0301ea3de",
   "metadata": {},
   "source": [
    "## Evaluation\n",
    "\n",
    "We have our slightly more sophisticated pipeline in the form of a module that generates a set of inclusion criteria before trying to evaluate a prospective citation against them. \n",
    "\n",
    "Now it's time to evaluate it!\n",
    "\n",
    "We just have to first recreate our devset!"
   ]
  },
  {
   "cell_type": "code",
   "execution_count": 21,
   "id": "e9f72c27-3428-468e-89ee-4892320befbd",
   "metadata": {},
   "outputs": [],
   "source": [
    "# initialise our random under sampler\n",
    "rus = RandomUnderSampler(random_state=42, sampling_strategy={0: 67, 1: 8})"
   ]
  },
  {
   "cell_type": "code",
   "execution_count": 22,
   "id": "2f9c75d0-638d-42f4-a00d-cc0430593ba5",
   "metadata": {},
   "outputs": [],
   "source": [
    "# create a development set of inputs and labels by randomly undersampling\n",
    "# each systematic review so that it contains 8 positive labels and 67 negative\n",
    "# ones\n",
    "Xs, Ys = [], [] \n",
    "for _, group in non_biomeds_df.groupby(by='SR_id'):\n",
    "    grp_Xs, grp_Ys = rus_dataset(group, ['SR_title', 'title', 'abstract'], 'relevant', rus)\n",
    "    Xs.append(grp_Xs)\n",
    "    Ys.append(grp_Ys)\n",
    "Xs = np.concatenate(Xs)\n",
    "Ys = np.concatenate(Ys)"
   ]
  },
  {
   "cell_type": "code",
   "execution_count": 23,
   "id": "d7f119cd-4e38-4c8d-a88f-1e8109caad1f",
   "metadata": {},
   "outputs": [],
   "source": [
    "# create our development set of DSPy Example objects\n",
    "devset = [dspy.Example(sr_title=x[0], citation_title=x[1], citation_abstract=x[2], relevant=y)\\\n",
    "          .with_inputs('sr_title', 'citation_title', 'citation_abstract')\n",
    "          for x,y in zip(Xs, Ys)]"
   ]
  },
  {
   "cell_type": "code",
   "execution_count": 37,
   "id": "13acb34a-3f5a-48d2-b28b-3099780de0ed",
   "metadata": {},
   "outputs": [],
   "source": [
    "# std lib imports\n",
    "from functools import reduce"
   ]
  },
  {
   "cell_type": "code",
   "execution_count": 51,
   "id": "b8b6a0b7-8b42-4be2-9a66-57d824b099c8",
   "metadata": {},
   "outputs": [],
   "source": [
    "# a metric that will only return True if all criteria are met\n",
    "def validate_criteria_based_answer(example, \n",
    "                                   pred,\n",
    "                                   trace=None) -> str | bool:\n",
    "    # all criteria must be met\n",
    "    pred.relevant = reduce(lambda x, y: x + y, pred.satisfied.values()) == len(pred.satisfied)\n",
    "    return confusion_validate(example, pred, trace=trace)\n",
    "    \n",
    "def validate_criteria_based_answer2(example, \n",
    "                                   pred,\n",
    "                                   trace=None) -> str | bool:\n",
    "    # all criteria must be met\n",
    "    pred.relevant = reduce(lambda x, y: x + y, pred.satisfied.values()) > len(pred.satisfied) // 2 \n",
    "    return confusion_validate(example, pred, trace=trace)"
   ]
  },
  {
   "cell_type": "code",
   "execution_count": 43,
   "id": "ed3ef607-91d2-483a-b93d-8797476e4023",
   "metadata": {},
   "outputs": [
    {
     "name": "stderr",
     "output_type": "stream",
     "text": [
      "F1 Score: 0.194 100%|████████████████████████████████████████████████████████████'| 300/300 [12:23<00:00, ' ' 2.48s/it]'"
     ]
    },
    {
     "name": "stdout",
     "output_type": "stream",
     "text": [
      "Confusion Matrix: Counter({'TN': 216, 'FP': 52, 'FN': 23, 'TP': 9})\n",
      "Precision: 0.148\n",
      "Recall: 0.281\n",
      "F1: 0.194\n",
      "MCC: 0.067\n",
      "Specificity: 0.827\n"
     ]
    },
    {
     "name": "stderr",
     "output_type": "stream",
     "text": [
      "\n"
     ]
    }
   ],
   "source": [
    "f1_evaluate(ClassifyByInclusion(), devset, validate_criteria_based_answer)"
   ]
  },
  {
   "cell_type": "code",
   "execution_count": 52,
   "id": "93da863d-3ee0-4abe-81cf-c10ad209cf8a",
   "metadata": {},
   "outputs": [
    {
     "name": "stderr",
     "output_type": "stream",
     "text": [
      "F1 Score: 0.267 100%|████████████████████████████████████████████████████████████'| 300/300 [11:52<00:00, ' ' 2.38s/it]'"
     ]
    },
    {
     "name": "stdout",
     "output_type": "stream",
     "text": [
      "Confusion Matrix: Counter({'FP': 169, 'TN': 99, 'TP': 31, 'FN': 1})\n",
      "Precision: 0.155\n",
      "Recall: 0.969\n",
      "F1: 0.267\n",
      "MCC: 0.221\n",
      "Specificity: 0.437\n"
     ]
    },
    {
     "name": "stderr",
     "output_type": "stream",
     "text": [
      "\n"
     ]
    }
   ],
   "source": [
    "f1_evaluate(ClassifyByInclusion(), devset, validate_criteria_based_answer2)"
   ]
  },
  {
   "cell_type": "markdown",
   "id": "0282a0d9-cea5-45f2-9f85-cfcdb8977527",
   "metadata": {},
   "source": [
    "## Pipeline rewrite\n",
    "\n",
    "Turns out Delgado-Chaves had both inclusion and exclusion criteria in their set of criteria. \n",
    "\n",
    "Not just one.\n",
    "\n",
    "So we're going to take the opportunity to rewrite this pipeline, while also changing the eval. So that we evaluate one SR at a time, and get separate F1 scores."
   ]
  },
  {
   "cell_type": "code",
   "execution_count": 177,
   "id": "497a1419-ada7-42a3-9472-46e4a16f8a2c",
   "metadata": {},
   "outputs": [],
   "source": [
    "# define a new signature for inclusion/exclusion criteria generation\n",
    "class InclusionExclusionCriteria(dspy.Signature):\n",
    "    \"\"\"Output a set of inclusion/exclusion criteria a prospective citation must meet to be included in the systematic review.\"\"\"\n",
    "\n",
    "    systematic_review_title: str = dspy.InputField()\n",
    "    criteria: dict[str, str] = dspy.OutputField(desc=\"Inclusion/exclusion criteria and their descrptions.\")"
   ]
  },
  {
   "cell_type": "code",
   "execution_count": 178,
   "id": "83b924a6-07f3-44cc-acd9-045e451eab02",
   "metadata": {},
   "outputs": [],
   "source": [
    "class CheckCriteriaMatch(dspy.Signature):\n",
    "    \"\"\"Verify which criteria are satisfied by the title and abstract of a candidate citation.\"\"\"\n",
    "\n",
    "    criteria: dict[str, str] = dspy.InputField()\n",
    "    citation_title: str = dspy.InputField()\n",
    "    citation_abstract: str = dspy.InputField()\n",
    "    satisfied: dict[str, int] = dspy.OutputField(desc=\"Criteria names and whether they're satisfied.\")"
   ]
  },
  {
   "cell_type": "code",
   "execution_count": 183,
   "id": "8d699f2d-28d5-44dc-afd2-c81610baefde",
   "metadata": {},
   "outputs": [],
   "source": [
    "# custom module for pipeline\n",
    "class ClassifyByInclusionExclusion(dspy.Module):\n",
    "    def __init__(self, sr_title: str):\n",
    "        self.systematic_review_title = sr_title\n",
    "        self.generate_criteria = dspy.ChainOfThought(InclusionExclusionCriteria)\n",
    "        self.evaluate_criteria = dspy.ChainOfThought(CheckCriteriaMatch)\n",
    "    def forward(self, citation_title: str, citation_abstract: str):\n",
    "        criteria = self.generate_criteria(\n",
    "            systematic_review_title=self.systematic_review_title\n",
    "        ).criteria\n",
    "        print(criteria)\n",
    "        return self.evaluate_criteria(criteria=criteria,\n",
    "                                      citation_title=citation_title,\n",
    "                                      citation_abstract=citation_abstract)"
   ]
  },
  {
   "cell_type": "code",
   "execution_count": 180,
   "id": "e6a6b2ad-fc6b-49ae-89f4-3a78af47135a",
   "metadata": {},
   "outputs": [],
   "source": [
    "# a metric that will only return True if all criteria are met\n",
    "def validate_criteria_based_answer(example, \n",
    "                                   pred,\n",
    "                                   trace=None) -> str | bool:\n",
    "    # all criteria must be met\n",
    "    pred.relevant = all(pred.satisfied.values())\n",
    "    return confusion_validate(example, pred, trace=trace)"
   ]
  },
  {
   "cell_type": "code",
   "execution_count": 184,
   "id": "41ca77a4-1f73-4c49-bd06-bd4a81969696",
   "metadata": {},
   "outputs": [],
   "source": [
    "devset = {}\n",
    "for sr_title, group in non_biomeds_df.groupby(by='SR_title'):\n",
    "    sr_id = group['SR_id'].iloc[0]\n",
    "    \n",
    "    Xs, Ys  = rus_dataset(group, ['title', 'abstract'], 'relevant', rus)\n",
    "\n",
    "    devset[sr_id] = [sr_title]\n",
    "    devset[sr_id].append([dspy.Example(citation_title=x[0], citation_abstract=x[1], relevant=y)\\\n",
    "                          .with_inputs('citation_title', 'citation_abstract')\n",
    "                          for x, y in zip(Xs, Ys)])"
   ]
  },
  {
   "cell_type": "code",
   "execution_count": 185,
   "id": "2044d01d-77f9-4b8d-b371-7fc19b2a6de5",
   "metadata": {},
   "outputs": [
    {
     "name": "stdout",
     "output_type": "stream",
     "text": [
      "Systematic Review: Hall_2012\n"
     ]
    },
    {
     "name": "stderr",
     "output_type": "stream",
     "text": [
      "F1 Score: nan   0%|                                                                         '| 0/75 [00:00<?, ' '?it/s]'"
     ]
    },
    {
     "name": "stdout",
     "output_type": "stream",
     "text": [
      "{'study_design': 'The study must be a formal, peer-reviewed systematic review, meta-analysis, or large-scale empirical study evaluating fault prediction performance.', 'data_type': 'The study must utilize software defect data, bug reports, or code metrics as input for the fault prediction models.', 'prediction_method': 'The study must employ a quantifiable fault prediction method, including but not limited to: machine learning algorithms (e.g., regression, classification, neural networks), statistical models, or rule-based systems.', 'performance_metrics': 'The study must report relevant performance metrics for evaluating the fault prediction models, such as precision, recall, F1-score, AUC, or accuracy.', 'dataset_size': 'The study should ideally utilize datasets of sufficient size to allow for meaningful model training and evaluation.', 'reporting_quality': 'The study must provide a detailed description of the methodology, including data preprocessing steps, model parameters, evaluation metrics, and limitations.'}\n",
      "{'study_design': 'The study must be a formal, peer-reviewed systematic review, meta-analysis, or large-scale empirical study evaluating fault prediction performance.', 'data_type': 'The study must utilize software defect data, bug reports, or code metrics as input for the fault prediction models.', 'prediction_method': 'The study must employ a quantifiable fault prediction method, including but not limited to: machine learning algorithms (e.g., regression, classification, neural networks), statistical models, or rule-based systems.', 'performance_metrics': 'The study must report relevant performance metrics for evaluating the fault prediction models, such as precision, recall, F1-score, AUC, or accuracy.', 'dataset_size': 'The study should ideally utilize datasets of sufficient size to allow for meaningful model training and evaluation.', 'reporting_quality': 'The study must provide a detailed description of the methodology, including data preprocessing steps, model parameters, evaluation metrics, and limitations.'}\n",
      "{'study_design': 'The study must be a formal, peer-reviewed systematic review, meta-analysis, or large-scale empirical study evaluating fault prediction performance.', 'data_type': 'The study must utilize software defect data, bug reports, or code metrics as input for the fault prediction models.', 'prediction_method': 'The study must employ a quantifiable fault prediction method, including but not limited to: machine learning algorithms (e.g., regression, classification, neural networks), statistical models, or rule-based systems.', 'performance_metrics': 'The study must report relevant performance metrics for evaluating the fault prediction models, such as precision, recall, F1-score, AUC, or accuracy.', 'dataset_size': 'The study should ideally utilize datasets of sufficient size to allow for meaningful model training and evaluation.', 'reporting_quality': 'The study must provide a detailed description of the methodology, including data preprocessing steps, model parameters, evaluation metrics, and limitations.'}\n",
      "{'study_design': 'The study must be a formal, peer-reviewed systematic review, meta-analysis, or large-scale empirical study evaluating fault prediction performance.', 'data_type': 'The study must utilize software defect data, bug reports, or code metrics as input for the fault prediction models.', 'prediction_method': 'The study must employ a quantifiable fault prediction method, including but not limited to: machine learning algorithms (e.g., regression, classification, neural networks), statistical models, or rule-based systems.', 'performance_metrics': 'The study must report relevant performance metrics for evaluating the fault prediction models, such as precision, recall, F1-score, AUC, or accuracy.', 'dataset_size': 'The study should ideally utilize datasets of sufficient size to allow for meaningful model training and evaluation.', 'reporting_quality': 'The study must provide a detailed description of the methodology, including data preprocessing steps, model parameters, evaluation metrics, and limitations.'}\n"
     ]
    },
    {
     "name": "stderr",
     "output_type": "stream",
     "text": [
      "F1 Score: nan   5%|███▍                                                             '| 4/75 [00:02<00:50, ' ' 1.40it/s]'"
     ]
    },
    {
     "name": "stdout",
     "output_type": "stream",
     "text": [
      "{'study_design': 'The study must be a formal, peer-reviewed systematic review, meta-analysis, or large-scale empirical study evaluating fault prediction performance.', 'data_type': 'The study must utilize software defect data, bug reports, or code metrics as input for the fault prediction models.', 'prediction_method': 'The study must employ a quantifiable fault prediction method, including but not limited to: machine learning algorithms (e.g., regression, classification, neural networks), statistical models, or rule-based systems.', 'performance_metrics': 'The study must report relevant performance metrics for evaluating the fault prediction models, such as precision, recall, F1-score, AUC, or accuracy.', 'dataset_size': 'The study should ideally utilize datasets of sufficient size to allow for meaningful model training and evaluation.', 'reporting_quality': 'The study must provide a detailed description of the methodology, including data preprocessing steps, model parameters, evaluation metrics, and limitations.'}\n"
     ]
    },
    {
     "name": "stderr",
     "output_type": "stream",
     "text": [
      "F1 Score: nan   7%|████▎                                                            '| 5/75 [00:05<01:26, ' ' 1.24s/it]'"
     ]
    },
    {
     "name": "stdout",
     "output_type": "stream",
     "text": [
      "{'study_design': 'The study must be a formal, peer-reviewed systematic review, meta-analysis, or large-scale empirical study evaluating fault prediction performance.', 'data_type': 'The study must utilize software defect data, bug reports, or code metrics as input for the fault prediction models.', 'prediction_method': 'The study must employ a quantifiable fault prediction method, including but not limited to: machine learning algorithms (e.g., regression, classification, neural networks), statistical models, or rule-based systems.', 'performance_metrics': 'The study must report relevant performance metrics for evaluating the fault prediction models, such as precision, recall, F1-score, AUC, or accuracy.', 'dataset_size': 'The study should ideally utilize datasets of sufficient size to allow for meaningful model training and evaluation.', 'reporting_quality': 'The study must provide a detailed description of the methodology, including data preprocessing steps, model parameters, evaluation metrics, and limitations.'}\n"
     ]
    },
    {
     "name": "stderr",
     "output_type": "stream",
     "text": [
      "F1 Score: nan   8%|█████▏                                                           '| 6/75 [00:08<02:00, ' ' 1.75s/it]'"
     ]
    },
    {
     "name": "stdout",
     "output_type": "stream",
     "text": [
      "{'study_design': 'The study must be a formal, peer-reviewed systematic review, meta-analysis, or large-scale empirical study evaluating fault prediction performance.', 'data_type': 'The study must utilize software defect data, bug reports, or code metrics as input for the fault prediction models.', 'prediction_method': 'The study must employ a quantifiable fault prediction method, including but not limited to: machine learning algorithms (e.g., regression, classification, neural networks), statistical models, or rule-based systems.', 'performance_metrics': 'The study must report relevant performance metrics for evaluating the fault prediction models, such as precision, recall, F1-score, AUC, or accuracy.', 'dataset_size': 'The study should ideally utilize datasets of sufficient size to allow for meaningful model training and evaluation.', 'reporting_quality': 'The study must provide a detailed description of the methodology, including data preprocessing steps, model parameters, evaluation metrics, and limitations.'}\n"
     ]
    },
    {
     "name": "stderr",
     "output_type": "stream",
     "text": [
      "F1 Score: nan   8%|█████▏                                                           '| 6/75 [00:10<02:03, ' ' 1.79s/it]'\n"
     ]
    },
    {
     "ename": "KeyboardInterrupt",
     "evalue": "",
     "output_type": "error",
     "traceback": [
      "\u001b[0;31m---------------------------------------------------------------------------\u001b[0m",
      "\u001b[0;31mKeyboardInterrupt\u001b[0m                         Traceback (most recent call last)",
      "Cell \u001b[0;32mIn[185], line 4\u001b[0m\n\u001b[1;32m      2\u001b[0m sr_title, data \u001b[38;5;241m=\u001b[39m data[\u001b[38;5;241m0\u001b[39m], data[\u001b[38;5;241m1\u001b[39m:][\u001b[38;5;241m0\u001b[39m]\n\u001b[1;32m      3\u001b[0m \u001b[38;5;28mprint\u001b[39m(\u001b[38;5;124mf\u001b[39m\u001b[38;5;124m\"\u001b[39m\u001b[38;5;124mSystematic Review: \u001b[39m\u001b[38;5;132;01m{\u001b[39;00msr_id\u001b[38;5;132;01m}\u001b[39;00m\u001b[38;5;124m\"\u001b[39m)\n\u001b[0;32m----> 4\u001b[0m \u001b[43mf1_evaluate\u001b[49m\u001b[43m(\u001b[49m\u001b[43mClassifyByInclusionExclusion\u001b[49m\u001b[43m(\u001b[49m\u001b[43msr_title\u001b[49m\u001b[43m)\u001b[49m\u001b[43m,\u001b[49m\u001b[43m \u001b[49m\u001b[43mdata\u001b[49m\u001b[43m,\u001b[49m\u001b[43m \u001b[49m\u001b[43mvalidate_criteria_based_answer\u001b[49m\u001b[43m)\u001b[49m\n\u001b[1;32m      5\u001b[0m \u001b[38;5;28;01mbreak\u001b[39;00m\n",
      "File \u001b[0;32m~/Sync/Roam/Areas/Uni/Dissertation/auto-screen/metrics.py:83\u001b[0m, in \u001b[0;36mf1_evaluate\u001b[0;34m(program, devset, metric)\u001b[0m\n\u001b[1;32m     79\u001b[0m \u001b[38;5;28;01mwith\u001b[39;00m tqdm(total\u001b[38;5;241m=\u001b[39m\u001b[38;5;28mlen\u001b[39m(devset),\n\u001b[1;32m     80\u001b[0m           bar_format\u001b[38;5;241m=\u001b[39m\u001b[38;5;124m\"\u001b[39m\u001b[38;5;132;01m{postfix[0]}\u001b[39;00m\u001b[38;5;124m \u001b[39m\u001b[38;5;132;01m{postfix[1][value]:.3f}\u001b[39;00m\u001b[38;5;124m \u001b[39m\u001b[38;5;132;01m{l_bar}\u001b[39;00m\u001b[38;5;132;01m{bar}\u001b[39;00m\u001b[38;5;124m'\u001b[39m\u001b[38;5;124m| \u001b[39m\u001b[38;5;132;01m{n_fmt}\u001b[39;00m\u001b[38;5;124m/\u001b[39m\u001b[38;5;132;01m{total_fmt}\u001b[39;00m\u001b[38;5;124m [\u001b[39m\u001b[38;5;132;01m{elapsed}\u001b[39;00m\u001b[38;5;124m<\u001b[39m\u001b[38;5;132;01m{remaining}\u001b[39;00m\u001b[38;5;124m, \u001b[39m\u001b[38;5;124m'\u001b[39m\u001b[38;5;124m \u001b[39m\u001b[38;5;124m'\u001b[39m\u001b[38;5;132;01m{rate_fmt}\u001b[39;00m\u001b[38;5;124m]\u001b[39m\u001b[38;5;124m'\u001b[39m\u001b[38;5;124m\"\u001b[39m,\n\u001b[1;32m     81\u001b[0m           postfix\u001b[38;5;241m=\u001b[39m[\u001b[38;5;124m\"\u001b[39m\u001b[38;5;124mF1 Score:\u001b[39m\u001b[38;5;124m\"\u001b[39m, {\u001b[38;5;124m'\u001b[39m\u001b[38;5;124mvalue\u001b[39m\u001b[38;5;124m'\u001b[39m: \u001b[38;5;28mfloat\u001b[39m(\u001b[38;5;124m'\u001b[39m\u001b[38;5;124mnan\u001b[39m\u001b[38;5;124m'\u001b[39m)}]) \u001b[38;5;28;01mas\u001b[39;00m t:\n\u001b[1;32m     82\u001b[0m     \u001b[38;5;28;01mfor\u001b[39;00m x \u001b[38;5;129;01min\u001b[39;00m devset:\n\u001b[0;32m---> 83\u001b[0m         pred \u001b[38;5;241m=\u001b[39m \u001b[43mprogram\u001b[49m\u001b[43m(\u001b[49m\u001b[38;5;241;43m*\u001b[39;49m\u001b[38;5;241;43m*\u001b[39;49m\u001b[43mx\u001b[49m\u001b[38;5;241;43m.\u001b[39;49m\u001b[43minputs\u001b[49m\u001b[43m(\u001b[49m\u001b[43m)\u001b[49m\u001b[43m)\u001b[49m\n\u001b[1;32m     84\u001b[0m         score \u001b[38;5;241m=\u001b[39m metric(x, pred)\n\u001b[1;32m     85\u001b[0m         c[score] \u001b[38;5;241m+\u001b[39m\u001b[38;5;241m=\u001b[39m \u001b[38;5;241m1\u001b[39m\n",
      "File \u001b[0;32m~/Sync/Roam/Areas/Uni/Dissertation/auto-screen/.venv/lib/python3.10/site-packages/dspy/utils/callback.py:266\u001b[0m, in \u001b[0;36mwith_callbacks.<locals>.wrapper\u001b[0;34m(instance, *args, **kwargs)\u001b[0m\n\u001b[1;32m    264\u001b[0m \u001b[38;5;66;03m# If no callbacks are provided, just call the function\u001b[39;00m\n\u001b[1;32m    265\u001b[0m \u001b[38;5;28;01mif\u001b[39;00m \u001b[38;5;129;01mnot\u001b[39;00m callbacks:\n\u001b[0;32m--> 266\u001b[0m     \u001b[38;5;28;01mreturn\u001b[39;00m \u001b[43mfn\u001b[49m\u001b[43m(\u001b[49m\u001b[43minstance\u001b[49m\u001b[43m,\u001b[49m\u001b[43m \u001b[49m\u001b[38;5;241;43m*\u001b[39;49m\u001b[43margs\u001b[49m\u001b[43m,\u001b[49m\u001b[43m \u001b[49m\u001b[38;5;241;43m*\u001b[39;49m\u001b[38;5;241;43m*\u001b[39;49m\u001b[43mkwargs\u001b[49m\u001b[43m)\u001b[49m\n\u001b[1;32m    268\u001b[0m \u001b[38;5;66;03m# Generate call ID as the unique identifier for the call, this is useful for instrumentation.\u001b[39;00m\n\u001b[1;32m    269\u001b[0m call_id \u001b[38;5;241m=\u001b[39m uuid\u001b[38;5;241m.\u001b[39muuid4()\u001b[38;5;241m.\u001b[39mhex\n",
      "File \u001b[0;32m~/Sync/Roam/Areas/Uni/Dissertation/auto-screen/.venv/lib/python3.10/site-packages/dspy/primitives/program.py:30\u001b[0m, in \u001b[0;36mModule.__call__\u001b[0;34m(self, *args, **kwargs)\u001b[0m\n\u001b[1;32m     27\u001b[0m         output\u001b[38;5;241m.\u001b[39mset_lm_usage(usage_tracker\u001b[38;5;241m.\u001b[39mget_total_tokens())\n\u001b[1;32m     28\u001b[0m         \u001b[38;5;28;01mreturn\u001b[39;00m output\n\u001b[0;32m---> 30\u001b[0m \u001b[38;5;28;01mreturn\u001b[39;00m \u001b[38;5;28;43mself\u001b[39;49m\u001b[38;5;241;43m.\u001b[39;49m\u001b[43mforward\u001b[49m\u001b[43m(\u001b[49m\u001b[38;5;241;43m*\u001b[39;49m\u001b[43margs\u001b[49m\u001b[43m,\u001b[49m\u001b[43m \u001b[49m\u001b[38;5;241;43m*\u001b[39;49m\u001b[38;5;241;43m*\u001b[39;49m\u001b[43mkwargs\u001b[49m\u001b[43m)\u001b[49m\n",
      "Cell \u001b[0;32mIn[183], line 12\u001b[0m, in \u001b[0;36mClassifyByInclusionExclusion.forward\u001b[0;34m(self, citation_title, citation_abstract)\u001b[0m\n\u001b[1;32m      8\u001b[0m criteria \u001b[38;5;241m=\u001b[39m \u001b[38;5;28mself\u001b[39m\u001b[38;5;241m.\u001b[39mgenerate_criteria(\n\u001b[1;32m      9\u001b[0m     systematic_review_title\u001b[38;5;241m=\u001b[39m\u001b[38;5;28mself\u001b[39m\u001b[38;5;241m.\u001b[39msystematic_review_title\n\u001b[1;32m     10\u001b[0m )\u001b[38;5;241m.\u001b[39mcriteria\n\u001b[1;32m     11\u001b[0m \u001b[38;5;28mprint\u001b[39m(criteria)\n\u001b[0;32m---> 12\u001b[0m \u001b[38;5;28;01mreturn\u001b[39;00m \u001b[38;5;28;43mself\u001b[39;49m\u001b[38;5;241;43m.\u001b[39;49m\u001b[43mevaluate_criteria\u001b[49m\u001b[43m(\u001b[49m\u001b[43mcriteria\u001b[49m\u001b[38;5;241;43m=\u001b[39;49m\u001b[43mcriteria\u001b[49m\u001b[43m,\u001b[49m\n\u001b[1;32m     13\u001b[0m \u001b[43m                              \u001b[49m\u001b[43mcitation_title\u001b[49m\u001b[38;5;241;43m=\u001b[39;49m\u001b[43mcitation_title\u001b[49m\u001b[43m,\u001b[49m\n\u001b[1;32m     14\u001b[0m \u001b[43m                              \u001b[49m\u001b[43mcitation_abstract\u001b[49m\u001b[38;5;241;43m=\u001b[39;49m\u001b[43mcitation_abstract\u001b[49m\u001b[43m)\u001b[49m\n",
      "File \u001b[0;32m~/Sync/Roam/Areas/Uni/Dissertation/auto-screen/.venv/lib/python3.10/site-packages/dspy/utils/callback.py:266\u001b[0m, in \u001b[0;36mwith_callbacks.<locals>.wrapper\u001b[0;34m(instance, *args, **kwargs)\u001b[0m\n\u001b[1;32m    264\u001b[0m \u001b[38;5;66;03m# If no callbacks are provided, just call the function\u001b[39;00m\n\u001b[1;32m    265\u001b[0m \u001b[38;5;28;01mif\u001b[39;00m \u001b[38;5;129;01mnot\u001b[39;00m callbacks:\n\u001b[0;32m--> 266\u001b[0m     \u001b[38;5;28;01mreturn\u001b[39;00m \u001b[43mfn\u001b[49m\u001b[43m(\u001b[49m\u001b[43minstance\u001b[49m\u001b[43m,\u001b[49m\u001b[43m \u001b[49m\u001b[38;5;241;43m*\u001b[39;49m\u001b[43margs\u001b[49m\u001b[43m,\u001b[49m\u001b[43m \u001b[49m\u001b[38;5;241;43m*\u001b[39;49m\u001b[38;5;241;43m*\u001b[39;49m\u001b[43mkwargs\u001b[49m\u001b[43m)\u001b[49m\n\u001b[1;32m    268\u001b[0m \u001b[38;5;66;03m# Generate call ID as the unique identifier for the call, this is useful for instrumentation.\u001b[39;00m\n\u001b[1;32m    269\u001b[0m call_id \u001b[38;5;241m=\u001b[39m uuid\u001b[38;5;241m.\u001b[39muuid4()\u001b[38;5;241m.\u001b[39mhex\n",
      "File \u001b[0;32m~/Sync/Roam/Areas/Uni/Dissertation/auto-screen/.venv/lib/python3.10/site-packages/dspy/primitives/program.py:30\u001b[0m, in \u001b[0;36mModule.__call__\u001b[0;34m(self, *args, **kwargs)\u001b[0m\n\u001b[1;32m     27\u001b[0m         output\u001b[38;5;241m.\u001b[39mset_lm_usage(usage_tracker\u001b[38;5;241m.\u001b[39mget_total_tokens())\n\u001b[1;32m     28\u001b[0m         \u001b[38;5;28;01mreturn\u001b[39;00m output\n\u001b[0;32m---> 30\u001b[0m \u001b[38;5;28;01mreturn\u001b[39;00m \u001b[38;5;28;43mself\u001b[39;49m\u001b[38;5;241;43m.\u001b[39;49m\u001b[43mforward\u001b[49m\u001b[43m(\u001b[49m\u001b[38;5;241;43m*\u001b[39;49m\u001b[43margs\u001b[49m\u001b[43m,\u001b[49m\u001b[43m \u001b[49m\u001b[38;5;241;43m*\u001b[39;49m\u001b[38;5;241;43m*\u001b[39;49m\u001b[43mkwargs\u001b[49m\u001b[43m)\u001b[49m\n",
      "File \u001b[0;32m~/Sync/Roam/Areas/Uni/Dissertation/auto-screen/.venv/lib/python3.10/site-packages/dspy/predict/chain_of_thought.py:37\u001b[0m, in \u001b[0;36mChainOfThought.forward\u001b[0;34m(self, **kwargs)\u001b[0m\n\u001b[1;32m     36\u001b[0m \u001b[38;5;28;01mdef\u001b[39;00m\u001b[38;5;250m \u001b[39m\u001b[38;5;21mforward\u001b[39m(\u001b[38;5;28mself\u001b[39m, \u001b[38;5;241m*\u001b[39m\u001b[38;5;241m*\u001b[39mkwargs):\n\u001b[0;32m---> 37\u001b[0m     \u001b[38;5;28;01mreturn\u001b[39;00m \u001b[38;5;28;43mself\u001b[39;49m\u001b[38;5;241;43m.\u001b[39;49m\u001b[43mpredict\u001b[49m\u001b[43m(\u001b[49m\u001b[38;5;241;43m*\u001b[39;49m\u001b[38;5;241;43m*\u001b[39;49m\u001b[43mkwargs\u001b[49m\u001b[43m)\u001b[49m\n",
      "File \u001b[0;32m~/Sync/Roam/Areas/Uni/Dissertation/auto-screen/.venv/lib/python3.10/site-packages/dspy/utils/callback.py:266\u001b[0m, in \u001b[0;36mwith_callbacks.<locals>.wrapper\u001b[0;34m(instance, *args, **kwargs)\u001b[0m\n\u001b[1;32m    264\u001b[0m \u001b[38;5;66;03m# If no callbacks are provided, just call the function\u001b[39;00m\n\u001b[1;32m    265\u001b[0m \u001b[38;5;28;01mif\u001b[39;00m \u001b[38;5;129;01mnot\u001b[39;00m callbacks:\n\u001b[0;32m--> 266\u001b[0m     \u001b[38;5;28;01mreturn\u001b[39;00m \u001b[43mfn\u001b[49m\u001b[43m(\u001b[49m\u001b[43minstance\u001b[49m\u001b[43m,\u001b[49m\u001b[43m \u001b[49m\u001b[38;5;241;43m*\u001b[39;49m\u001b[43margs\u001b[49m\u001b[43m,\u001b[49m\u001b[43m \u001b[49m\u001b[38;5;241;43m*\u001b[39;49m\u001b[38;5;241;43m*\u001b[39;49m\u001b[43mkwargs\u001b[49m\u001b[43m)\u001b[49m\n\u001b[1;32m    268\u001b[0m \u001b[38;5;66;03m# Generate call ID as the unique identifier for the call, this is useful for instrumentation.\u001b[39;00m\n\u001b[1;32m    269\u001b[0m call_id \u001b[38;5;241m=\u001b[39m uuid\u001b[38;5;241m.\u001b[39muuid4()\u001b[38;5;241m.\u001b[39mhex\n",
      "File \u001b[0;32m~/Sync/Roam/Areas/Uni/Dissertation/auto-screen/.venv/lib/python3.10/site-packages/dspy/predict/predict.py:77\u001b[0m, in \u001b[0;36mPredict.__call__\u001b[0;34m(self, **kwargs)\u001b[0m\n\u001b[1;32m     75\u001b[0m \u001b[38;5;129m@with_callbacks\u001b[39m\n\u001b[1;32m     76\u001b[0m \u001b[38;5;28;01mdef\u001b[39;00m\u001b[38;5;250m \u001b[39m\u001b[38;5;21m__call__\u001b[39m(\u001b[38;5;28mself\u001b[39m, \u001b[38;5;241m*\u001b[39m\u001b[38;5;241m*\u001b[39mkwargs):\n\u001b[0;32m---> 77\u001b[0m     \u001b[38;5;28;01mreturn\u001b[39;00m \u001b[38;5;28;43mself\u001b[39;49m\u001b[38;5;241;43m.\u001b[39;49m\u001b[43mforward\u001b[49m\u001b[43m(\u001b[49m\u001b[38;5;241;43m*\u001b[39;49m\u001b[38;5;241;43m*\u001b[39;49m\u001b[43mkwargs\u001b[49m\u001b[43m)\u001b[49m\n",
      "File \u001b[0;32m~/Sync/Roam/Areas/Uni/Dissertation/auto-screen/.venv/lib/python3.10/site-packages/dspy/predict/predict.py:107\u001b[0m, in \u001b[0;36mPredict.forward\u001b[0;34m(self, **kwargs)\u001b[0m\n\u001b[1;32m    100\u001b[0m     logger\u001b[38;5;241m.\u001b[39mwarning(\n\u001b[1;32m    101\u001b[0m         \u001b[38;5;124m\"\u001b[39m\u001b[38;5;124mNot all input fields were provided to module. Present: \u001b[39m\u001b[38;5;132;01m%s\u001b[39;00m\u001b[38;5;124m. Missing: \u001b[39m\u001b[38;5;132;01m%s\u001b[39;00m\u001b[38;5;124m.\u001b[39m\u001b[38;5;124m\"\u001b[39m,\n\u001b[1;32m    102\u001b[0m         present,\n\u001b[1;32m    103\u001b[0m         missing,\n\u001b[1;32m    104\u001b[0m     )\n\u001b[1;32m    106\u001b[0m adapter \u001b[38;5;241m=\u001b[39m settings\u001b[38;5;241m.\u001b[39madapter \u001b[38;5;129;01mor\u001b[39;00m ChatAdapter()\n\u001b[0;32m--> 107\u001b[0m completions \u001b[38;5;241m=\u001b[39m \u001b[43madapter\u001b[49m\u001b[43m(\u001b[49m\n\u001b[1;32m    108\u001b[0m \u001b[43m    \u001b[49m\u001b[43mlm\u001b[49m\u001b[43m,\u001b[49m\n\u001b[1;32m    109\u001b[0m \u001b[43m    \u001b[49m\u001b[43mlm_kwargs\u001b[49m\u001b[38;5;241;43m=\u001b[39;49m\u001b[43mconfig\u001b[49m\u001b[43m,\u001b[49m\n\u001b[1;32m    110\u001b[0m \u001b[43m    \u001b[49m\u001b[43msignature\u001b[49m\u001b[38;5;241;43m=\u001b[39;49m\u001b[43msignature\u001b[49m\u001b[43m,\u001b[49m\n\u001b[1;32m    111\u001b[0m \u001b[43m    \u001b[49m\u001b[43mdemos\u001b[49m\u001b[38;5;241;43m=\u001b[39;49m\u001b[43mdemos\u001b[49m\u001b[43m,\u001b[49m\n\u001b[1;32m    112\u001b[0m \u001b[43m    \u001b[49m\u001b[43minputs\u001b[49m\u001b[38;5;241;43m=\u001b[39;49m\u001b[43mkwargs\u001b[49m\u001b[43m,\u001b[49m\n\u001b[1;32m    113\u001b[0m \u001b[43m\u001b[49m\u001b[43m)\u001b[49m\n\u001b[1;32m    115\u001b[0m pred \u001b[38;5;241m=\u001b[39m Prediction\u001b[38;5;241m.\u001b[39mfrom_completions(completions, signature\u001b[38;5;241m=\u001b[39msignature)\n\u001b[1;32m    117\u001b[0m \u001b[38;5;28;01mif\u001b[39;00m kwargs\u001b[38;5;241m.\u001b[39mpop(\u001b[38;5;124m\"\u001b[39m\u001b[38;5;124m_trace\u001b[39m\u001b[38;5;124m\"\u001b[39m, \u001b[38;5;28;01mTrue\u001b[39;00m) \u001b[38;5;129;01mand\u001b[39;00m settings\u001b[38;5;241m.\u001b[39mtrace \u001b[38;5;129;01mis\u001b[39;00m \u001b[38;5;129;01mnot\u001b[39;00m \u001b[38;5;28;01mNone\u001b[39;00m:\n",
      "File \u001b[0;32m~/Sync/Roam/Areas/Uni/Dissertation/auto-screen/.venv/lib/python3.10/site-packages/dspy/adapters/chat_adapter.py:41\u001b[0m, in \u001b[0;36mChatAdapter.__call__\u001b[0;34m(self, lm, lm_kwargs, signature, demos, inputs)\u001b[0m\n\u001b[1;32m     32\u001b[0m \u001b[38;5;28;01mdef\u001b[39;00m\u001b[38;5;250m \u001b[39m\u001b[38;5;21m__call__\u001b[39m(\n\u001b[1;32m     33\u001b[0m     \u001b[38;5;28mself\u001b[39m,\n\u001b[1;32m     34\u001b[0m     lm: LM,\n\u001b[0;32m   (...)\u001b[0m\n\u001b[1;32m     38\u001b[0m     inputs: \u001b[38;5;28mdict\u001b[39m[\u001b[38;5;28mstr\u001b[39m, Any],\n\u001b[1;32m     39\u001b[0m ) \u001b[38;5;241m-\u001b[39m\u001b[38;5;241m>\u001b[39m \u001b[38;5;28mlist\u001b[39m[\u001b[38;5;28mdict\u001b[39m[\u001b[38;5;28mstr\u001b[39m, Any]]:\n\u001b[1;32m     40\u001b[0m     \u001b[38;5;28;01mtry\u001b[39;00m:\n\u001b[0;32m---> 41\u001b[0m         \u001b[38;5;28;01mreturn\u001b[39;00m \u001b[38;5;28;43msuper\u001b[39;49m\u001b[43m(\u001b[49m\u001b[43m)\u001b[49m\u001b[38;5;241;43m.\u001b[39;49m\u001b[38;5;21;43m__call__\u001b[39;49m\u001b[43m(\u001b[49m\u001b[43mlm\u001b[49m\u001b[43m,\u001b[49m\u001b[43m \u001b[49m\u001b[43mlm_kwargs\u001b[49m\u001b[43m,\u001b[49m\u001b[43m \u001b[49m\u001b[43msignature\u001b[49m\u001b[43m,\u001b[49m\u001b[43m \u001b[49m\u001b[43mdemos\u001b[49m\u001b[43m,\u001b[49m\u001b[43m \u001b[49m\u001b[43minputs\u001b[49m\u001b[43m)\u001b[49m\n\u001b[1;32m     42\u001b[0m     \u001b[38;5;28;01mexcept\u001b[39;00m \u001b[38;5;167;01mException\u001b[39;00m \u001b[38;5;28;01mas\u001b[39;00m e:\n\u001b[1;32m     43\u001b[0m         \u001b[38;5;66;03m# fallback to JSONAdapter\u001b[39;00m\n\u001b[1;32m     44\u001b[0m         \u001b[38;5;28;01mfrom\u001b[39;00m\u001b[38;5;250m \u001b[39m\u001b[38;5;21;01mdspy\u001b[39;00m\u001b[38;5;21;01m.\u001b[39;00m\u001b[38;5;21;01madapters\u001b[39;00m\u001b[38;5;21;01m.\u001b[39;00m\u001b[38;5;21;01mjson_adapter\u001b[39;00m\u001b[38;5;250m \u001b[39m\u001b[38;5;28;01mimport\u001b[39;00m JSONAdapter\n",
      "File \u001b[0;32m~/Sync/Roam/Areas/Uni/Dissertation/auto-screen/.venv/lib/python3.10/site-packages/dspy/adapters/base.py:33\u001b[0m, in \u001b[0;36mAdapter.__call__\u001b[0;34m(self, lm, lm_kwargs, signature, demos, inputs)\u001b[0m\n\u001b[1;32m     23\u001b[0m \u001b[38;5;28;01mdef\u001b[39;00m\u001b[38;5;250m \u001b[39m\u001b[38;5;21m__call__\u001b[39m(\n\u001b[1;32m     24\u001b[0m     \u001b[38;5;28mself\u001b[39m,\n\u001b[1;32m     25\u001b[0m     lm: \u001b[38;5;124m\"\u001b[39m\u001b[38;5;124mLM\u001b[39m\u001b[38;5;124m\"\u001b[39m,\n\u001b[0;32m   (...)\u001b[0m\n\u001b[1;32m     29\u001b[0m     inputs: \u001b[38;5;28mdict\u001b[39m[\u001b[38;5;28mstr\u001b[39m, Any],\n\u001b[1;32m     30\u001b[0m ) \u001b[38;5;241m-\u001b[39m\u001b[38;5;241m>\u001b[39m \u001b[38;5;28mlist\u001b[39m[\u001b[38;5;28mdict\u001b[39m[\u001b[38;5;28mstr\u001b[39m, Any]]:\n\u001b[1;32m     31\u001b[0m     inputs \u001b[38;5;241m=\u001b[39m \u001b[38;5;28mself\u001b[39m\u001b[38;5;241m.\u001b[39mformat(signature, demos, inputs)\n\u001b[0;32m---> 33\u001b[0m     outputs \u001b[38;5;241m=\u001b[39m \u001b[43mlm\u001b[49m\u001b[43m(\u001b[49m\u001b[43mmessages\u001b[49m\u001b[38;5;241;43m=\u001b[39;49m\u001b[43minputs\u001b[49m\u001b[43m,\u001b[49m\u001b[43m \u001b[49m\u001b[38;5;241;43m*\u001b[39;49m\u001b[38;5;241;43m*\u001b[39;49m\u001b[43mlm_kwargs\u001b[49m\u001b[43m)\u001b[49m\n\u001b[1;32m     34\u001b[0m     values \u001b[38;5;241m=\u001b[39m []\n\u001b[1;32m     36\u001b[0m     \u001b[38;5;28;01mfor\u001b[39;00m output \u001b[38;5;129;01min\u001b[39;00m outputs:\n",
      "File \u001b[0;32m~/Sync/Roam/Areas/Uni/Dissertation/auto-screen/.venv/lib/python3.10/site-packages/dspy/utils/callback.py:266\u001b[0m, in \u001b[0;36mwith_callbacks.<locals>.wrapper\u001b[0;34m(instance, *args, **kwargs)\u001b[0m\n\u001b[1;32m    264\u001b[0m \u001b[38;5;66;03m# If no callbacks are provided, just call the function\u001b[39;00m\n\u001b[1;32m    265\u001b[0m \u001b[38;5;28;01mif\u001b[39;00m \u001b[38;5;129;01mnot\u001b[39;00m callbacks:\n\u001b[0;32m--> 266\u001b[0m     \u001b[38;5;28;01mreturn\u001b[39;00m \u001b[43mfn\u001b[49m\u001b[43m(\u001b[49m\u001b[43minstance\u001b[49m\u001b[43m,\u001b[49m\u001b[43m \u001b[49m\u001b[38;5;241;43m*\u001b[39;49m\u001b[43margs\u001b[49m\u001b[43m,\u001b[49m\u001b[43m \u001b[49m\u001b[38;5;241;43m*\u001b[39;49m\u001b[38;5;241;43m*\u001b[39;49m\u001b[43mkwargs\u001b[49m\u001b[43m)\u001b[49m\n\u001b[1;32m    268\u001b[0m \u001b[38;5;66;03m# Generate call ID as the unique identifier for the call, this is useful for instrumentation.\u001b[39;00m\n\u001b[1;32m    269\u001b[0m call_id \u001b[38;5;241m=\u001b[39m uuid\u001b[38;5;241m.\u001b[39muuid4()\u001b[38;5;241m.\u001b[39mhex\n",
      "File \u001b[0;32m~/Sync/Roam/Areas/Uni/Dissertation/auto-screen/.venv/lib/python3.10/site-packages/dspy/clients/base_lm.py:52\u001b[0m, in \u001b[0;36mBaseLM.__call__\u001b[0;34m(self, prompt, messages, **kwargs)\u001b[0m\n\u001b[1;32m     50\u001b[0m \u001b[38;5;129m@with_callbacks\u001b[39m\n\u001b[1;32m     51\u001b[0m \u001b[38;5;28;01mdef\u001b[39;00m\u001b[38;5;250m \u001b[39m\u001b[38;5;21m__call__\u001b[39m(\u001b[38;5;28mself\u001b[39m, prompt\u001b[38;5;241m=\u001b[39m\u001b[38;5;28;01mNone\u001b[39;00m, messages\u001b[38;5;241m=\u001b[39m\u001b[38;5;28;01mNone\u001b[39;00m, \u001b[38;5;241m*\u001b[39m\u001b[38;5;241m*\u001b[39mkwargs):\n\u001b[0;32m---> 52\u001b[0m     response \u001b[38;5;241m=\u001b[39m \u001b[38;5;28;43mself\u001b[39;49m\u001b[38;5;241;43m.\u001b[39;49m\u001b[43mforward\u001b[49m\u001b[43m(\u001b[49m\u001b[43mprompt\u001b[49m\u001b[38;5;241;43m=\u001b[39;49m\u001b[43mprompt\u001b[49m\u001b[43m,\u001b[49m\u001b[43m \u001b[49m\u001b[43mmessages\u001b[49m\u001b[38;5;241;43m=\u001b[39;49m\u001b[43mmessages\u001b[49m\u001b[43m,\u001b[49m\u001b[43m \u001b[49m\u001b[38;5;241;43m*\u001b[39;49m\u001b[38;5;241;43m*\u001b[39;49m\u001b[43mkwargs\u001b[49m\u001b[43m)\u001b[49m\n\u001b[1;32m     54\u001b[0m     \u001b[38;5;28;01mif\u001b[39;00m kwargs\u001b[38;5;241m.\u001b[39mget(\u001b[38;5;124m\"\u001b[39m\u001b[38;5;124mlogprobs\u001b[39m\u001b[38;5;124m\"\u001b[39m):\n\u001b[1;32m     55\u001b[0m         outputs \u001b[38;5;241m=\u001b[39m [\n\u001b[1;32m     56\u001b[0m             {\n\u001b[1;32m     57\u001b[0m                 \u001b[38;5;124m\"\u001b[39m\u001b[38;5;124mtext\u001b[39m\u001b[38;5;124m\"\u001b[39m: c\u001b[38;5;241m.\u001b[39mmessage\u001b[38;5;241m.\u001b[39mcontent \u001b[38;5;28;01mif\u001b[39;00m \u001b[38;5;28mhasattr\u001b[39m(c, \u001b[38;5;124m\"\u001b[39m\u001b[38;5;124mmessage\u001b[39m\u001b[38;5;124m\"\u001b[39m) \u001b[38;5;28;01melse\u001b[39;00m c[\u001b[38;5;124m\"\u001b[39m\u001b[38;5;124mtext\u001b[39m\u001b[38;5;124m\"\u001b[39m],\n\u001b[0;32m   (...)\u001b[0m\n\u001b[1;32m     60\u001b[0m             \u001b[38;5;28;01mfor\u001b[39;00m c \u001b[38;5;129;01min\u001b[39;00m response\u001b[38;5;241m.\u001b[39mchoices\n\u001b[1;32m     61\u001b[0m         ]\n",
      "File \u001b[0;32m~/Sync/Roam/Areas/Uni/Dissertation/auto-screen/.venv/lib/python3.10/site-packages/dspy/utils/callback.py:266\u001b[0m, in \u001b[0;36mwith_callbacks.<locals>.wrapper\u001b[0;34m(instance, *args, **kwargs)\u001b[0m\n\u001b[1;32m    264\u001b[0m \u001b[38;5;66;03m# If no callbacks are provided, just call the function\u001b[39;00m\n\u001b[1;32m    265\u001b[0m \u001b[38;5;28;01mif\u001b[39;00m \u001b[38;5;129;01mnot\u001b[39;00m callbacks:\n\u001b[0;32m--> 266\u001b[0m     \u001b[38;5;28;01mreturn\u001b[39;00m \u001b[43mfn\u001b[49m\u001b[43m(\u001b[49m\u001b[43minstance\u001b[49m\u001b[43m,\u001b[49m\u001b[43m \u001b[49m\u001b[38;5;241;43m*\u001b[39;49m\u001b[43margs\u001b[49m\u001b[43m,\u001b[49m\u001b[43m \u001b[49m\u001b[38;5;241;43m*\u001b[39;49m\u001b[38;5;241;43m*\u001b[39;49m\u001b[43mkwargs\u001b[49m\u001b[43m)\u001b[49m\n\u001b[1;32m    268\u001b[0m \u001b[38;5;66;03m# Generate call ID as the unique identifier for the call, this is useful for instrumentation.\u001b[39;00m\n\u001b[1;32m    269\u001b[0m call_id \u001b[38;5;241m=\u001b[39m uuid\u001b[38;5;241m.\u001b[39muuid4()\u001b[38;5;241m.\u001b[39mhex\n",
      "File \u001b[0;32m~/Sync/Roam/Areas/Uni/Dissertation/auto-screen/.venv/lib/python3.10/site-packages/dspy/clients/lm.py:112\u001b[0m, in \u001b[0;36mLM.forward\u001b[0;34m(self, prompt, messages, **kwargs)\u001b[0m\n\u001b[1;32m    109\u001b[0m \u001b[38;5;28;01mif\u001b[39;00m cache_in_memory:\n\u001b[1;32m    110\u001b[0m     completion \u001b[38;5;241m=\u001b[39m cached_litellm_completion \u001b[38;5;28;01mif\u001b[39;00m \u001b[38;5;28mself\u001b[39m\u001b[38;5;241m.\u001b[39mmodel_type \u001b[38;5;241m==\u001b[39m \u001b[38;5;124m\"\u001b[39m\u001b[38;5;124mchat\u001b[39m\u001b[38;5;124m\"\u001b[39m \u001b[38;5;28;01melse\u001b[39;00m cached_litellm_text_completion\n\u001b[0;32m--> 112\u001b[0m     results \u001b[38;5;241m=\u001b[39m \u001b[43mcompletion\u001b[49m\u001b[43m(\u001b[49m\n\u001b[1;32m    113\u001b[0m \u001b[43m        \u001b[49m\u001b[43mrequest\u001b[49m\u001b[38;5;241;43m=\u001b[39;49m\u001b[38;5;28;43mdict\u001b[39;49m\u001b[43m(\u001b[49m\u001b[43mmodel\u001b[49m\u001b[38;5;241;43m=\u001b[39;49m\u001b[38;5;28;43mself\u001b[39;49m\u001b[38;5;241;43m.\u001b[39;49m\u001b[43mmodel\u001b[49m\u001b[43m,\u001b[49m\u001b[43m \u001b[49m\u001b[43mmessages\u001b[49m\u001b[38;5;241;43m=\u001b[39;49m\u001b[43mmessages\u001b[49m\u001b[43m,\u001b[49m\u001b[43m \u001b[49m\u001b[38;5;241;43m*\u001b[39;49m\u001b[38;5;241;43m*\u001b[39;49m\u001b[43mkwargs\u001b[49m\u001b[43m)\u001b[49m\u001b[43m,\u001b[49m\n\u001b[1;32m    114\u001b[0m \u001b[43m        \u001b[49m\u001b[43mnum_retries\u001b[49m\u001b[38;5;241;43m=\u001b[39;49m\u001b[38;5;28;43mself\u001b[39;49m\u001b[38;5;241;43m.\u001b[39;49m\u001b[43mnum_retries\u001b[49m\u001b[43m,\u001b[49m\n\u001b[1;32m    115\u001b[0m \u001b[43m    \u001b[49m\u001b[43m)\u001b[49m\n\u001b[1;32m    116\u001b[0m \u001b[38;5;28;01melse\u001b[39;00m:\n\u001b[1;32m    117\u001b[0m     completion \u001b[38;5;241m=\u001b[39m litellm_completion \u001b[38;5;28;01mif\u001b[39;00m \u001b[38;5;28mself\u001b[39m\u001b[38;5;241m.\u001b[39mmodel_type \u001b[38;5;241m==\u001b[39m \u001b[38;5;124m\"\u001b[39m\u001b[38;5;124mchat\u001b[39m\u001b[38;5;124m\"\u001b[39m \u001b[38;5;28;01melse\u001b[39;00m litellm_text_completion\n",
      "File \u001b[0;32m~/Sync/Roam/Areas/Uni/Dissertation/auto-screen/.venv/lib/python3.10/site-packages/dspy/clients/lm.py:268\u001b[0m, in \u001b[0;36mrequest_cache.<locals>.decorator.<locals>.wrapper\u001b[0;34m(request, *args, **kwargs)\u001b[0m\n\u001b[1;32m    266\u001b[0m     \u001b[38;5;28;01mreturn\u001b[39;00m func(request, \u001b[38;5;241m*\u001b[39margs, \u001b[38;5;241m*\u001b[39m\u001b[38;5;241m*\u001b[39mkwargs)\n\u001b[1;32m    267\u001b[0m cache_hit \u001b[38;5;241m=\u001b[39m key \u001b[38;5;129;01min\u001b[39;00m func_cached\u001b[38;5;241m.\u001b[39mcache\n\u001b[0;32m--> 268\u001b[0m output \u001b[38;5;241m=\u001b[39m \u001b[43mfunc_cached\u001b[49m\u001b[43m(\u001b[49m\u001b[43mkey\u001b[49m\u001b[43m,\u001b[49m\u001b[43m \u001b[49m\u001b[43mrequest\u001b[49m\u001b[43m,\u001b[49m\u001b[43m \u001b[49m\u001b[38;5;241;43m*\u001b[39;49m\u001b[43margs\u001b[49m\u001b[43m,\u001b[49m\u001b[43m \u001b[49m\u001b[38;5;241;43m*\u001b[39;49m\u001b[38;5;241;43m*\u001b[39;49m\u001b[43mkwargs\u001b[49m\u001b[43m)\u001b[49m\n\u001b[1;32m    269\u001b[0m \u001b[38;5;28;01mif\u001b[39;00m cache_hit \u001b[38;5;129;01mand\u001b[39;00m \u001b[38;5;28mhasattr\u001b[39m(output, \u001b[38;5;124m\"\u001b[39m\u001b[38;5;124musage\u001b[39m\u001b[38;5;124m\"\u001b[39m):\n\u001b[1;32m    270\u001b[0m     \u001b[38;5;66;03m# Clear the usage data when cache is hit, because no LM call is made\u001b[39;00m\n\u001b[1;32m    271\u001b[0m     output\u001b[38;5;241m.\u001b[39musage \u001b[38;5;241m=\u001b[39m {}\n",
      "File \u001b[0;32m~/Sync/Roam/Areas/Uni/Dissertation/auto-screen/.venv/lib/python3.10/site-packages/cachetools/_decorators.py:94\u001b[0m, in \u001b[0;36m_cached_locked.<locals>.wrapper\u001b[0;34m(*args, **kwargs)\u001b[0m\n\u001b[1;32m     92\u001b[0m     \u001b[38;5;28;01mexcept\u001b[39;00m \u001b[38;5;167;01mKeyError\u001b[39;00m:\n\u001b[1;32m     93\u001b[0m         \u001b[38;5;28;01mpass\u001b[39;00m  \u001b[38;5;66;03m# key not found\u001b[39;00m\n\u001b[0;32m---> 94\u001b[0m v \u001b[38;5;241m=\u001b[39m \u001b[43mfunc\u001b[49m\u001b[43m(\u001b[49m\u001b[38;5;241;43m*\u001b[39;49m\u001b[43margs\u001b[49m\u001b[43m,\u001b[49m\u001b[43m \u001b[49m\u001b[38;5;241;43m*\u001b[39;49m\u001b[38;5;241;43m*\u001b[39;49m\u001b[43mkwargs\u001b[49m\u001b[43m)\u001b[49m\n\u001b[1;32m     95\u001b[0m \u001b[38;5;28;01mwith\u001b[39;00m lock:\n\u001b[1;32m     96\u001b[0m     \u001b[38;5;28;01mtry\u001b[39;00m:\n\u001b[1;32m     97\u001b[0m         \u001b[38;5;66;03m# in case of a race, prefer the item already in the cache\u001b[39;00m\n",
      "File \u001b[0;32m~/Sync/Roam/Areas/Uni/Dissertation/auto-screen/.venv/lib/python3.10/site-packages/dspy/clients/lm.py:257\u001b[0m, in \u001b[0;36mrequest_cache.<locals>.decorator.<locals>.func_cached\u001b[0;34m(key, request, *args, **kwargs)\u001b[0m\n\u001b[1;32m    248\u001b[0m \u001b[38;5;129m@cached\u001b[39m(\n\u001b[1;32m    249\u001b[0m     \u001b[38;5;66;03m# NB: cachetools doesn't support maxsize=None; it recommends using float(\"inf\") instead\u001b[39;00m\n\u001b[1;32m    250\u001b[0m     cache\u001b[38;5;241m=\u001b[39mLRUCache(maxsize\u001b[38;5;241m=\u001b[39mmaxsize \u001b[38;5;129;01mor\u001b[39;00m \u001b[38;5;28mfloat\u001b[39m(\u001b[38;5;124m\"\u001b[39m\u001b[38;5;124minf\u001b[39m\u001b[38;5;124m\"\u001b[39m)),\n\u001b[0;32m   (...)\u001b[0m\n\u001b[1;32m    255\u001b[0m )\n\u001b[1;32m    256\u001b[0m \u001b[38;5;28;01mdef\u001b[39;00m\u001b[38;5;250m \u001b[39m\u001b[38;5;21mfunc_cached\u001b[39m(key: \u001b[38;5;28mstr\u001b[39m, request: Dict[\u001b[38;5;28mstr\u001b[39m, Any], \u001b[38;5;241m*\u001b[39margs, \u001b[38;5;241m*\u001b[39m\u001b[38;5;241m*\u001b[39mkwargs):\n\u001b[0;32m--> 257\u001b[0m     \u001b[38;5;28;01mreturn\u001b[39;00m \u001b[43mfunc\u001b[49m\u001b[43m(\u001b[49m\u001b[43mrequest\u001b[49m\u001b[43m,\u001b[49m\u001b[43m \u001b[49m\u001b[38;5;241;43m*\u001b[39;49m\u001b[43margs\u001b[49m\u001b[43m,\u001b[49m\u001b[43m \u001b[49m\u001b[38;5;241;43m*\u001b[39;49m\u001b[38;5;241;43m*\u001b[39;49m\u001b[43mkwargs\u001b[49m\u001b[43m)\u001b[49m\n",
      "File \u001b[0;32m~/Sync/Roam/Areas/Uni/Dissertation/auto-screen/.venv/lib/python3.10/site-packages/dspy/clients/lm.py:282\u001b[0m, in \u001b[0;36mcached_litellm_completion\u001b[0;34m(request, num_retries)\u001b[0m\n\u001b[1;32m    280\u001b[0m \u001b[38;5;129m@request_cache\u001b[39m(maxsize\u001b[38;5;241m=\u001b[39m\u001b[38;5;28;01mNone\u001b[39;00m)\n\u001b[1;32m    281\u001b[0m \u001b[38;5;28;01mdef\u001b[39;00m\u001b[38;5;250m \u001b[39m\u001b[38;5;21mcached_litellm_completion\u001b[39m(request: Dict[\u001b[38;5;28mstr\u001b[39m, Any], num_retries: \u001b[38;5;28mint\u001b[39m):\n\u001b[0;32m--> 282\u001b[0m     \u001b[38;5;28;01mreturn\u001b[39;00m \u001b[43mlitellm_completion\u001b[49m\u001b[43m(\u001b[49m\n\u001b[1;32m    283\u001b[0m \u001b[43m        \u001b[49m\u001b[43mrequest\u001b[49m\u001b[43m,\u001b[49m\n\u001b[1;32m    284\u001b[0m \u001b[43m        \u001b[49m\u001b[43mcache\u001b[49m\u001b[38;5;241;43m=\u001b[39;49m\u001b[43m{\u001b[49m\u001b[38;5;124;43m\"\u001b[39;49m\u001b[38;5;124;43mno-cache\u001b[39;49m\u001b[38;5;124;43m\"\u001b[39;49m\u001b[43m:\u001b[49m\u001b[43m \u001b[49m\u001b[38;5;28;43;01mFalse\u001b[39;49;00m\u001b[43m,\u001b[49m\u001b[43m \u001b[49m\u001b[38;5;124;43m\"\u001b[39;49m\u001b[38;5;124;43mno-store\u001b[39;49m\u001b[38;5;124;43m\"\u001b[39;49m\u001b[43m:\u001b[49m\u001b[43m \u001b[49m\u001b[38;5;28;43;01mFalse\u001b[39;49;00m\u001b[43m}\u001b[49m\u001b[43m,\u001b[49m\n\u001b[1;32m    285\u001b[0m \u001b[43m        \u001b[49m\u001b[43mnum_retries\u001b[49m\u001b[38;5;241;43m=\u001b[39;49m\u001b[43mnum_retries\u001b[49m\u001b[43m,\u001b[49m\n\u001b[1;32m    286\u001b[0m \u001b[43m    \u001b[49m\u001b[43m)\u001b[49m\n",
      "File \u001b[0;32m~/Sync/Roam/Areas/Uni/Dissertation/auto-screen/.venv/lib/python3.10/site-packages/dspy/clients/lm.py:301\u001b[0m, in \u001b[0;36mlitellm_completion\u001b[0;34m(request, num_retries, cache)\u001b[0m\n\u001b[1;32m    299\u001b[0m stream \u001b[38;5;241m=\u001b[39m dspy\u001b[38;5;241m.\u001b[39msettings\u001b[38;5;241m.\u001b[39msend_stream\n\u001b[1;32m    300\u001b[0m \u001b[38;5;28;01mif\u001b[39;00m stream \u001b[38;5;129;01mis\u001b[39;00m \u001b[38;5;28;01mNone\u001b[39;00m:\n\u001b[0;32m--> 301\u001b[0m     \u001b[38;5;28;01mreturn\u001b[39;00m \u001b[43mlitellm\u001b[49m\u001b[38;5;241;43m.\u001b[39;49m\u001b[43mcompletion\u001b[49m\u001b[43m(\u001b[49m\n\u001b[1;32m    302\u001b[0m \u001b[43m        \u001b[49m\u001b[43mcache\u001b[49m\u001b[38;5;241;43m=\u001b[39;49m\u001b[43mcache\u001b[49m\u001b[43m,\u001b[49m\n\u001b[1;32m    303\u001b[0m \u001b[43m        \u001b[49m\u001b[38;5;241;43m*\u001b[39;49m\u001b[38;5;241;43m*\u001b[39;49m\u001b[43mretry_kwargs\u001b[49m\u001b[43m,\u001b[49m\n\u001b[1;32m    304\u001b[0m \u001b[43m        \u001b[49m\u001b[38;5;241;43m*\u001b[39;49m\u001b[38;5;241;43m*\u001b[39;49m\u001b[43mrequest\u001b[49m\u001b[43m,\u001b[49m\n\u001b[1;32m    305\u001b[0m \u001b[43m    \u001b[49m\u001b[43m)\u001b[49m\n\u001b[1;32m    307\u001b[0m \u001b[38;5;66;03m# The stream is already opened, and will be closed by the caller.\u001b[39;00m\n\u001b[1;32m    308\u001b[0m stream \u001b[38;5;241m=\u001b[39m cast(MemoryObjectSendStream, stream)\n",
      "File \u001b[0;32m~/Sync/Roam/Areas/Uni/Dissertation/auto-screen/.venv/lib/python3.10/site-packages/litellm/utils.py:1091\u001b[0m, in \u001b[0;36mclient.<locals>.wrapper\u001b[0;34m(*args, **kwargs)\u001b[0m\n\u001b[1;32m   1089\u001b[0m         print_verbose(\u001b[38;5;124mf\u001b[39m\u001b[38;5;124m\"\u001b[39m\u001b[38;5;124mError while checking max token limit: \u001b[39m\u001b[38;5;132;01m{\u001b[39;00m\u001b[38;5;28mstr\u001b[39m(e)\u001b[38;5;132;01m}\u001b[39;00m\u001b[38;5;124m\"\u001b[39m)\n\u001b[1;32m   1090\u001b[0m \u001b[38;5;66;03m# MODEL CALL\u001b[39;00m\n\u001b[0;32m-> 1091\u001b[0m result \u001b[38;5;241m=\u001b[39m \u001b[43moriginal_function\u001b[49m\u001b[43m(\u001b[49m\u001b[38;5;241;43m*\u001b[39;49m\u001b[43margs\u001b[49m\u001b[43m,\u001b[49m\u001b[43m \u001b[49m\u001b[38;5;241;43m*\u001b[39;49m\u001b[38;5;241;43m*\u001b[39;49m\u001b[43mkwargs\u001b[49m\u001b[43m)\u001b[49m\n\u001b[1;32m   1092\u001b[0m end_time \u001b[38;5;241m=\u001b[39m datetime\u001b[38;5;241m.\u001b[39mdatetime\u001b[38;5;241m.\u001b[39mnow()\n\u001b[1;32m   1093\u001b[0m \u001b[38;5;28;01mif\u001b[39;00m \u001b[38;5;124m\"\u001b[39m\u001b[38;5;124mstream\u001b[39m\u001b[38;5;124m\"\u001b[39m \u001b[38;5;129;01min\u001b[39;00m kwargs \u001b[38;5;129;01mand\u001b[39;00m kwargs[\u001b[38;5;124m\"\u001b[39m\u001b[38;5;124mstream\u001b[39m\u001b[38;5;124m\"\u001b[39m] \u001b[38;5;129;01mis\u001b[39;00m \u001b[38;5;28;01mTrue\u001b[39;00m:\n",
      "File \u001b[0;32m~/Sync/Roam/Areas/Uni/Dissertation/auto-screen/.venv/lib/python3.10/site-packages/litellm/main.py:2848\u001b[0m, in \u001b[0;36mcompletion\u001b[0;34m(model, messages, timeout, temperature, top_p, n, stream, stream_options, stop, max_completion_tokens, max_tokens, modalities, prediction, audio, presence_penalty, frequency_penalty, logit_bias, user, reasoning_effort, response_format, seed, tools, tool_choice, logprobs, top_logprobs, parallel_tool_calls, deployment_id, extra_headers, functions, function_call, base_url, api_version, api_key, model_list, thinking, **kwargs)\u001b[0m\n\u001b[1;32m   2841\u001b[0m api_key \u001b[38;5;241m=\u001b[39m (\n\u001b[1;32m   2842\u001b[0m     api_key\n\u001b[1;32m   2843\u001b[0m     \u001b[38;5;129;01mor\u001b[39;00m litellm\u001b[38;5;241m.\u001b[39mollama_key\n\u001b[1;32m   2844\u001b[0m     \u001b[38;5;129;01mor\u001b[39;00m os\u001b[38;5;241m.\u001b[39menviron\u001b[38;5;241m.\u001b[39mget(\u001b[38;5;124m\"\u001b[39m\u001b[38;5;124mOLLAMA_API_KEY\u001b[39m\u001b[38;5;124m\"\u001b[39m)\n\u001b[1;32m   2845\u001b[0m     \u001b[38;5;129;01mor\u001b[39;00m litellm\u001b[38;5;241m.\u001b[39mapi_key\n\u001b[1;32m   2846\u001b[0m )\n\u001b[1;32m   2847\u001b[0m \u001b[38;5;66;03m## LOGGING\u001b[39;00m\n\u001b[0;32m-> 2848\u001b[0m generator \u001b[38;5;241m=\u001b[39m \u001b[43mollama_chat\u001b[49m\u001b[38;5;241;43m.\u001b[39;49m\u001b[43mget_ollama_response\u001b[49m\u001b[43m(\u001b[49m\n\u001b[1;32m   2849\u001b[0m \u001b[43m    \u001b[49m\u001b[43mapi_base\u001b[49m\u001b[38;5;241;43m=\u001b[39;49m\u001b[43mapi_base\u001b[49m\u001b[43m,\u001b[49m\n\u001b[1;32m   2850\u001b[0m \u001b[43m    \u001b[49m\u001b[43mapi_key\u001b[49m\u001b[38;5;241;43m=\u001b[39;49m\u001b[43mapi_key\u001b[49m\u001b[43m,\u001b[49m\n\u001b[1;32m   2851\u001b[0m \u001b[43m    \u001b[49m\u001b[43mmodel\u001b[49m\u001b[38;5;241;43m=\u001b[39;49m\u001b[43mmodel\u001b[49m\u001b[43m,\u001b[49m\n\u001b[1;32m   2852\u001b[0m \u001b[43m    \u001b[49m\u001b[43mmessages\u001b[49m\u001b[38;5;241;43m=\u001b[39;49m\u001b[43mmessages\u001b[49m\u001b[43m,\u001b[49m\n\u001b[1;32m   2853\u001b[0m \u001b[43m    \u001b[49m\u001b[43moptional_params\u001b[49m\u001b[38;5;241;43m=\u001b[39;49m\u001b[43moptional_params\u001b[49m\u001b[43m,\u001b[49m\n\u001b[1;32m   2854\u001b[0m \u001b[43m    \u001b[49m\u001b[43mlogging_obj\u001b[49m\u001b[38;5;241;43m=\u001b[39;49m\u001b[43mlogging\u001b[49m\u001b[43m,\u001b[49m\n\u001b[1;32m   2855\u001b[0m \u001b[43m    \u001b[49m\u001b[43macompletion\u001b[49m\u001b[38;5;241;43m=\u001b[39;49m\u001b[43macompletion\u001b[49m\u001b[43m,\u001b[49m\n\u001b[1;32m   2856\u001b[0m \u001b[43m    \u001b[49m\u001b[43mmodel_response\u001b[49m\u001b[38;5;241;43m=\u001b[39;49m\u001b[43mmodel_response\u001b[49m\u001b[43m,\u001b[49m\n\u001b[1;32m   2857\u001b[0m \u001b[43m    \u001b[49m\u001b[43mencoding\u001b[49m\u001b[38;5;241;43m=\u001b[39;49m\u001b[43mencoding\u001b[49m\u001b[43m,\u001b[49m\n\u001b[1;32m   2858\u001b[0m \u001b[43m    \u001b[49m\u001b[43mclient\u001b[49m\u001b[38;5;241;43m=\u001b[39;49m\u001b[43mclient\u001b[49m\u001b[43m,\u001b[49m\n\u001b[1;32m   2859\u001b[0m \u001b[43m\u001b[49m\u001b[43m)\u001b[49m\n\u001b[1;32m   2860\u001b[0m \u001b[38;5;28;01mif\u001b[39;00m acompletion \u001b[38;5;129;01mis\u001b[39;00m \u001b[38;5;28;01mTrue\u001b[39;00m \u001b[38;5;129;01mor\u001b[39;00m optional_params\u001b[38;5;241m.\u001b[39mget(\u001b[38;5;124m\"\u001b[39m\u001b[38;5;124mstream\u001b[39m\u001b[38;5;124m\"\u001b[39m, \u001b[38;5;28;01mFalse\u001b[39;00m) \u001b[38;5;129;01mis\u001b[39;00m \u001b[38;5;28;01mTrue\u001b[39;00m:\n\u001b[1;32m   2861\u001b[0m     \u001b[38;5;28;01mreturn\u001b[39;00m generator\n",
      "File \u001b[0;32m~/Sync/Roam/Areas/Uni/Dissertation/auto-screen/.venv/lib/python3.10/site-packages/litellm/llms/ollama_chat.py:313\u001b[0m, in \u001b[0;36mget_ollama_response\u001b[0;34m(model_response, messages, optional_params, model, logging_obj, api_base, api_key, acompletion, encoding, client)\u001b[0m\n\u001b[1;32m    311\u001b[0m \u001b[38;5;28;01mif\u001b[39;00m client \u001b[38;5;129;01mis\u001b[39;00m \u001b[38;5;129;01mnot\u001b[39;00m \u001b[38;5;28;01mNone\u001b[39;00m \u001b[38;5;129;01mand\u001b[39;00m \u001b[38;5;28misinstance\u001b[39m(client, HTTPHandler):\n\u001b[1;32m    312\u001b[0m     sync_client \u001b[38;5;241m=\u001b[39m client\n\u001b[0;32m--> 313\u001b[0m response \u001b[38;5;241m=\u001b[39m \u001b[43msync_client\u001b[49m\u001b[38;5;241;43m.\u001b[39;49m\u001b[43mpost\u001b[49m\u001b[43m(\u001b[49m\n\u001b[1;32m    314\u001b[0m \u001b[43m    \u001b[49m\u001b[43murl\u001b[49m\u001b[38;5;241;43m=\u001b[39;49m\u001b[43murl\u001b[49m\u001b[43m,\u001b[49m\n\u001b[1;32m    315\u001b[0m \u001b[43m    \u001b[49m\u001b[43mjson\u001b[49m\u001b[38;5;241;43m=\u001b[39;49m\u001b[43mdata\u001b[49m\u001b[43m,\u001b[49m\n\u001b[1;32m    316\u001b[0m \u001b[43m    \u001b[49m\u001b[43mheaders\u001b[49m\u001b[38;5;241;43m=\u001b[39;49m\u001b[43mheaders\u001b[49m\u001b[43m,\u001b[49m\n\u001b[1;32m    317\u001b[0m \u001b[43m\u001b[49m\u001b[43m)\u001b[49m\n\u001b[1;32m    318\u001b[0m \u001b[38;5;28;01mif\u001b[39;00m response\u001b[38;5;241m.\u001b[39mstatus_code \u001b[38;5;241m!=\u001b[39m \u001b[38;5;241m200\u001b[39m:\n\u001b[1;32m    319\u001b[0m     \u001b[38;5;28;01mraise\u001b[39;00m OllamaError(status_code\u001b[38;5;241m=\u001b[39mresponse\u001b[38;5;241m.\u001b[39mstatus_code, message\u001b[38;5;241m=\u001b[39mresponse\u001b[38;5;241m.\u001b[39mtext)\n",
      "File \u001b[0;32m~/Sync/Roam/Areas/Uni/Dissertation/auto-screen/.venv/lib/python3.10/site-packages/litellm/llms/custom_httpx/http_handler.py:537\u001b[0m, in \u001b[0;36mHTTPHandler.post\u001b[0;34m(self, url, data, json, params, headers, stream, timeout, files, content, logging_obj)\u001b[0m\n\u001b[1;32m    533\u001b[0m \u001b[38;5;28;01melse\u001b[39;00m:\n\u001b[1;32m    534\u001b[0m     req \u001b[38;5;241m=\u001b[39m \u001b[38;5;28mself\u001b[39m\u001b[38;5;241m.\u001b[39mclient\u001b[38;5;241m.\u001b[39mbuild_request(\n\u001b[1;32m    535\u001b[0m         \u001b[38;5;124m\"\u001b[39m\u001b[38;5;124mPOST\u001b[39m\u001b[38;5;124m\"\u001b[39m, url, data\u001b[38;5;241m=\u001b[39mdata, json\u001b[38;5;241m=\u001b[39mjson, params\u001b[38;5;241m=\u001b[39mparams, headers\u001b[38;5;241m=\u001b[39mheaders, files\u001b[38;5;241m=\u001b[39mfiles, content\u001b[38;5;241m=\u001b[39mcontent  \u001b[38;5;66;03m# type: ignore\u001b[39;00m\n\u001b[1;32m    536\u001b[0m     )\n\u001b[0;32m--> 537\u001b[0m response \u001b[38;5;241m=\u001b[39m \u001b[38;5;28;43mself\u001b[39;49m\u001b[38;5;241;43m.\u001b[39;49m\u001b[43mclient\u001b[49m\u001b[38;5;241;43m.\u001b[39;49m\u001b[43msend\u001b[49m\u001b[43m(\u001b[49m\u001b[43mreq\u001b[49m\u001b[43m,\u001b[49m\u001b[43m \u001b[49m\u001b[43mstream\u001b[49m\u001b[38;5;241;43m=\u001b[39;49m\u001b[43mstream\u001b[49m\u001b[43m)\u001b[49m\n\u001b[1;32m    538\u001b[0m response\u001b[38;5;241m.\u001b[39mraise_for_status()\n\u001b[1;32m    539\u001b[0m \u001b[38;5;28;01mreturn\u001b[39;00m response\n",
      "File \u001b[0;32m~/Sync/Roam/Areas/Uni/Dissertation/auto-screen/.venv/lib/python3.10/site-packages/httpx/_client.py:914\u001b[0m, in \u001b[0;36mClient.send\u001b[0;34m(self, request, stream, auth, follow_redirects)\u001b[0m\n\u001b[1;32m    910\u001b[0m \u001b[38;5;28mself\u001b[39m\u001b[38;5;241m.\u001b[39m_set_timeout(request)\n\u001b[1;32m    912\u001b[0m auth \u001b[38;5;241m=\u001b[39m \u001b[38;5;28mself\u001b[39m\u001b[38;5;241m.\u001b[39m_build_request_auth(request, auth)\n\u001b[0;32m--> 914\u001b[0m response \u001b[38;5;241m=\u001b[39m \u001b[38;5;28;43mself\u001b[39;49m\u001b[38;5;241;43m.\u001b[39;49m\u001b[43m_send_handling_auth\u001b[49m\u001b[43m(\u001b[49m\n\u001b[1;32m    915\u001b[0m \u001b[43m    \u001b[49m\u001b[43mrequest\u001b[49m\u001b[43m,\u001b[49m\n\u001b[1;32m    916\u001b[0m \u001b[43m    \u001b[49m\u001b[43mauth\u001b[49m\u001b[38;5;241;43m=\u001b[39;49m\u001b[43mauth\u001b[49m\u001b[43m,\u001b[49m\n\u001b[1;32m    917\u001b[0m \u001b[43m    \u001b[49m\u001b[43mfollow_redirects\u001b[49m\u001b[38;5;241;43m=\u001b[39;49m\u001b[43mfollow_redirects\u001b[49m\u001b[43m,\u001b[49m\n\u001b[1;32m    918\u001b[0m \u001b[43m    \u001b[49m\u001b[43mhistory\u001b[49m\u001b[38;5;241;43m=\u001b[39;49m\u001b[43m[\u001b[49m\u001b[43m]\u001b[49m\u001b[43m,\u001b[49m\n\u001b[1;32m    919\u001b[0m \u001b[43m\u001b[49m\u001b[43m)\u001b[49m\n\u001b[1;32m    920\u001b[0m \u001b[38;5;28;01mtry\u001b[39;00m:\n\u001b[1;32m    921\u001b[0m     \u001b[38;5;28;01mif\u001b[39;00m \u001b[38;5;129;01mnot\u001b[39;00m stream:\n",
      "File \u001b[0;32m~/Sync/Roam/Areas/Uni/Dissertation/auto-screen/.venv/lib/python3.10/site-packages/httpx/_client.py:942\u001b[0m, in \u001b[0;36mClient._send_handling_auth\u001b[0;34m(self, request, auth, follow_redirects, history)\u001b[0m\n\u001b[1;32m    939\u001b[0m request \u001b[38;5;241m=\u001b[39m \u001b[38;5;28mnext\u001b[39m(auth_flow)\n\u001b[1;32m    941\u001b[0m \u001b[38;5;28;01mwhile\u001b[39;00m \u001b[38;5;28;01mTrue\u001b[39;00m:\n\u001b[0;32m--> 942\u001b[0m     response \u001b[38;5;241m=\u001b[39m \u001b[38;5;28;43mself\u001b[39;49m\u001b[38;5;241;43m.\u001b[39;49m\u001b[43m_send_handling_redirects\u001b[49m\u001b[43m(\u001b[49m\n\u001b[1;32m    943\u001b[0m \u001b[43m        \u001b[49m\u001b[43mrequest\u001b[49m\u001b[43m,\u001b[49m\n\u001b[1;32m    944\u001b[0m \u001b[43m        \u001b[49m\u001b[43mfollow_redirects\u001b[49m\u001b[38;5;241;43m=\u001b[39;49m\u001b[43mfollow_redirects\u001b[49m\u001b[43m,\u001b[49m\n\u001b[1;32m    945\u001b[0m \u001b[43m        \u001b[49m\u001b[43mhistory\u001b[49m\u001b[38;5;241;43m=\u001b[39;49m\u001b[43mhistory\u001b[49m\u001b[43m,\u001b[49m\n\u001b[1;32m    946\u001b[0m \u001b[43m    \u001b[49m\u001b[43m)\u001b[49m\n\u001b[1;32m    947\u001b[0m     \u001b[38;5;28;01mtry\u001b[39;00m:\n\u001b[1;32m    948\u001b[0m         \u001b[38;5;28;01mtry\u001b[39;00m:\n",
      "File \u001b[0;32m~/Sync/Roam/Areas/Uni/Dissertation/auto-screen/.venv/lib/python3.10/site-packages/httpx/_client.py:979\u001b[0m, in \u001b[0;36mClient._send_handling_redirects\u001b[0;34m(self, request, follow_redirects, history)\u001b[0m\n\u001b[1;32m    976\u001b[0m \u001b[38;5;28;01mfor\u001b[39;00m hook \u001b[38;5;129;01min\u001b[39;00m \u001b[38;5;28mself\u001b[39m\u001b[38;5;241m.\u001b[39m_event_hooks[\u001b[38;5;124m\"\u001b[39m\u001b[38;5;124mrequest\u001b[39m\u001b[38;5;124m\"\u001b[39m]:\n\u001b[1;32m    977\u001b[0m     hook(request)\n\u001b[0;32m--> 979\u001b[0m response \u001b[38;5;241m=\u001b[39m \u001b[38;5;28;43mself\u001b[39;49m\u001b[38;5;241;43m.\u001b[39;49m\u001b[43m_send_single_request\u001b[49m\u001b[43m(\u001b[49m\u001b[43mrequest\u001b[49m\u001b[43m)\u001b[49m\n\u001b[1;32m    980\u001b[0m \u001b[38;5;28;01mtry\u001b[39;00m:\n\u001b[1;32m    981\u001b[0m     \u001b[38;5;28;01mfor\u001b[39;00m hook \u001b[38;5;129;01min\u001b[39;00m \u001b[38;5;28mself\u001b[39m\u001b[38;5;241m.\u001b[39m_event_hooks[\u001b[38;5;124m\"\u001b[39m\u001b[38;5;124mresponse\u001b[39m\u001b[38;5;124m\"\u001b[39m]:\n",
      "File \u001b[0;32m~/Sync/Roam/Areas/Uni/Dissertation/auto-screen/.venv/lib/python3.10/site-packages/httpx/_client.py:1014\u001b[0m, in \u001b[0;36mClient._send_single_request\u001b[0;34m(self, request)\u001b[0m\n\u001b[1;32m   1009\u001b[0m     \u001b[38;5;28;01mraise\u001b[39;00m \u001b[38;5;167;01mRuntimeError\u001b[39;00m(\n\u001b[1;32m   1010\u001b[0m         \u001b[38;5;124m\"\u001b[39m\u001b[38;5;124mAttempted to send an async request with a sync Client instance.\u001b[39m\u001b[38;5;124m\"\u001b[39m\n\u001b[1;32m   1011\u001b[0m     )\n\u001b[1;32m   1013\u001b[0m \u001b[38;5;28;01mwith\u001b[39;00m request_context(request\u001b[38;5;241m=\u001b[39mrequest):\n\u001b[0;32m-> 1014\u001b[0m     response \u001b[38;5;241m=\u001b[39m \u001b[43mtransport\u001b[49m\u001b[38;5;241;43m.\u001b[39;49m\u001b[43mhandle_request\u001b[49m\u001b[43m(\u001b[49m\u001b[43mrequest\u001b[49m\u001b[43m)\u001b[49m\n\u001b[1;32m   1016\u001b[0m \u001b[38;5;28;01massert\u001b[39;00m \u001b[38;5;28misinstance\u001b[39m(response\u001b[38;5;241m.\u001b[39mstream, SyncByteStream)\n\u001b[1;32m   1018\u001b[0m response\u001b[38;5;241m.\u001b[39mrequest \u001b[38;5;241m=\u001b[39m request\n",
      "File \u001b[0;32m~/Sync/Roam/Areas/Uni/Dissertation/auto-screen/.venv/lib/python3.10/site-packages/httpx/_transports/default.py:250\u001b[0m, in \u001b[0;36mHTTPTransport.handle_request\u001b[0;34m(self, request)\u001b[0m\n\u001b[1;32m    237\u001b[0m req \u001b[38;5;241m=\u001b[39m httpcore\u001b[38;5;241m.\u001b[39mRequest(\n\u001b[1;32m    238\u001b[0m     method\u001b[38;5;241m=\u001b[39mrequest\u001b[38;5;241m.\u001b[39mmethod,\n\u001b[1;32m    239\u001b[0m     url\u001b[38;5;241m=\u001b[39mhttpcore\u001b[38;5;241m.\u001b[39mURL(\n\u001b[0;32m   (...)\u001b[0m\n\u001b[1;32m    247\u001b[0m     extensions\u001b[38;5;241m=\u001b[39mrequest\u001b[38;5;241m.\u001b[39mextensions,\n\u001b[1;32m    248\u001b[0m )\n\u001b[1;32m    249\u001b[0m \u001b[38;5;28;01mwith\u001b[39;00m map_httpcore_exceptions():\n\u001b[0;32m--> 250\u001b[0m     resp \u001b[38;5;241m=\u001b[39m \u001b[38;5;28;43mself\u001b[39;49m\u001b[38;5;241;43m.\u001b[39;49m\u001b[43m_pool\u001b[49m\u001b[38;5;241;43m.\u001b[39;49m\u001b[43mhandle_request\u001b[49m\u001b[43m(\u001b[49m\u001b[43mreq\u001b[49m\u001b[43m)\u001b[49m\n\u001b[1;32m    252\u001b[0m \u001b[38;5;28;01massert\u001b[39;00m \u001b[38;5;28misinstance\u001b[39m(resp\u001b[38;5;241m.\u001b[39mstream, typing\u001b[38;5;241m.\u001b[39mIterable)\n\u001b[1;32m    254\u001b[0m \u001b[38;5;28;01mreturn\u001b[39;00m Response(\n\u001b[1;32m    255\u001b[0m     status_code\u001b[38;5;241m=\u001b[39mresp\u001b[38;5;241m.\u001b[39mstatus,\n\u001b[1;32m    256\u001b[0m     headers\u001b[38;5;241m=\u001b[39mresp\u001b[38;5;241m.\u001b[39mheaders,\n\u001b[1;32m    257\u001b[0m     stream\u001b[38;5;241m=\u001b[39mResponseStream(resp\u001b[38;5;241m.\u001b[39mstream),\n\u001b[1;32m    258\u001b[0m     extensions\u001b[38;5;241m=\u001b[39mresp\u001b[38;5;241m.\u001b[39mextensions,\n\u001b[1;32m    259\u001b[0m )\n",
      "File \u001b[0;32m~/Sync/Roam/Areas/Uni/Dissertation/auto-screen/.venv/lib/python3.10/site-packages/httpcore/_sync/connection_pool.py:256\u001b[0m, in \u001b[0;36mConnectionPool.handle_request\u001b[0;34m(self, request)\u001b[0m\n\u001b[1;32m    253\u001b[0m         closing \u001b[38;5;241m=\u001b[39m \u001b[38;5;28mself\u001b[39m\u001b[38;5;241m.\u001b[39m_assign_requests_to_connections()\n\u001b[1;32m    255\u001b[0m     \u001b[38;5;28mself\u001b[39m\u001b[38;5;241m.\u001b[39m_close_connections(closing)\n\u001b[0;32m--> 256\u001b[0m     \u001b[38;5;28;01mraise\u001b[39;00m exc \u001b[38;5;28;01mfrom\u001b[39;00m\u001b[38;5;250m \u001b[39m\u001b[38;5;28;01mNone\u001b[39;00m\n\u001b[1;32m    258\u001b[0m \u001b[38;5;66;03m# Return the response. Note that in this case we still have to manage\u001b[39;00m\n\u001b[1;32m    259\u001b[0m \u001b[38;5;66;03m# the point at which the response is closed.\u001b[39;00m\n\u001b[1;32m    260\u001b[0m \u001b[38;5;28;01massert\u001b[39;00m \u001b[38;5;28misinstance\u001b[39m(response\u001b[38;5;241m.\u001b[39mstream, typing\u001b[38;5;241m.\u001b[39mIterable)\n",
      "File \u001b[0;32m~/Sync/Roam/Areas/Uni/Dissertation/auto-screen/.venv/lib/python3.10/site-packages/httpcore/_sync/connection_pool.py:236\u001b[0m, in \u001b[0;36mConnectionPool.handle_request\u001b[0;34m(self, request)\u001b[0m\n\u001b[1;32m    232\u001b[0m connection \u001b[38;5;241m=\u001b[39m pool_request\u001b[38;5;241m.\u001b[39mwait_for_connection(timeout\u001b[38;5;241m=\u001b[39mtimeout)\n\u001b[1;32m    234\u001b[0m \u001b[38;5;28;01mtry\u001b[39;00m:\n\u001b[1;32m    235\u001b[0m     \u001b[38;5;66;03m# Send the request on the assigned connection.\u001b[39;00m\n\u001b[0;32m--> 236\u001b[0m     response \u001b[38;5;241m=\u001b[39m \u001b[43mconnection\u001b[49m\u001b[38;5;241;43m.\u001b[39;49m\u001b[43mhandle_request\u001b[49m\u001b[43m(\u001b[49m\n\u001b[1;32m    237\u001b[0m \u001b[43m        \u001b[49m\u001b[43mpool_request\u001b[49m\u001b[38;5;241;43m.\u001b[39;49m\u001b[43mrequest\u001b[49m\n\u001b[1;32m    238\u001b[0m \u001b[43m    \u001b[49m\u001b[43m)\u001b[49m\n\u001b[1;32m    239\u001b[0m \u001b[38;5;28;01mexcept\u001b[39;00m ConnectionNotAvailable:\n\u001b[1;32m    240\u001b[0m     \u001b[38;5;66;03m# In some cases a connection may initially be available to\u001b[39;00m\n\u001b[1;32m    241\u001b[0m     \u001b[38;5;66;03m# handle a request, but then become unavailable.\u001b[39;00m\n\u001b[1;32m    242\u001b[0m     \u001b[38;5;66;03m#\u001b[39;00m\n\u001b[1;32m    243\u001b[0m     \u001b[38;5;66;03m# In this case we clear the connection and try again.\u001b[39;00m\n\u001b[1;32m    244\u001b[0m     pool_request\u001b[38;5;241m.\u001b[39mclear_connection()\n",
      "File \u001b[0;32m~/Sync/Roam/Areas/Uni/Dissertation/auto-screen/.venv/lib/python3.10/site-packages/httpcore/_sync/connection.py:103\u001b[0m, in \u001b[0;36mHTTPConnection.handle_request\u001b[0;34m(self, request)\u001b[0m\n\u001b[1;32m    100\u001b[0m     \u001b[38;5;28mself\u001b[39m\u001b[38;5;241m.\u001b[39m_connect_failed \u001b[38;5;241m=\u001b[39m \u001b[38;5;28;01mTrue\u001b[39;00m\n\u001b[1;32m    101\u001b[0m     \u001b[38;5;28;01mraise\u001b[39;00m exc\n\u001b[0;32m--> 103\u001b[0m \u001b[38;5;28;01mreturn\u001b[39;00m \u001b[38;5;28;43mself\u001b[39;49m\u001b[38;5;241;43m.\u001b[39;49m\u001b[43m_connection\u001b[49m\u001b[38;5;241;43m.\u001b[39;49m\u001b[43mhandle_request\u001b[49m\u001b[43m(\u001b[49m\u001b[43mrequest\u001b[49m\u001b[43m)\u001b[49m\n",
      "File \u001b[0;32m~/Sync/Roam/Areas/Uni/Dissertation/auto-screen/.venv/lib/python3.10/site-packages/httpcore/_sync/http11.py:136\u001b[0m, in \u001b[0;36mHTTP11Connection.handle_request\u001b[0;34m(self, request)\u001b[0m\n\u001b[1;32m    134\u001b[0m     \u001b[38;5;28;01mwith\u001b[39;00m Trace(\u001b[38;5;124m\"\u001b[39m\u001b[38;5;124mresponse_closed\u001b[39m\u001b[38;5;124m\"\u001b[39m, logger, request) \u001b[38;5;28;01mas\u001b[39;00m trace:\n\u001b[1;32m    135\u001b[0m         \u001b[38;5;28mself\u001b[39m\u001b[38;5;241m.\u001b[39m_response_closed()\n\u001b[0;32m--> 136\u001b[0m \u001b[38;5;28;01mraise\u001b[39;00m exc\n",
      "File \u001b[0;32m~/Sync/Roam/Areas/Uni/Dissertation/auto-screen/.venv/lib/python3.10/site-packages/httpcore/_sync/http11.py:106\u001b[0m, in \u001b[0;36mHTTP11Connection.handle_request\u001b[0;34m(self, request)\u001b[0m\n\u001b[1;32m     95\u001b[0m     \u001b[38;5;28;01mpass\u001b[39;00m\n\u001b[1;32m     97\u001b[0m \u001b[38;5;28;01mwith\u001b[39;00m Trace(\n\u001b[1;32m     98\u001b[0m     \u001b[38;5;124m\"\u001b[39m\u001b[38;5;124mreceive_response_headers\u001b[39m\u001b[38;5;124m\"\u001b[39m, logger, request, kwargs\n\u001b[1;32m     99\u001b[0m ) \u001b[38;5;28;01mas\u001b[39;00m trace:\n\u001b[1;32m    100\u001b[0m     (\n\u001b[1;32m    101\u001b[0m         http_version,\n\u001b[1;32m    102\u001b[0m         status,\n\u001b[1;32m    103\u001b[0m         reason_phrase,\n\u001b[1;32m    104\u001b[0m         headers,\n\u001b[1;32m    105\u001b[0m         trailing_data,\n\u001b[0;32m--> 106\u001b[0m     ) \u001b[38;5;241m=\u001b[39m \u001b[38;5;28;43mself\u001b[39;49m\u001b[38;5;241;43m.\u001b[39;49m\u001b[43m_receive_response_headers\u001b[49m\u001b[43m(\u001b[49m\u001b[38;5;241;43m*\u001b[39;49m\u001b[38;5;241;43m*\u001b[39;49m\u001b[43mkwargs\u001b[49m\u001b[43m)\u001b[49m\n\u001b[1;32m    107\u001b[0m     trace\u001b[38;5;241m.\u001b[39mreturn_value \u001b[38;5;241m=\u001b[39m (\n\u001b[1;32m    108\u001b[0m         http_version,\n\u001b[1;32m    109\u001b[0m         status,\n\u001b[1;32m    110\u001b[0m         reason_phrase,\n\u001b[1;32m    111\u001b[0m         headers,\n\u001b[1;32m    112\u001b[0m     )\n\u001b[1;32m    114\u001b[0m network_stream \u001b[38;5;241m=\u001b[39m \u001b[38;5;28mself\u001b[39m\u001b[38;5;241m.\u001b[39m_network_stream\n",
      "File \u001b[0;32m~/Sync/Roam/Areas/Uni/Dissertation/auto-screen/.venv/lib/python3.10/site-packages/httpcore/_sync/http11.py:177\u001b[0m, in \u001b[0;36mHTTP11Connection._receive_response_headers\u001b[0;34m(self, request)\u001b[0m\n\u001b[1;32m    174\u001b[0m timeout \u001b[38;5;241m=\u001b[39m timeouts\u001b[38;5;241m.\u001b[39mget(\u001b[38;5;124m\"\u001b[39m\u001b[38;5;124mread\u001b[39m\u001b[38;5;124m\"\u001b[39m, \u001b[38;5;28;01mNone\u001b[39;00m)\n\u001b[1;32m    176\u001b[0m \u001b[38;5;28;01mwhile\u001b[39;00m \u001b[38;5;28;01mTrue\u001b[39;00m:\n\u001b[0;32m--> 177\u001b[0m     event \u001b[38;5;241m=\u001b[39m \u001b[38;5;28;43mself\u001b[39;49m\u001b[38;5;241;43m.\u001b[39;49m\u001b[43m_receive_event\u001b[49m\u001b[43m(\u001b[49m\u001b[43mtimeout\u001b[49m\u001b[38;5;241;43m=\u001b[39;49m\u001b[43mtimeout\u001b[49m\u001b[43m)\u001b[49m\n\u001b[1;32m    178\u001b[0m     \u001b[38;5;28;01mif\u001b[39;00m \u001b[38;5;28misinstance\u001b[39m(event, h11\u001b[38;5;241m.\u001b[39mResponse):\n\u001b[1;32m    179\u001b[0m         \u001b[38;5;28;01mbreak\u001b[39;00m\n",
      "File \u001b[0;32m~/Sync/Roam/Areas/Uni/Dissertation/auto-screen/.venv/lib/python3.10/site-packages/httpcore/_sync/http11.py:217\u001b[0m, in \u001b[0;36mHTTP11Connection._receive_event\u001b[0;34m(self, timeout)\u001b[0m\n\u001b[1;32m    214\u001b[0m     event \u001b[38;5;241m=\u001b[39m \u001b[38;5;28mself\u001b[39m\u001b[38;5;241m.\u001b[39m_h11_state\u001b[38;5;241m.\u001b[39mnext_event()\n\u001b[1;32m    216\u001b[0m \u001b[38;5;28;01mif\u001b[39;00m event \u001b[38;5;129;01mis\u001b[39;00m h11\u001b[38;5;241m.\u001b[39mNEED_DATA:\n\u001b[0;32m--> 217\u001b[0m     data \u001b[38;5;241m=\u001b[39m \u001b[38;5;28;43mself\u001b[39;49m\u001b[38;5;241;43m.\u001b[39;49m\u001b[43m_network_stream\u001b[49m\u001b[38;5;241;43m.\u001b[39;49m\u001b[43mread\u001b[49m\u001b[43m(\u001b[49m\n\u001b[1;32m    218\u001b[0m \u001b[43m        \u001b[49m\u001b[38;5;28;43mself\u001b[39;49m\u001b[38;5;241;43m.\u001b[39;49m\u001b[43mREAD_NUM_BYTES\u001b[49m\u001b[43m,\u001b[49m\u001b[43m \u001b[49m\u001b[43mtimeout\u001b[49m\u001b[38;5;241;43m=\u001b[39;49m\u001b[43mtimeout\u001b[49m\n\u001b[1;32m    219\u001b[0m \u001b[43m    \u001b[49m\u001b[43m)\u001b[49m\n\u001b[1;32m    221\u001b[0m     \u001b[38;5;66;03m# If we feed this case through h11 we'll raise an exception like:\u001b[39;00m\n\u001b[1;32m    222\u001b[0m     \u001b[38;5;66;03m#\u001b[39;00m\n\u001b[1;32m    223\u001b[0m     \u001b[38;5;66;03m#     httpcore.RemoteProtocolError: can't handle event type\u001b[39;00m\n\u001b[0;32m   (...)\u001b[0m\n\u001b[1;32m    227\u001b[0m     \u001b[38;5;66;03m# perspective. Instead we handle this case distinctly and treat\u001b[39;00m\n\u001b[1;32m    228\u001b[0m     \u001b[38;5;66;03m# it as a ConnectError.\u001b[39;00m\n\u001b[1;32m    229\u001b[0m     \u001b[38;5;28;01mif\u001b[39;00m data \u001b[38;5;241m==\u001b[39m \u001b[38;5;124mb\u001b[39m\u001b[38;5;124m\"\u001b[39m\u001b[38;5;124m\"\u001b[39m \u001b[38;5;129;01mand\u001b[39;00m \u001b[38;5;28mself\u001b[39m\u001b[38;5;241m.\u001b[39m_h11_state\u001b[38;5;241m.\u001b[39mtheir_state \u001b[38;5;241m==\u001b[39m h11\u001b[38;5;241m.\u001b[39mSEND_RESPONSE:\n",
      "File \u001b[0;32m~/Sync/Roam/Areas/Uni/Dissertation/auto-screen/.venv/lib/python3.10/site-packages/httpcore/_backends/sync.py:128\u001b[0m, in \u001b[0;36mSyncStream.read\u001b[0;34m(self, max_bytes, timeout)\u001b[0m\n\u001b[1;32m    126\u001b[0m \u001b[38;5;28;01mwith\u001b[39;00m map_exceptions(exc_map):\n\u001b[1;32m    127\u001b[0m     \u001b[38;5;28mself\u001b[39m\u001b[38;5;241m.\u001b[39m_sock\u001b[38;5;241m.\u001b[39msettimeout(timeout)\n\u001b[0;32m--> 128\u001b[0m     \u001b[38;5;28;01mreturn\u001b[39;00m \u001b[38;5;28;43mself\u001b[39;49m\u001b[38;5;241;43m.\u001b[39;49m\u001b[43m_sock\u001b[49m\u001b[38;5;241;43m.\u001b[39;49m\u001b[43mrecv\u001b[49m\u001b[43m(\u001b[49m\u001b[43mmax_bytes\u001b[49m\u001b[43m)\u001b[49m\n",
      "\u001b[0;31mKeyboardInterrupt\u001b[0m: "
     ]
    }
   ],
   "source": [
    "for sr_id, data in devset.items():\n",
    "    sr_title, data = data[0], data[1:][0]\n",
    "    print(f\"Systematic Review: {sr_id}\")\n",
    "    f1_evaluate(ClassifyByInclusionExclusion(sr_title), data, validate_criteria_based_answer)"
   ]
  },
  {
   "cell_type": "code",
   "execution_count": 96,
   "id": "30ce8546-8d3f-4236-aa9e-a2fb24a0f538",
   "metadata": {},
   "outputs": [],
   "source": [
    "gen_criteria = dspy.ChainOfThought(InclusionExclusionCriteria)"
   ]
  },
  {
   "cell_type": "code",
   "execution_count": 104,
   "id": "37c1d733-301b-478c-961a-884e3041570e",
   "metadata": {},
   "outputs": [
    {
     "data": {
      "text/plain": [
       "{'study_design': 'The study must be a systematic review, meta-analysis, or a rigorous literature review that explicitly describes the methods used to identify, select, and analyze relevant studies.',\n",
       " 'fault_prediction_focus': 'The study must focus on predicting software faults, defects, or bugs.',\n",
       " 'software_domain': 'The study must investigate fault prediction in any software development domain (e.g., embedded systems, web applications, mobile apps, etc.).',\n",
       " 'data_sources': 'The study must utilize a quantifiable dataset for training and testing the fault prediction models. The dataset should be publicly available or clearly described.',\n",
       " 'model_types': 'The study must evaluate at least one fault prediction model, including but not limited to: machine learning models (e.g., logistic regression, support vector machines, neural networks), statistical models, or rule-based systems.',\n",
       " 'performance_metrics': 'The study must report relevant performance metrics for evaluating the fault prediction models, such as precision, recall, F1-score, AUC, or accuracy.',\n",
       " 'reporting_standards': 'The study must adhere to established reporting guidelines for systematic reviews, such as PRISMA.'}"
      ]
     },
     "execution_count": 104,
     "metadata": {},
     "output_type": "execute_result"
    }
   ],
   "source": [
    "gen_criteria(systematic_review_title=test_title).criteria"
   ]
  },
  {
   "cell_type": "markdown",
   "id": "228842e4-ce45-4268-b090-397f8990f4eb",
   "metadata": {},
   "source": [
    "## Separating Inclusion/Exclusion Generation"
   ]
  },
  {
   "cell_type": "code",
   "execution_count": 119,
   "id": "7478d9cc-fd47-48ef-ace5-086d2a08e9a3",
   "metadata": {},
   "outputs": [],
   "source": [
    "# define a new signature for inclusion criteria generation\n",
    "class InclusionCriteria(dspy.Signature):\n",
    "    \"\"\"Output a set of inclusion criteria a prospective citation must meet to be included in the systematic review.\"\"\"\n",
    "\n",
    "    systematic_review_title: str = dspy.InputField()\n",
    "    criteria: dict[str, str] = dspy.OutputField(desc=\"Inclusion criteria and their descrptions.\")\n",
    "    \n",
    "# define a new signature for inclusion criteria generation\n",
    "class ExclusionCriteria(dspy.Signature):\n",
    "    \"\"\"Output a set of exclusion criteria a prospective citation must meet to be included in the systematic review.\"\"\"\n",
    "\n",
    "    systematic_review_title: str = dspy.InputField()\n",
    "    criteria: dict[str, str] = dspy.OutputField(desc=\"Exclusion criteria and their descrptions.\")\n",
    "\n",
    "class CriteriaBasedRelevance(dspy.Signature):\n",
    "    \"\"\"Classify a prospective citation's relevance to a systematic review based on inclusion/exclusion criteria satisfiability.\"\"\"\n",
    "\n",
    "    inclusion_satisfiability: dict[str, bool] = dspy.InputField()\n",
    "    exclusion_satisfiability: dict[str, bool] = dspy.InputField()\n",
    "\n",
    "    relevant: bool = dspy.OutputField()\n",
    "    confidence: float = dspy.OutputField()"
   ]
  },
  {
   "cell_type": "code",
   "execution_count": 141,
   "id": "e6156745-f686-4259-8a00-9e8809adc70c",
   "metadata": {},
   "outputs": [],
   "source": [
    "# custom module for pipeline\n",
    "class ClassifyByInclusionExclusion(dspy.Module):\n",
    "    def __init__(self, sr_title: str):\n",
    "        self.systematic_review_title = sr_title\n",
    "        self.generate_inclusion_criteria = dspy.ChainOfThought(InclusionCriteria)\n",
    "        self.generate_exclusion_criteria = dspy.ChainOfThought(ExclusionCriteria)\n",
    "        self.evaluate_criteria = dspy.ChainOfThought(CheckCriteriaMatch)\n",
    "    def forward(self, citation_title: str, citation_abstract: str):\n",
    "        inclusion_criteria = self.generate_inclusion_criteria(\n",
    "            systematic_review_title=self.systematic_review_title\n",
    "        ).criteria\n",
    "        exclusion_criteria = self.generate_exclusion_criteria(\n",
    "            systematic_review_title=self.systematic_review_title\n",
    "        ).criteria\n",
    "        \n",
    "        pred = dspy.Prediction()\n",
    "        pred.inclusion_satisfiability = self.evaluate_criteria(criteria=inclusion_criteria,\n",
    "                                                          citation_title=citation_title,\n",
    "                                                          citation_abstract=citation_abstract)\n",
    "        \n",
    "        pred.exclusion_satisfiability = self.evaluate_criteria(criteria=exclusion_criteria,\n",
    "                                                          citation_title=citation_title,\n",
    "                                                          citation_abstract=citation_abstract)\n",
    "        return pred"
   ]
  },
  {
   "cell_type": "code",
   "execution_count": 121,
   "id": "cf0461c6-47d3-4055-aabb-6f6f2d90ef32",
   "metadata": {},
   "outputs": [
    {
     "name": "stdout",
     "output_type": "stream",
     "text": [
      "Systematic Review: Hall_2012\n"
     ]
    },
    {
     "name": "stderr",
     "output_type": "stream",
     "text": [
      "F1 Score: 0.200 100%|██████████████████████████████████████████████████████████████'| 75/75 [12:01<00:00, ' ' 9.62s/it]'\n"
     ]
    },
    {
     "name": "stdout",
     "output_type": "stream",
     "text": [
      "Confusion Matrix: Counter({'FP': 55, 'TN': 12, 'TP': 7, 'FN': 1})\n",
      "Precision: 0.113\n",
      "Recall: 0.875\n",
      "F1: 0.200\n",
      "MCC: 0.044\n",
      "Specificity: 0.267\n",
      "Systematic Review: Smid_2020\n"
     ]
    },
    {
     "name": "stderr",
     "output_type": "stream",
     "text": [
      "F1 Score: 0.192 100%|██████████████████████████████████████████████████████████████'| 75/75 [11:06<00:00, ' ' 8.89s/it]'\n"
     ]
    },
    {
     "name": "stdout",
     "output_type": "stream",
     "text": [
      "Confusion Matrix: Counter({'FP': 58, 'TN': 9, 'TP': 7, 'FN': 1})\n",
      "Precision: 0.108\n",
      "Recall: 0.875\n",
      "F1: 0.192\n",
      "MCC: 0.008\n",
      "Specificity: 0.227\n",
      "Systematic Review: Radjenovic_2013\n"
     ]
    },
    {
     "name": "stderr",
     "output_type": "stream",
     "text": [
      "F1 Score: 0.235 100%|██████████████████████████████████████████████████████████████'| 75/75 [11:31<00:00, ' ' 9.22s/it]'\n"
     ]
    },
    {
     "name": "stdout",
     "output_type": "stream",
     "text": [
      "Confusion Matrix: Counter({'FP': 52, 'TN': 15, 'TP': 8})\n",
      "Precision: 0.133\n",
      "Recall: 1.000\n",
      "F1: 0.235\n",
      "MCC: 0.173\n",
      "Specificity: 0.307\n",
      "Systematic Review: Sep_2021\n"
     ]
    },
    {
     "name": "stderr",
     "output_type": "stream",
     "text": [
      "F1 Score: 0.193 100%|██████████████████████████████████████████████████████████████'| 75/75 [11:24<00:00, ' ' 9.12s/it]'"
     ]
    },
    {
     "name": "stdout",
     "output_type": "stream",
     "text": [
      "Confusion Matrix: Counter({'FP': 67, 'TP': 8})\n",
      "Precision: 0.107\n",
      "Recall: 1.000\n",
      "F1: 0.193\n",
      "MCC: nan\n",
      "Specificity: 0.107\n"
     ]
    },
    {
     "name": "stderr",
     "output_type": "stream",
     "text": [
      "\n"
     ]
    }
   ],
   "source": [
    "for sr_id, data in devset.items():\n",
    "    sr_title, data = data[0], data[1:][0]\n",
    "    print(f\"Systematic Review: {sr_id}\")\n",
    "    f1_evaluate(ClassifyByInclusionExclusion(sr_title), data, confusion_validate)"
   ]
  },
  {
   "cell_type": "code",
   "execution_count": 165,
   "id": "6d1e5b4d-bac4-4f9e-ac1a-63854e342dd8",
   "metadata": {},
   "outputs": [],
   "source": [
    "# a metric that will only return True if all criteria are met\n",
    "def validate_dual_criteria_based_answer(example, \n",
    "                                        pred, \n",
    "                                        trace=None) -> str | bool: \n",
    "    satisfied_inclusions = pred.inclusion_satisfiability.satisfied.values()\n",
    "    satisfied_exclusions = pred.exclusion_satisfiability.satisfied.values()\n",
    "\n",
    "    # majority \n",
    "    n_satisfied_inclusions = len(list(filter(lambda x: x, satisfied_inclusions)))\n",
    "    pred.relevant = (n_satisfied_inclusions > len(satisfied_inclusions)//2) and not any(satisfied_exclusions)\n",
    "    #print(f\"Inclusions: {satisfied_inclusions}\")\n",
    "    #print(f\"Exclusions: {satisfied_exclusions}\")\n",
    "    #print(f\"Is relevant? {pred.relevant}\")\n",
    "    #print()\n",
    "\n",
    "    return confusion_validate(example, pred, trace=trace)"
   ]
  },
  {
   "cell_type": "code",
   "execution_count": 166,
   "id": "2e5f5da3-d9a7-4358-9ede-ffff135d209c",
   "metadata": {},
   "outputs": [
    {
     "name": "stdout",
     "output_type": "stream",
     "text": [
      "Systematic Review: Hall_2012\n"
     ]
    },
    {
     "name": "stderr",
     "output_type": "stream",
     "text": [
      "F1 Score: 0.125 100%|█████████████████████████████████████████████████████████████'| 75/75 [00:00<00:00, ' '187.82it/s]'\n"
     ]
    },
    {
     "name": "stdout",
     "output_type": "stream",
     "text": [
      "Confusion Matrix: Counter({'TN': 60, 'FP': 7, 'FN': 7, 'TP': 1})\n",
      "Precision: 0.125\n",
      "Recall: 0.125\n",
      "F1: 0.125\n",
      "MCC: 0.021\n",
      "Specificity: 0.907\n",
      "Systematic Review: Smid_2020\n"
     ]
    },
    {
     "name": "stderr",
     "output_type": "stream",
     "text": [
      "F1 Score: nan 100%|███████████████████████████████████████████████████████████████'| 75/75 [00:00<00:00, ' '245.47it/s]'\n"
     ]
    },
    {
     "name": "stdout",
     "output_type": "stream",
     "text": [
      "Confusion Matrix: Counter({'TN': 65, 'FN': 8, 'FP': 2})\n",
      "Precision: 0.000\n",
      "Recall: 0.000\n",
      "F1: nan\n",
      "MCC: -0.057\n",
      "Specificity: 0.973\n",
      "Systematic Review: Radjenovic_2013\n"
     ]
    },
    {
     "name": "stderr",
     "output_type": "stream",
     "text": [
      "F1 Score: nan 100%|███████████████████████████████████████████████████████████████'| 75/75 [00:00<00:00, ' '278.10it/s]'\n"
     ]
    },
    {
     "name": "stdout",
     "output_type": "stream",
     "text": [
      "Confusion Matrix: Counter({'TN': 58, 'FP': 9, 'FN': 8})\n",
      "Precision: 0.000\n",
      "Recall: 0.000\n",
      "F1: nan\n",
      "MCC: -0.128\n",
      "Specificity: 0.880\n",
      "Systematic Review: Sep_2021\n"
     ]
    },
    {
     "name": "stderr",
     "output_type": "stream",
     "text": [
      "F1 Score: nan 100%|███████████████████████████████████████████████████████████████'| 75/75 [00:00<00:00, ' '332.87it/s]'"
     ]
    },
    {
     "name": "stdout",
     "output_type": "stream",
     "text": [
      "Confusion Matrix: Counter({'TN': 67, 'FN': 8})\n",
      "Precision: nan\n",
      "Recall: 0.000\n",
      "F1: nan\n",
      "MCC: nan\n",
      "Specificity: 1.000\n"
     ]
    },
    {
     "name": "stderr",
     "output_type": "stream",
     "text": [
      "\n"
     ]
    }
   ],
   "source": [
    "for sr_id, data in devset.items():\n",
    "    sr_title, data = data[0], data[1:][0]\n",
    "    print(f\"Systematic Review: {sr_id}\")\n",
    "    f1_evaluate(ClassifyByInclusionExclusion(sr_title), data, validate_dual_criteria_based_answer)"
   ]
  },
  {
   "cell_type": "markdown",
   "id": "d5ce3110-5117-4e62-b67d-4b87e92f121b",
   "metadata": {},
   "source": [
    "## Not great...\n",
    "What if we do the whole: inclusion satisfiability + exclusion satisfiability"
   ]
  },
  {
   "cell_type": "code",
   "execution_count": 134,
   "id": "da5783f7-4b37-4126-a897-b806c674710a",
   "metadata": {},
   "outputs": [],
   "source": [
    "# define a new signature for inclusion/exclusion criteria generation\n",
    "class InclusionExclusionCriteria(dspy.Signature):\n",
    "    \"\"\"Output a set of inclusion/exclusion criteria a prospective citation must meet to be included in the systematic review.\"\"\"\n",
    "\n",
    "    systematic_review_title: str = dspy.InputField()\n",
    "    inclusion_criteria: dict[str, str] = dspy.OutputField(desc=\"Inclusion criteria and their descrptions.\")\n",
    "    exclusion_criteria: dict[str, str] = dspy.OutputField(desc=\"Exclusion criteria and their descrptions.\")\n",
    "\n",
    "# custom module for pipeline\n",
    "class ClassifyByInclusionExclusion(dspy.Module):\n",
    "    def __init__(self, sr_title: str):\n",
    "        self.systematic_review_title = sr_title\n",
    "        self.generate_criteria = dspy.ChainOfThought(InclusionExclusionCriteria)\n",
    "        self.evaluate_criteria = dspy.ChainOfThought(CheckCriteriaMatch)\n",
    "    def forward(self, citation_title: str, citation_abstract: str):\n",
    "        criteria = self.generate_criteria(\n",
    "            systematic_review_title=self.systematic_review_title\n",
    "        ).criteria\n",
    "        return self.evaluate_criteria(criteria=criteria,\n",
    "                                      citation_title=citation_title,\n",
    "                                      citation_abstract=citation_abstract)"
   ]
  },
  {
   "cell_type": "code",
   "execution_count": 135,
   "id": "5079a53d-365c-4749-ad6d-42de3beb653c",
   "metadata": {},
   "outputs": [],
   "source": [
    "pred = dspy.ChainOfThought(InclusionExclusionCriteria)(systematic_review_title=test_title)"
   ]
  },
  {
   "cell_type": "code",
   "execution_count": 137,
   "id": "79c4cf6e-35c2-4088-aabb-02c1a0fcecd8",
   "metadata": {},
   "outputs": [
    {
     "data": {
      "text/plain": [
       "{'Dataset Size': 'Studies utilizing datasets of sufficient size to allow for meaningful statistical analysis (generally > 1000 software units, but this will be assessed on a case-by-case basis).',\n",
       " 'Fault Prediction Technique': 'Studies evaluating any established or emerging fault prediction technique, including but not limited to static analysis, machine learning, and data mining approaches.',\n",
       " 'Performance Metrics': 'Studies reporting quantifiable performance metrics such as precision, recall, F1-score, AUC, or similar measures of accuracy and effectiveness.',\n",
       " 'Evaluation Methodology': 'Studies employing a controlled evaluation methodology, including baseline comparisons and/or cross-validation techniques.',\n",
       " 'Software Domain': 'Studies focusing on a variety of software domains (e.g., web applications, mobile applications, embedded systems) to ensure broad applicability.',\n",
       " 'Publication Type': 'Studies published in peer-reviewed journals or conference proceedings.'}"
      ]
     },
     "execution_count": 137,
     "metadata": {},
     "output_type": "execute_result"
    }
   ],
   "source": [
    "pred.inclusion_criteria"
   ]
  },
  {
   "cell_type": "code",
   "execution_count": 138,
   "id": "10a5d932-b671-49fd-8efe-d8ae5430c029",
   "metadata": {},
   "outputs": [
    {
     "data": {
      "text/plain": [
       "{'Lack of Quantitative Data': 'Studies lacking sufficient quantitative data to assess performance (e.g., purely qualitative case studies).',\n",
       " 'Unclear Methodology': 'Studies with poorly defined or unclear methodologies, making it difficult to replicate or interpret the results.',\n",
       " 'Small Dataset Size': 'Studies utilizing datasets too small to allow for meaningful statistical analysis (< 100 software units).',\n",
       " 'Non-Reproducible Results': 'Studies where the methodology is not clearly described, preventing replication of the findings.',\n",
       " 'Grey Literature Only': 'Studies found only in grey literature (e.g., internal reports, blog posts) without a published peer-reviewed version.'}"
      ]
     },
     "execution_count": 138,
     "metadata": {},
     "output_type": "execute_result"
    }
   ],
   "source": [
    "pred.exclusion_criteria"
   ]
  },
  {
   "cell_type": "code",
   "execution_count": null,
   "id": "eb49bb75-d795-4a5e-8e3e-f5331aade09d",
   "metadata": {},
   "outputs": [],
   "source": []
  }
 ],
 "metadata": {
  "kernelspec": {
   "display_name": "auto-screen",
   "language": "python",
   "name": "auto-screen"
  },
  "language_info": {
   "codemirror_mode": {
    "name": "ipython",
    "version": 3
   },
   "file_extension": ".py",
   "mimetype": "text/x-python",
   "name": "python",
   "nbconvert_exporter": "python",
   "pygments_lexer": "ipython3",
   "version": "3.10.16"
  }
 },
 "nbformat": 4,
 "nbformat_minor": 5
}
